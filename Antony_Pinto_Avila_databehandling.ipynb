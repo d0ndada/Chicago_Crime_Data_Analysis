{
 "cells": [
  {
   "cell_type": "markdown",
   "metadata": {},
   "source": [
    "**Import needed libraries**"
   ]
  },
  {
   "cell_type": "code",
   "execution_count": null,
   "metadata": {},
   "outputs": [],
   "source": [
    "import pandas as pd\n",
    "import seaborn as sns\n",
    "import plotly_express as px\n",
    "from datetime import datetime\n",
    "import plotly.graph_objects as go\n",
    "import matplotlib.ticker as ticker\n",
    "from matplotlib.ticker import StrMethodFormatter\n",
    "from matplotlib.ticker import MaxNLocator\n",
    "import matplotlib.pyplot as plt\n",
    "\n",
    "import warnings\n",
    "\n",
    "warnings.filterwarnings('ignore')"
   ]
  },
  {
   "cell_type": "markdown",
   "metadata": {},
   "source": [
    "## 1 - Warming up"
   ]
  },
  {
   "cell_type": "markdown",
   "metadata": {},
   "source": [
    "This project will be centered around the Chicago Crime & selected Census data. Start of by downloading both datasets."
   ]
  },
  {
   "cell_type": "markdown",
   "metadata": {},
   "source": [
    "**1.1** Read through the documentation for both datasets. Do this *thoroughly*!\n",
    "\n",
    "Chicago crime data : https://data.cityofchicago.org/Public-Safety/Crimes-2001-to-Present/ijzp-q8t2\n",
    "\n",
    "Chicago census data : https://data.cityofchicago.org/Health-Human-Services/Census-Data-Selected-socioeconomic-indicators-in-C/kn9c-c2s2\n",
    "\n"
   ]
  },
  {
   "cell_type": "markdown",
   "metadata": {},
   "source": [
    "**1.2** Now download both datasets as .csv files. You get the option to download by frist clicking on the 'Export' tab. Be mindful that the crime dataset is over 2GB in size, so it might take awhile to download.\n",
    "\n",
    "Once downloaded, rename the files chicago_crime.csv & chicago_census.csv, respectively, and put them in the same folder as this notebook."
   ]
  },
  {
   "cell_type": "markdown",
   "metadata": {},
   "source": [
    "**1.3** Load data. The following reads should now work."
   ]
  },
  {
   "cell_type": "code",
   "execution_count": null,
   "metadata": {},
   "outputs": [],
   "source": [
    "chicago_crime_2001_to_2023_df = pd.read_csv('chicago_crime.csv')\n",
    "chicago_census_2008_to_2012_df = pd.read_csv('chicago_census.csv')"
   ]
  },
  {
   "cell_type": "markdown",
   "metadata": {},
   "source": [
    "**1.4** The census data already contains records that apply for the period 2008-2012. Now filter the crime data so that it also contains records only for the years in that period. \n",
    "\n",
    "Hint: You probably need to work with the existing Date column. Transform the values from strings to datetime-objects. This operation shouldn't take more than a minute or so using .apply()\n",
    "\n",
    "**Important:** For the rest of this project, we will only work with data for the year 2008-2012."
   ]
  },
  {
   "cell_type": "code",
   "execution_count": null,
   "metadata": {},
   "outputs": [],
   "source": [
    "def formatDate(day):\n",
    "    input_us_time = \"%m/%d/%Y %I:%M:%S %p\"\n",
    "    output = datetime.strptime(day,input_us_time)\n",
    "    return output\n",
    "\n",
    "def barplot_df(df,x:str,y:str,title:str,xlabel:str,ylabel:str, value_of_bar:str,palette=\"coolwarm\"):\n",
    "    plt.figure(figsize=(10, 6))\n",
    "    sns.set_style(\"whitegrid\")\n",
    "    sns.set_context(\"talk\")  \n",
    "    sns.barplot(x=x, y=y, data=df, palette=palette)\n",
    "\n",
    "    plt.title(title, fontsize=16)\n",
    "    plt.xlabel(xlabel, fontsize=15)\n",
    "    plt.ylabel(ylabel, fontsize=15)\n",
    "    for index, value in enumerate(df[value_of_bar]):\n",
    "        plt.text(index, value, str(value), color='black', ha=\"center\", va=\"bottom\")\n",
    "\n",
    "\n",
    "    sns.despine(left=False, bottom=False)\n",
    "\n",
    "    plt.grid(axis='x')\n",
    "\n",
    "\n",
    "    plt.xticks(rotation=45)\n",
    "  \n",
    "    plt.tight_layout()\n",
    "\n",
    "    plt.show()\n"
   ]
  },
  {
   "cell_type": "code",
   "execution_count": null,
   "metadata": {},
   "outputs": [],
   "source": [
    "chicago_crime_2008_to_2012_df = chicago_crime_2001_to_2023_df[(chicago_crime_2001_to_2023_df[\"Year\"] >= 2008) & (chicago_crime_2001_to_2023_df[\"Year\"] <= 2012) ].reset_index(drop=True)"
   ]
  },
  {
   "cell_type": "code",
   "execution_count": null,
   "metadata": {},
   "outputs": [],
   "source": [
    "chicago_crime_2008_to_2012_df[\"Date\"] = pd.to_datetime(chicago_crime_2008_to_2012_df[\"Date\"], format=\"%m/%d/%Y %I:%M:%S %p\") \n"
   ]
  },
  {
   "cell_type": "markdown",
   "metadata": {},
   "source": [
    "# 2 - Cleaning up the mess"
   ]
  },
  {
   "cell_type": "markdown",
   "metadata": {},
   "source": [
    "**Note:** The rest of the problems don't really require you to finish this section - you could revisit these questions at a later time. \n",
    "\n",
    "Bear in mind though that the numbers you aquire in the problems ahead may or may not change a bit, depending on how you choose to treat the duplicates and missing values here.  "
   ]
  },
  {
   "cell_type": "code",
   "execution_count": null,
   "metadata": {},
   "outputs": [],
   "source": [
    "def barplot_missing_values(data_frame):\n",
    "    \n",
    "    df_null_counts = data_frame.isnull().sum()\n",
    "    df_null_counts = df_null_counts[df_null_counts > 0 ]  \n",
    "        \n",
    "    plt.figure(figsize=(15, 8))\n",
    "    \n",
    "    bars = sns.barplot(x=df_null_counts.index, y=df_null_counts.values, palette='coolwarm_r')\n",
    "\n",
    "    for bar in bars.patches:\n",
    "        bar_height = bar.get_height()\n",
    "        plt.text(bar.get_x() + bar.get_width() / 2, bar_height, f'{int(bar_height)}',\n",
    "                 ha='center', va='bottom', fontsize=10, color='black')\n",
    "\n",
    "    plt.title(\"Missing Values in Each Column\", fontsize=18, weight='bold')\n",
    "    plt.xlabel(\"Columns\", fontsize=14)\n",
    "    plt.ylabel(\"Number of Missing Values\", fontsize=14)\n",
    "    \n",
    "    sns.despine(left=True, bottom=True)  \n",
    "    plt.xticks(rotation=45, ha='right', fontsize=12)  \n",
    "    plt.yticks(fontsize=12)\n",
    "    \n",
    "    plt.tight_layout()\n",
    "\n",
    "    plt.show()\n"
   ]
  },
  {
   "cell_type": "markdown",
   "metadata": {},
   "source": [
    "---"
   ]
  },
  {
   "cell_type": "markdown",
   "metadata": {},
   "source": [
    "**2.1** How many duplicated rows are there in crime data set? If there are any, remove them."
   ]
  },
  {
   "cell_type": "code",
   "execution_count": null,
   "metadata": {},
   "outputs": [],
   "source": [
    "duplicates =chicago_crime_2008_to_2012_df.duplicated().sum()\n",
    "print(f\"There are {duplicates} duplicates in the chicage crime\")"
   ]
  },
  {
   "cell_type": "markdown",
   "metadata": {},
   "source": [
    "---\n"
   ]
  },
  {
   "cell_type": "markdown",
   "metadata": {},
   "source": [
    "**2.2** What columns in the crime dataset has missing values, and how many are they?"
   ]
  },
  {
   "cell_type": "code",
   "execution_count": null,
   "metadata": {},
   "outputs": [],
   "source": [
    "non_values =  chicago_crime_2008_to_2012_df.isnull().sum()"
   ]
  },
  {
   "cell_type": "code",
   "execution_count": null,
   "metadata": {},
   "outputs": [],
   "source": [
    "missing_values = non_values[non_values > 0]\n",
    "print(f\"There are {missing_values.sum()} missing values in total, take a look at the chart below\")\n",
    "barplot_missing_values(chicago_crime_2008_to_2012_df)"
   ]
  },
  {
   "cell_type": "markdown",
   "metadata": {},
   "source": [
    "---"
   ]
  },
  {
   "cell_type": "markdown",
   "metadata": {},
   "source": [
    "**2.3*** Now, for all the columns with missing values you've identified, chose on of the following:\n",
    "\n",
    "        a) remove the entire row with the missing value\n",
    "        b) replace the missing values with another suitable value\n",
    "        c) don't do anything, leave the missing values as is\n",
    "\n",
    "All options above are completely valid! However, I want you to, for all columns with missing values, **clearly** argue for why you chose to do what you do."
   ]
  },
  {
   "cell_type": "markdown",
   "metadata": {},
   "source": [
    "I have chossen to keep the missing values becasue even if some crimes are missing details they still have som data that conludes that the crime has still occured and removing then or altering could change the data whole."
   ]
  },
  {
   "cell_type": "markdown",
   "metadata": {},
   "source": [
    "---"
   ]
  },
  {
   "cell_type": "markdown",
   "metadata": {},
   "source": [
    "## 3 - The Birds Eye"
   ]
  },
  {
   "cell_type": "markdown",
   "metadata": {},
   "source": [
    "**3.1** Do some exploratory analysis on the dataset and try to get a sense of the data you're working with."
   ]
  },
  {
   "cell_type": "code",
   "execution_count": null,
   "metadata": {},
   "outputs": [],
   "source": [
    "# no need to provide an answer to this questions in the notebook you send in"
   ]
  },
  {
   "cell_type": "markdown",
   "metadata": {},
   "source": [
    "---"
   ]
  },
  {
   "cell_type": "markdown",
   "metadata": {},
   "source": [
    "**3.2** How many crimes records exists for the period 2008-2012, in total?"
   ]
  },
  {
   "cell_type": "code",
   "execution_count": null,
   "metadata": {},
   "outputs": [],
   "source": [
    "print(f\"There are {len(chicago_crime_2008_to_2012_df):,.0f} crime recorded in Chicago between 2008-2019\")"
   ]
  },
  {
   "cell_type": "markdown",
   "metadata": {},
   "source": [
    "---"
   ]
  },
  {
   "cell_type": "markdown",
   "metadata": {},
   "source": [
    "**3.3** What's the number of recorded crimes for each of the years, individually? "
   ]
  },
  {
   "cell_type": "code",
   "execution_count": null,
   "metadata": {},
   "outputs": [],
   "source": [
    "chicago_crime_recorded_2008_to_2012_serie = chicago_crime_2008_to_2012_df['Year'].value_counts()\n",
    "chicago_crime_recorded_2008_to_2012_dt = pd.DataFrame(chicago_crime_recorded_2008_to_2012_serie).reset_index()"
   ]
  },
  {
   "cell_type": "code",
   "execution_count": null,
   "metadata": {},
   "outputs": [],
   "source": [
    "barplot_df(chicago_crime_recorded_2008_to_2012_dt,\"Year\",\"count\",\"Recorded Crimes in Chicago(2008-2012)\",\"Year\",\"Number of Recorded Crimes\",\"count\",\"Blues_r\")"
   ]
  },
  {
   "cell_type": "markdown",
   "metadata": {},
   "source": [
    "---"
   ]
  },
  {
   "cell_type": "markdown",
   "metadata": {},
   "source": [
    "**3.4** Has the number of recorded crimes increased, decreased or remained stable throughout the years?"
   ]
  },
  {
   "cell_type": "code",
   "execution_count": null,
   "metadata": {},
   "outputs": [],
   "source": [
    "sns.set_theme(style=\"whitegrid\")\n",
    "\n",
    "plt.figure(figsize=(10, 6))\n",
    "ax = sns.lineplot(data=chicago_crime_recorded_2008_to_2012_dt, y=\"count\", x=\"Year\",\n",
    "                  marker=\"o\", color=\"royalblue\", linewidth=2.5)\n",
    "\n",
    "ax.xaxis.set_major_locator(MaxNLocator(integer=True))  \n",
    "ax.set_title('Crime Count Over Years in Chicago', fontsize=16, fontweight=\"bold\")\n",
    "ax.set_xlabel('Year', fontsize=14)\n",
    "ax.set_ylabel('Number of Crimes', fontsize=14)\n",
    "\n",
    "ax.set_title('Crime Count Over Years in Chicago', fontsize=20, fontweight=\"bold\", pad=20)\n",
    "ax.set_xlabel('Year', fontsize=16, labelpad=10)\n",
    "ax.set_ylabel('Number of Crimes', fontsize=16, labelpad=10)\n",
    "\n",
    "ax.tick_params(labelsize=14)\n",
    "\n",
    "for x, y in zip(chicago_crime_recorded_2008_to_2012_dt['Year'], chicago_crime_recorded_2008_to_2012_dt['count']):\n",
    "    ax.text(x+0.2, y+2000, f'{y:,.0f}', color='black', ha='center', va='bottom')\n",
    "\n",
    "highlight = 2010\n",
    "ax.annotate('Highlight Year', xy=(highlight, chicago_crime_recorded_2008_to_2012_dt.loc[chicago_crime_recorded_2008_to_2012_dt['Year'] == highlight, 'count']),\n",
    "            xytext=(highlight, chicago_crime_recorded_2008_to_2012_dt['count'].max() + 50),\n",
    "            arrowprops=dict(facecolor='red', shrink=0.05),\n",
    "            ha='center', color='red')\n",
    "\n",
    "\n",
    "sns.despine()\n",
    "\n",
    "plt.tight_layout()\n",
    "plt.show()\n"
   ]
  },
  {
   "cell_type": "markdown",
   "metadata": {},
   "source": [
    "Here you can see that it's decresing over time and i have higlighet 2010 becasue it is after recession "
   ]
  },
  {
   "cell_type": "markdown",
   "metadata": {},
   "source": [
    "---"
   ]
  },
  {
   "cell_type": "markdown",
   "metadata": {},
   "source": [
    "**3.5** By how many percentage points has the crime rate increased/decreased during the period? \n",
    "\n",
    "Hint: You only need to compare the number of crime records from 2008 with the number of crime records from 2012."
   ]
  },
  {
   "cell_type": "code",
   "execution_count": null,
   "metadata": {},
   "outputs": [],
   "source": [
    "procentage_decreased = round((chicago_crime_recorded_2008_to_2012_serie.values[0] - chicago_crime_recorded_2008_to_2012_serie.values[-1] )/ chicago_crime_recorded_2008_to_2012_serie.values[0] * 100\n",
    ",2)\n",
    "print(f\"The crime rate has deacreased with {procentage_decreased}% from 2008 to 2012\")"
   ]
  },
  {
   "cell_type": "markdown",
   "metadata": {},
   "source": [
    "---"
   ]
  },
  {
   "cell_type": "markdown",
   "metadata": {},
   "source": [
    "**3.6** Which primary crime types have increasing crime record numbers, and which ones have decreasing, when comparing 2008 to 2012?"
   ]
  },
  {
   "cell_type": "code",
   "execution_count": null,
   "metadata": {},
   "outputs": [],
   "source": [
    "chicago_crime_2008_df= chicago_crime_2008_to_2012_df[chicago_crime_2008_to_2012_df[\"Year\"] == 2008]\n",
    "chicago_crime_2012_df= chicago_crime_2008_to_2012_df[chicago_crime_2008_to_2012_df[\"Year\"] == 2012]\n"
   ]
  },
  {
   "cell_type": "code",
   "execution_count": null,
   "metadata": {},
   "outputs": [],
   "source": [
    "chicago_crime_2008_serie_primary_type = chicago_crime_2008_df[\"Primary Type\"].value_counts()\n",
    "chicago_crime_2008_per_type_df = pd.DataFrame(chicago_crime_2008_serie_primary_type).reset_index()\n"
   ]
  },
  {
   "cell_type": "code",
   "execution_count": null,
   "metadata": {},
   "outputs": [],
   "source": [
    "chicago_crime_2012_serie_primary_type = chicago_crime_2012_df[\"Primary Type\"].value_counts()\n",
    "chicago_crime_2012_per_type_df = pd.DataFrame(chicago_crime_2012_serie_primary_type).reset_index()\n"
   ]
  },
  {
   "cell_type": "code",
   "execution_count": null,
   "metadata": {},
   "outputs": [],
   "source": [
    "chicago_crime_2012_per_type_df.rename(columns={\"count\": \"Count 2012\"}, inplace=True)\n",
    "chicago_crime_2008_per_type_df.rename(columns={\"count\": \"Count 2008\"}, inplace=True)\n"
   ]
  },
  {
   "cell_type": "code",
   "execution_count": null,
   "metadata": {},
   "outputs": [],
   "source": [
    "merged_08_and_12 = pd.merge(chicago_crime_2008_per_type_df,chicago_crime_2012_per_type_df, on=\"Primary Type\")\n"
   ]
  },
  {
   "cell_type": "code",
   "execution_count": null,
   "metadata": {},
   "outputs": [],
   "source": [
    "difference_08_and_12 = merged_08_and_12[\"Count 2012\"] - merged_08_and_12[\"Count 2008\"] "
   ]
  },
  {
   "cell_type": "code",
   "execution_count": null,
   "metadata": {},
   "outputs": [],
   "source": [
    "merged_08_and_12[\"Difference 2008-2012\"] = difference_08_and_12\n"
   ]
  },
  {
   "cell_type": "code",
   "execution_count": null,
   "metadata": {},
   "outputs": [],
   "source": [
    "merged_08_and_12 = merged_08_and_12.sort_values(by=\"Difference 2008-2012\", ascending=False)"
   ]
  },
  {
   "cell_type": "code",
   "execution_count": null,
   "metadata": {},
   "outputs": [],
   "source": [
    "merged_08_and_12['Percentage Change'] = round(((merged_08_and_12['Count 2012'] - merged_08_and_12['Count 2008']) / merged_08_and_12['Count 2008']) * 100,2)"
   ]
  },
  {
   "cell_type": "code",
   "execution_count": null,
   "metadata": {},
   "outputs": [],
   "source": [
    "df_positive = merged_08_and_12[merged_08_and_12['Difference 2008-2012'] > 0]\n",
    "df_negative = merged_08_and_12[merged_08_and_12['Difference 2008-2012'] < 0]"
   ]
  },
  {
   "cell_type": "code",
   "execution_count": null,
   "metadata": {},
   "outputs": [],
   "source": [
    "fig, (ax1, ax2) = plt.subplots(1, 2, figsize=(18, 8))\n",
    "\n",
    "max_range = max(df_negative['Difference 2008-2012'].abs().max(), df_positive['Difference 2008-2012'].max())\n",
    "ax1.set_xlim(-max_range, 0)  \n",
    "ax2.set_xlim(0, max_range)   \n",
    "\n",
    "df_negative.plot(kind='barh', x='Primary Type', y='Difference 2008-2012', ax=ax1, color='r', legend=False)\n",
    "ax1.set_title('Decrease in Crime Counts from 2008 to 2012')\n",
    "ax1.set_xlabel('Difference in Counts')\n",
    "ax1.set_ylabel('Crime Type')\n",
    "for index, value in enumerate(df_negative['Difference 2008-2012']):\n",
    "    ax1.text(value, index, str(value))\n",
    "\n",
    "df_positive.plot(kind='barh', x='Primary Type', y='Difference 2008-2012', ax=ax2, color='g', legend=False)\n",
    "ax2.set_title('Increase in Crime Counts from 2008 to 2012')\n",
    "ax2.set_xlabel('Difference in Counts')\n",
    "ax2.set_ylabel('')\n",
    "for index, value in enumerate(df_positive['Difference 2008-2012']):\n",
    "    ax2.text(value, index, str(value))\n",
    "\n",
    "ax1.axvline(0, color='black', linewidth=1.5)\n",
    "ax2.axvline(0, color='black', linewidth=1.5)\n",
    "\n",
    "fig.suptitle('Change in Crime Counts from 2008 to 2012', fontsize=16)\n",
    "\n",
    "plt.tight_layout()\n",
    "fig.subplots_adjust(top=0.92)\n",
    "plt.show()\n"
   ]
  },
  {
   "cell_type": "markdown",
   "metadata": {},
   "source": [
    "  \n",
    "\n",
    "---\n",
    "\n"
   ]
  },
  {
   "cell_type": "markdown",
   "metadata": {},
   "source": [
    "**3.7*** Which are the top 5 primary crime types in terms of increasing crime records between 2008 and 2012? Which are the top 5 primary crime types in terms of *percentual* increase? \n",
    "\n",
    "Are the top 5 lists you just produced different? If so, why?   "
   ]
  },
  {
   "cell_type": "code",
   "execution_count": null,
   "metadata": {},
   "outputs": [],
   "source": [
    "sorted_by_increase_merged_08_and_12 = merged_08_and_12.sort_values(by=\"Difference 2008-2012\",ascending=False)"
   ]
  },
  {
   "cell_type": "code",
   "execution_count": null,
   "metadata": {},
   "outputs": [],
   "source": [
    "filter_merged_08_and_12_positive=sorted_by_increase_merged_08_and_12[\"Difference 2008-2012\"] > 0\n",
    "sorted_by_increase_merged_08_and_12= sorted_by_increase_merged_08_and_12[filter_merged_08_and_12_positive]\n"
   ]
  },
  {
   "cell_type": "code",
   "execution_count": null,
   "metadata": {},
   "outputs": [],
   "source": [
    "top_5_highest_merged_08_and_12 = sorted_by_increase_merged_08_and_12.head(5)\n",
    "highest_percent_merged_08_and_12 = merged_08_and_12.sort_values(by=\"Percentage Change\",ascending=False)\n",
    "top_5_highest_percent_merged_08_and_12 =highest_percent_merged_08_and_12.head(5)"
   ]
  },
  {
   "cell_type": "code",
   "execution_count": null,
   "metadata": {},
   "outputs": [],
   "source": [
    "print(f\"The plot shows differently because of the count of crimes dont take in fact the actual increase of it starting value,\\n which percentage do that is why the differs \")\n",
    "fig, (ax1, ax2) = plt.subplots(1, 2, figsize=(18, 8), gridspec_kw={'width_ratios': [1, 1]})\n",
    "\n",
    "ax1.barh(top_5_highest_merged_08_and_12['Primary Type'], top_5_highest_merged_08_and_12['Difference 2008-2012'], color='skyblue')\n",
    "ax1.set_title('Absolute Increase in Crime Counts')\n",
    "ax1.set_xlabel('Increase in Counts')\n",
    "ax1.invert_yaxis()   \n",
    "for i in ax1.patches:\n",
    "    ax1.text(i.get_width()+.3, i.get_y()+.38, \\\n",
    "             str(round((i.get_width()), 2)), fontsize=15, color='dimgrey')\n",
    "\n",
    "ax2.barh(top_5_highest_percent_merged_08_and_12['Primary Type'], top_5_highest_percent_merged_08_and_12['Percentage Change'], color='lightgreen')\n",
    "ax2.set_title('Percentage Increase in Crime Counts')\n",
    "ax2.set_xlabel('Percentage Increase')\n",
    "ax2.invert_yaxis()  \n",
    "for i in ax2.patches:\n",
    "    ax2.text(i.get_width()+.3, i.get_y()+.38, \\\n",
    "             str(round((i.get_width()), 2)), fontsize=15, color='dimgrey')\n",
    "\n",
    "plt.yticks(fontsize=18) \n",
    "fig.suptitle('Comparison of Crime Count Increases (Absolute vs. Percentage)', fontsize=20)\n",
    "plt.tight_layout()  \n",
    "\n",
    "\n",
    "plt.show()\n"
   ]
  },
  {
   "cell_type": "markdown",
   "metadata": {},
   "source": [
    "---"
   ]
  },
  {
   "cell_type": "markdown",
   "metadata": {},
   "source": [
    "# 4 - Chicago Police Departement performance assessment"
   ]
  },
  {
   "cell_type": "markdown",
   "metadata": {},
   "source": [
    "**4.1** How many recorded crimes have in total led to an arrest? What's the corresponding arrest percentage?"
   ]
  },
  {
   "cell_type": "code",
   "execution_count": null,
   "metadata": {},
   "outputs": [],
   "source": [
    "chicago_crime_2008_to_2012_arrests_df= chicago_crime_2008_to_2012_df[chicago_crime_2008_to_2012_df[\"Arrest\"] == True]"
   ]
  },
  {
   "cell_type": "code",
   "execution_count": null,
   "metadata": {},
   "outputs": [],
   "source": [
    "arrest_percentage= round((len(chicago_crime_2008_to_2012_arrests_df) /len(chicago_crime_2008_to_2012_df) ) * 100,2)"
   ]
  },
  {
   "cell_type": "code",
   "execution_count": null,
   "metadata": {},
   "outputs": [],
   "source": [
    "print(f\"Total arrest of {len(chicago_crime_2008_to_2012_arrests_df)} with an corresponding arrest {arrest_percentage}%\")"
   ]
  },
  {
   "cell_type": "markdown",
   "metadata": {},
   "source": [
    "---"
   ]
  },
  {
   "cell_type": "markdown",
   "metadata": {},
   "source": [
    "**4.2** Has the arrest rate percentage been increasing, decreasing or remained stable over these years?"
   ]
  },
  {
   "cell_type": "code",
   "execution_count": null,
   "metadata": {},
   "outputs": [],
   "source": [
    "merged_years_dt= pd.merge(chicago_crime_2008_to_2012_df[\"Year\"].value_counts(),chicago_crime_2008_to_2012_arrests_df[\"Year\"].value_counts(), on=\"Year\")"
   ]
  },
  {
   "cell_type": "code",
   "execution_count": null,
   "metadata": {},
   "outputs": [],
   "source": [
    "merged_years_dt = merged_years_dt.reset_index().rename(columns={\"count_x\": \"Total_crime\", \"count_y\":\"True_arrest\"})"
   ]
  },
  {
   "cell_type": "code",
   "execution_count": null,
   "metadata": {},
   "outputs": [],
   "source": [
    "merged_years_dt[\"%_per_year\"] = round((merged_years_dt[\"True_arrest\"] / merged_years_dt[\"Total_crime\"]) * 100,2 )\n"
   ]
  },
  {
   "cell_type": "code",
   "execution_count": null,
   "metadata": {},
   "outputs": [],
   "source": [
    "print(\"The Crime arrest in percentage has been at a stable range from 25 to 28 there in between\")\n",
    "\n",
    "sns.set_theme(style=\"darkgrid\")\n",
    "\n",
    "ax = sns.lineplot(data=merged_years_dt, y=\"%_per_year\", x=\"Year\", marker=\"o\", color=\"royalblue\", linewidth=2.5)\n",
    "ax.set_xticks(merged_years_dt['Year'])\n",
    "ax.set_yticks(range(0, 101, 10))  \n",
    "\n",
    "plt.ylabel('Percentage (%)', fontsize=14)  \n",
    "\n",
    "ax.yaxis.set_major_formatter(ticker.PercentFormatter())\n",
    "\n",
    "for x, y in zip(merged_years_dt['Year'], merged_years_dt['%_per_year']):\n",
    "    plt.text(x, y, '{:.2f}%'.format(y), color='black', ha=\"center\")\n",
    "\n",
    "plt.title('Crime Rate Over Years in Chicago', fontsize=16, fontweight=\"bold\")  \n",
    "plt.xlabel('Year', fontsize=14)\n",
    "\n",
    "plt.grid(True, which='major', linestyle='--', linewidth='0.5', color='grey')\n",
    "\n",
    "plt.xticks(fontsize=12)  \n",
    "plt.yticks(fontsize=12)\n",
    "\n",
    "plt.show()\n"
   ]
  },
  {
   "cell_type": "markdown",
   "metadata": {},
   "source": [
    "---"
   ]
  },
  {
   "cell_type": "markdown",
   "metadata": {},
   "source": [
    "**4.3** For the Year 2011, which month has the highest arrest percentage?"
   ]
  },
  {
   "cell_type": "code",
   "execution_count": null,
   "metadata": {},
   "outputs": [],
   "source": [
    "chicago_crime_2011_df = chicago_crime_2008_to_2012_df[chicago_crime_2008_to_2012_df[\"Year\"] == 2011].reset_index()\n",
    "chicago_crime_2011_arrests_df = chicago_crime_2011_df[chicago_crime_2011_df[\"Arrest\"] == True]"
   ]
  },
  {
   "cell_type": "code",
   "execution_count": null,
   "metadata": {},
   "outputs": [],
   "source": [
    "chicago_crime_2011_month_df=pd.DataFrame(pd.DatetimeIndex(chicago_crime_2011_df[\"Date\"]).month_name().value_counts()).reset_index()\n",
    "chicago_crime_2011_month_arrest_df= pd.DataFrame(pd.DatetimeIndex(chicago_crime_2011_arrests_df[\"Date\"]).month_name().value_counts()).reset_index()"
   ]
  },
  {
   "cell_type": "code",
   "execution_count": null,
   "metadata": {},
   "outputs": [],
   "source": [
    "chicago_total_crime_2011=pd.merge(chicago_crime_2011_month_df,chicago_crime_2011_month_arrest_df, on=\"Date\").rename(columns={\"Date\":\"month\",\"count_x\": \"crimes\",\"count_y\":\"arrests\"})"
   ]
  },
  {
   "cell_type": "code",
   "execution_count": null,
   "metadata": {},
   "outputs": [],
   "source": [
    "chicago_total_crime_2011[\"percent\"] = (chicago_total_crime_2011[\"arrests\"] / chicago_total_crime_2011[\"crimes\"]) * 100   "
   ]
  },
  {
   "cell_type": "code",
   "execution_count": null,
   "metadata": {},
   "outputs": [],
   "source": [
    "chicago_total_crime_2011 = chicago_total_crime_2011.sort_values(by=\"percent\",ascending=False).reset_index(drop=True)\n",
    "chicago_total_crime_2011[\"month\"] = chicago_total_crime_2011[\"month\"] "
   ]
  },
  {
   "cell_type": "code",
   "execution_count": null,
   "metadata": {},
   "outputs": [],
   "source": [
    "print(f\"The month with highest arrest percentage is: {chicago_total_crime_2011.head(1).month.sum()} with {round(chicago_total_crime_2011.head(1).percent.sum(),2)}%\")\n",
    "sns.set_style('whitegrid')\n",
    "\n",
    "\n",
    "plt.figure(figsize=(12, 6))\n",
    "barplot = sns.barplot(data=chicago_total_crime_2011, x='month', y='percent', palette='coolwarm')\n",
    "\n",
    "for p in barplot.patches:\n",
    "    barplot.annotate(format(p.get_height(), '.2f') + '%',\n",
    "                     (p.get_x() + p.get_width() / 2., p.get_height()),\n",
    "                     ha='center', va='center',\n",
    "                     xytext=(0, 9),\n",
    "                     textcoords='offset points')\n",
    "\n",
    "plt.title('Arrest Percentage by Month', fontsize=16)\n",
    "plt.xlabel('Month', fontsize=14)\n",
    "plt.ylabel('Arrest Percentage (%)', fontsize=14)\n",
    "plt.xticks(rotation=45)\n",
    "\n",
    "plt.show()\n"
   ]
  },
  {
   "cell_type": "markdown",
   "metadata": {},
   "source": [
    "**4.4** For the same year, and the particular month of you've identified in question 2.3, which primary crime type has the highest number of arrests?"
   ]
  },
  {
   "cell_type": "code",
   "execution_count": null,
   "metadata": {},
   "outputs": [],
   "source": [
    "chicago_crime_2011_arrests_march_df= chicago_crime_2011_arrests_df[pd.DatetimeIndex(chicago_crime_2011_arrests_df[\"Date\"]).month == 3]"
   ]
  },
  {
   "cell_type": "code",
   "execution_count": null,
   "metadata": {},
   "outputs": [],
   "source": [
    "primary_type_arrests_df= pd.DataFrame(chicago_crime_2011_arrests_march_df[\"Primary Type\"].value_counts()).reset_index()"
   ]
  },
  {
   "cell_type": "code",
   "execution_count": null,
   "metadata": {},
   "outputs": [],
   "source": [
    "print(f\"Primary crime type with highest arrests is {primary_type_arrests_df.head(1)['Primary Type'].values[0]} with {primary_type_arrests_df.head(1)['count'].values[0]} arrests cases\")\n",
    "\n",
    "plt.figure(figsize=(12, 10))\n",
    "barplot = sns.barplot(data=primary_type_arrests_df, y='Primary Type', x='count', color='skyblue')\n",
    "\n",
    "plt.xscale('log')\n",
    "\n",
    "plt.xlabel('Count (log scale)', fontsize=14)\n",
    "plt.ylabel('Primary Type', fontsize=14)\n",
    "plt.title('Count of Crimes by Primary Type (Log Scale)', fontsize=16)\n",
    "\n",
    "plt.gca()\n",
    "\n",
    "for p in barplot.patches:\n",
    "    width = p.get_width()  \n",
    "    plt.text(p.get_width(), p.get_y() + p.get_height() / 2, \n",
    "             '{:1.0f}'.format(width),  \n",
    "             va='center')  \n",
    "plt.show()\n",
    "\n"
   ]
  },
  {
   "cell_type": "markdown",
   "metadata": {},
   "source": [
    "---"
   ]
  },
  {
   "cell_type": "markdown",
   "metadata": {},
   "source": [
    "**4.5*** Which primary crime categories enjoy the highest percentual increase in number of arrests, while comparing 2008 and 2012? At what location do these arrest most often occur? Also answer, for the same prime categories, at what location the crimes that dont lead to an arrest most often occur. Can you find some interesting relations?"
   ]
  },
  {
   "cell_type": "code",
   "execution_count": null,
   "metadata": {},
   "outputs": [],
   "source": [
    "chicago_crime_2012_arrests_true_df=chicago_crime_2012_df[chicago_crime_2012_df[\"Arrest\"] == True]\n",
    "chicago_crime_2012_arrests_false_df= chicago_crime_2012_df[chicago_crime_2012_df[\"Arrest\"] == False]\n",
    "\n",
    "chicago_crime_2008_arrests_true_df= chicago_crime_2008_df[chicago_crime_2008_df[\"Arrest\"] == True]\n",
    "chicago_crime_2008_arrests_false_df= chicago_crime_2008_df[chicago_crime_2008_df[\"Arrest\"] == False]"
   ]
  },
  {
   "cell_type": "code",
   "execution_count": null,
   "metadata": {},
   "outputs": [],
   "source": [
    "chicago_crime_2012_arrests_true_type_df=chicago_crime_2012_arrests_true_df[\"Primary Type\"].value_counts()\n",
    "chicago_crime_2008_arrests_true_type_df=chicago_crime_2008_arrests_true_df[\"Primary Type\"].value_counts()\n",
    "merged_08_12_true_arrests_df = pd.merge(chicago_crime_2008_arrests_true_type_df,chicago_crime_2012_arrests_true_type_df, left_index=True, right_index=True,suffixes=['_2008', '_2012']).reset_index()"
   ]
  },
  {
   "cell_type": "code",
   "execution_count": null,
   "metadata": {},
   "outputs": [],
   "source": [
    "merged_08_12_true_arrests_df =merged_08_12_true_arrests_df.rename(columns={\"count_2008\": \"arrests_2008\",\"count_2012\": \"arrests_2012\"})\n",
    "merged_08_12_true_arrests_df[\"increase%\"] = round(((merged_08_12_true_arrests_df[\"arrests_2012\"] - merged_08_12_true_arrests_df[\"arrests_2008\"])/merged_08_12_true_arrests_df[\"arrests_2008\"]) *100,1)"
   ]
  },
  {
   "cell_type": "code",
   "execution_count": null,
   "metadata": {},
   "outputs": [],
   "source": [
    "filter_postive = merged_08_12_true_arrests_df[\"increase%\"] > 0\n",
    "merged_08_12_true_arrests_sorted_postive_df = merged_08_12_true_arrests_df[filter_postive].sort_values(by=\"increase%\", ascending=False)"
   ]
  },
  {
   "cell_type": "code",
   "execution_count": null,
   "metadata": {},
   "outputs": [],
   "source": [
    "highest_percent_primary_crime = merged_08_12_true_arrests_sorted_postive_df.value_counts()\n",
    "highest_percent_primary_crime_list = highest_percent_primary_crime.index.get_level_values(0).to_list()"
   ]
  },
  {
   "cell_type": "code",
   "execution_count": null,
   "metadata": {},
   "outputs": [],
   "source": [
    "true_arrest_12_df = chicago_crime_2012_arrests_true_df[chicago_crime_2012_arrests_true_df[\"Primary Type\"].isin(highest_percent_primary_crime_list)]\n",
    "false_arrest_12_df = chicago_crime_2012_arrests_false_df[chicago_crime_2012_arrests_false_df[\"Primary Type\"].isin(highest_percent_primary_crime_list)]"
   ]
  },
  {
   "cell_type": "code",
   "execution_count": null,
   "metadata": {},
   "outputs": [],
   "source": [
    "counted_false_df = false_arrest_12_df.groupby(['Primary Type', 'Location Description']).size().reset_index(name='Count')\n",
    "counted_true_df = true_arrest_12_df.groupby(['Primary Type', 'Location Description']).size().reset_index(name='Count')"
   ]
  },
  {
   "cell_type": "code",
   "execution_count": null,
   "metadata": {},
   "outputs": [],
   "source": [
    "pivot_true = counted_true_df.pivot_table(index='Primary Type', columns='Location Description', values='Count',).fillna(0)\n",
    "pivot_false = counted_false_df.pivot_table(index='Primary Type', columns='Location Description', values='Count',).fillna(0)"
   ]
  },
  {
   "cell_type": "code",
   "execution_count": null,
   "metadata": {},
   "outputs": [],
   "source": [
    "import plotly.graph_objects as go\n",
    "from plotly.subplots import make_subplots"
   ]
  },
  {
   "cell_type": "code",
   "execution_count": null,
   "metadata": {},
   "outputs": [],
   "source": [
    "custom_color_scale = [\n",
    "    [0, 'rgba(255, 255, 255, 1)'],\n",
    "    [1/max_color_scale_value, 'rgba(255, 255, 255, 1)'],  \n",
    "    [1/max_color_scale_value, 'rgba(0, 0, 255, 0.2)'],  \n",
    "    [1.0, 'rgba(0, 0, 255, 1)']  \n",
    "]\n",
    "\n",
    "fig = make_subplots(rows=1, cols=2, shared_yaxes=True, subplot_titles=(\"Arrests=True\", \"Arrests=False\"))\n",
    "\n",
    "fig.add_trace(\n",
    "    go.Heatmap(z=pivot_true.values, x=pivot_true.columns, y=pivot_true.index, \n",
    "               coloraxis=\"coloraxis1\"), \n",
    "    row=1, col=1\n",
    ")\n",
    "\n",
    "fig.add_trace(\n",
    "    go.Heatmap(z=pivot_false.values, x=pivot_false.columns, y=pivot_false.index, \n",
    "               coloraxis=\"coloraxis2\"),\n",
    "    row=1, col=2\n",
    ")\n",
    "\n",
    "fig.update_layout(\n",
    "    coloraxis1=dict(colorscale=custom_color_scale, cmin=0, cmax=max_color_scale_value),\n",
    "    coloraxis2=dict(colorscale=custom_color_scale, cmin=0, cmax=max_color_scale_value, showscale=True),\n",
    "    title_text='Heatmap of Crime Types by Location Description',\n",
    "    height=600,  \n",
    "    width=1200,  \n",
    ")\n",
    "\n",
    "fig.show()\n",
    "print(f\"The interesting by comparing arrest on false and true Deceptive Practice most arrest and most non arrest \\n PUBLIC INDECENCY does not have any record of crimes where arrests is false.\\n  Some places are in both heatmaps which would suggest high crimes in the locations \")"
   ]
  },
  {
   "cell_type": "markdown",
   "metadata": {},
   "source": [
    "# 5 - Troubles at home"
   ]
  },
  {
   "cell_type": "markdown",
   "metadata": {},
   "source": [
    "**5.1** How many recorded crimes are domestic?"
   ]
  },
  {
   "cell_type": "code",
   "execution_count": null,
   "metadata": {},
   "outputs": [],
   "source": [
    "domestic_true_08_to_12_df = chicago_crime_2008_to_2012_df[chicago_crime_2008_to_2012_df[\"Domestic\"]== True]"
   ]
  },
  {
   "cell_type": "code",
   "execution_count": null,
   "metadata": {},
   "outputs": [],
   "source": [
    "domestic_count= domestic_true_08_to_12_df[\"Domestic\"].value_counts()"
   ]
  },
  {
   "cell_type": "code",
   "execution_count": null,
   "metadata": {},
   "outputs": [],
   "source": [
    "print(f\"There are {domestic_count.sum()} {domestic_count.index.name} recorded crimes\")"
   ]
  },
  {
   "cell_type": "markdown",
   "metadata": {},
   "source": [
    "---"
   ]
  },
  {
   "cell_type": "markdown",
   "metadata": {},
   "source": [
    "**5.2** How many recorded crimes, of the primary type *offense involving children*, are domestic?"
   ]
  },
  {
   "cell_type": "code",
   "execution_count": null,
   "metadata": {},
   "outputs": [],
   "source": [
    "domestic_children_08_to_12_df= domestic_true_08_to_12_df[domestic_true_08_to_12_df[\"Primary Type\"] == \"OFFENSE INVOLVING CHILDREN\"]\n",
    "all_domestic_children_08_to_12_df= chicago_crime_2008_to_2012_df[chicago_crime_2008_to_2012_df[\"Primary Type\"] == \"OFFENSE INVOLVING CHILDREN\"]"
   ]
  },
  {
   "cell_type": "code",
   "execution_count": null,
   "metadata": {},
   "outputs": [],
   "source": [
    "domestic_children_crimes= domestic_children_08_to_12_df[\"Primary Type\"].value_counts()"
   ]
  },
  {
   "cell_type": "code",
   "execution_count": null,
   "metadata": {},
   "outputs": [],
   "source": [
    "print(f\"There are {domestic_children_crimes.sum()} recorded crimes with Primary type: {domestic_children_crimes.index[0]} \")"
   ]
  },
  {
   "cell_type": "markdown",
   "metadata": {},
   "source": [
    "---"
   ]
  },
  {
   "cell_type": "markdown",
   "metadata": {},
   "source": [
    "**5.3** How much more likely is it that an offense involving children is domestic?"
   ]
  },
  {
   "cell_type": "code",
   "execution_count": null,
   "metadata": {},
   "outputs": [],
   "source": [
    "chance_domestic_children=round((domestic_children_crimes.sum() / all_domestic_children_08_to_12_df[\"Primary Type\"].value_counts().sum()) * 100,1)"
   ]
  },
  {
   "cell_type": "code",
   "execution_count": null,
   "metadata": {},
   "outputs": [],
   "source": [
    "print(f\" It is {chance_domestic_children}% more likely offense involves children\")"
   ]
  },
  {
   "cell_type": "markdown",
   "metadata": {},
   "source": [
    "---"
   ]
  },
  {
   "cell_type": "markdown",
   "metadata": {},
   "source": [
    "**5.4** What's the worst weekday in terms of number of domestic offenses involving children? How does it compare to the other weekdays?"
   ]
  },
  {
   "cell_type": "code",
   "execution_count": null,
   "metadata": {},
   "outputs": [],
   "source": [
    "domestic_children_weekday_serie = pd.DatetimeIndex(domestic_children_08_to_12_df[\"Date\"]).day_name().value_counts()"
   ]
  },
  {
   "cell_type": "code",
   "execution_count": null,
   "metadata": {},
   "outputs": [],
   "source": [
    "domestic_children_weekday_df= pd.DataFrame(domestic_children_weekday_serie).reset_index().rename(columns={\"Date\":\"weekDay\",\"count\":\"crimes\"})"
   ]
  },
  {
   "cell_type": "code",
   "execution_count": null,
   "metadata": {},
   "outputs": [],
   "source": [
    "print(f\"{domestic_children_weekday_df.head(1).weekDay.sum()} is the worst weekday with {domestic_children_weekday_df.head(1).crimes.sum()} crimes \\n Look down here at table:\")\n",
    "\n",
    "barplot_df(domestic_children_weekday_df,'weekDay','crimes','Number of Crimes by Day of the Week','Day of the Week', 'Number of Crimes','crimes')"
   ]
  },
  {
   "cell_type": "markdown",
   "metadata": {},
   "source": [
    "---"
   ]
  },
  {
   "cell_type": "markdown",
   "metadata": {},
   "source": [
    "**5.5** What's the distribution, in terms of recorded crimes, for domestic *and* sexual offenses involving children? What's the arrest percentage for each? "
   ]
  },
  {
   "cell_type": "code",
   "execution_count": null,
   "metadata": {},
   "outputs": [],
   "source": [
    "child_sex_crimes_08_12_df = domestic_true_08_to_12_df[domestic_true_08_to_12_df[\"Primary Type\"] == \"OFFENSE INVOLVING CHILDREN\"].reset_index()\n",
    "child_sex_crimes_08_12_df =child_sex_crimes_08_12_df[child_sex_crimes_08_12_df[\"Description\"].str.contains(\"SEX\")]\n",
    "total_crimes_child_08_12 = child_sex_crimes_08_12_df[\"Description\"].value_counts()\n"
   ]
  },
  {
   "cell_type": "code",
   "execution_count": null,
   "metadata": {},
   "outputs": [],
   "source": [
    "arrest_false_df= child_sex_crimes_08_12_df[child_sex_crimes_08_12_df[\"Arrest\"] == False]\n",
    "arrest_false_serie = arrest_false_df[\"Description\"].value_counts()\n",
    "\n",
    "child_arrests_crime_08_12_df = child_sex_crimes_08_12_df[child_sex_crimes_08_12_df[\"Arrest\"] == True]\n",
    "child_arrests_crime_08_12_serie = child_arrests_crime_08_12_df[\"Description\"].value_counts()"
   ]
  },
  {
   "cell_type": "code",
   "execution_count": null,
   "metadata": {},
   "outputs": [],
   "source": [
    "arrest_true = child_arrests_crime_08_12_df.shape[0]\n",
    "\n",
    "arrest_false = arrest_false_serie.sum()\n",
    "arrest_percentage = round(child_sex_crimes_08_12_df.groupby('Description')['Arrest'].mean() * 100,2)\n",
    "\n",
    "true_arrest_percentage = round((child_arrests_crime_08_12_serie / child_arrests_crime_08_12_serie.sum()) *100,2)\n"
   ]
  },
  {
   "cell_type": "code",
   "execution_count": null,
   "metadata": {},
   "outputs": [],
   "source": [
    "\n",
    "\n",
    "summary_df = pd.DataFrame({\n",
    "    'Total_Crimes': total_crimes_child_08_12,\n",
    "    'Non_Arrests':arrest_false_serie,\n",
    "    'Arrests':child_arrests_crime_08_12_serie,\n",
    "    'Arrest Percentage %': arrest_percentage,\n",
    "    \"Arrest(100%)\": true_arrest_percentage\n",
    "}).reset_index()"
   ]
  },
  {
   "cell_type": "code",
   "execution_count": null,
   "metadata": {},
   "outputs": [],
   "source": [
    "colors = ['#ffb3e6', '#c2c2f0','#ffcc99', '#b3e6ff']\n",
    "explode = (0.1, 0) \n",
    "font_size = 16  \n",
    "title_font_size = 25\n",
    "fig, ax = plt.subplots(2, 1, figsize=(20, 15))  \n",
    "\n",
    "sns.barplot(x='Arrest Percentage %', y='Description', data=summary_df, palette=colors, ax=ax[0])\n",
    "ax[0].set_title('Arrest Percentage by Crime Type', pad=20, fontsize=title_font_size)\n",
    "ax[0].set_xlabel('Arrest chance %',fontsize=title_font_size)\n",
    "ax[0].set_ylabel('Crime type',fontsize=title_font_size)\n",
    "ax[0].xaxis.grid(True)  # Adding gridlines\n",
    "ax[0].set_axisbelow(True)  # Ensures gridlines are behind the bars\n",
    "\n",
    "for i in ax[0].patches:\n",
    "    ax[0].text(i.get_width()+0.3, i.get_y()+0.5, \n",
    "            str(round((i.get_width()), 2))+'%', fontsize=15,\n",
    "            color='dimgrey')\n",
    "\n",
    "\n",
    "arrests_labels = summary_df['Description'].tolist()  \n",
    "arrests_sizes = summary_df['Arrest(100%)'].tolist()  \n",
    "\n",
    "ax[1].pie(arrests_sizes,\n",
    "          labels=arrests_labels,\n",
    "          autopct='%1.1f%%',\n",
    "          startangle=140,\n",
    "          shadow=True,\n",
    "          colors=colors,\n",
    "          textprops={'fontsize': 18})\n",
    "# plt.setp(autotexts, size=13, weight=\"bold\")\n",
    "\n",
    "ax[1].set_title('Arrest(100%) ', pad=20, fontsize=title_font_size)\n",
    "\n",
    "\n",
    "plt.tight_layout()\n",
    "plt.subplots_adjust(hspace=0.5)\n",
    "plt.show()"
   ]
  },
  {
   "cell_type": "markdown",
   "metadata": {},
   "source": [
    "---"
   ]
  },
  {
   "cell_type": "markdown",
   "metadata": {},
   "source": [
    "**5.6*** What period of the day does the specific kind of (domestic) offense against children, with the most recorded arrests, tend do occur? \n",
    "\n",
    "How does it look for all weekdays individually?\n",
    "        Can you find certain periods of the week that are especially bad? "
   ]
  },
  {
   "cell_type": "code",
   "execution_count": null,
   "metadata": {},
   "outputs": [],
   "source": [
    "most_recorde_arrests_children = summary_df.head(1).values[0][0]\n",
    "most_recorded_arrests_description_children_df = child_arrests_crime_08_12_df[child_arrests_crime_08_12_df[\"Description\"] == most_recorde_arrests_children]"
   ]
  },
  {
   "cell_type": "code",
   "execution_count": null,
   "metadata": {},
   "outputs": [],
   "source": [
    "child_arrests_crime_hours_08_12_serie= pd.DataFrame(pd.to_datetime(most_recorded_arrests_description_children_df[\"Date\"], format='%m/%d/%Y %I:%M:%S %p'))\n",
    "child_arrests_crime_hours_08_12_serie = child_arrests_crime_hours_08_12_serie[\"Date\"].dt.strftime('%I %p').value_counts()"
   ]
  },
  {
   "cell_type": "code",
   "execution_count": null,
   "metadata": {},
   "outputs": [],
   "source": [
    "child_arrests_crime_days_08_12_serie = pd.DatetimeIndex(most_recorded_arrests_description_children_df[\"Date\"]).day_name().value_counts()\n",
    "child_arrests_crime_days_08_12_df = pd.DataFrame(child_arrests_crime_days_08_12_serie).reset_index()"
   ]
  },
  {
   "cell_type": "code",
   "execution_count": null,
   "metadata": {},
   "outputs": [],
   "source": [
    "child_arrests_crime_days_08_12_df.head(1).values[0][1]"
   ]
  },
  {
   "cell_type": "code",
   "execution_count": null,
   "metadata": {},
   "outputs": [],
   "source": [
    "\n",
    "sns.set_style(\"whitegrid\")\n",
    "sns.set_context(\"notebook\", font_scale=1.2)\n",
    "color_palette = \"viridis\"\n",
    "font_size = 18\n",
    "font_size_title = 20\n",
    "fig, ax = plt.subplots(1, 2, figsize=(20, 8))\n",
    "\n",
    "sns.barplot(x=child_arrests_crime_hours_08_12_serie.index, y=child_arrests_crime_hours_08_12_serie.values, ax=ax[0], palette=color_palette)\n",
    "ax[0].set_title('Offenses by Time of Day',fontsize=font_size_title)\n",
    "ax[0].set_xlabel('Time of Day',fontsize=font_size)\n",
    "ax[0].set_ylabel('Number of Offenses',fontsize=font_size)\n",
    "ax[0].tick_params(axis='x', rotation=90)  \n",
    "\n",
    "for bar in ax[0].patches:\n",
    "    ax[0].annotate(format(bar.get_height(), '.0f'), \n",
    "                   (bar.get_x() + bar.get_width() / 2, \n",
    "                    bar.get_height()), ha='center', va='center',\n",
    "                   size=13, xytext=(0, 8),\n",
    "                   textcoords='offset points')\n",
    "\n",
    "sns.barplot(x='Date', y='count', data=child_arrests_crime_days_08_12_df, ax=ax[1], palette=color_palette)\n",
    "ax[1].set_title('Offenses by Weekday',fontsize=font_size_title)\n",
    "ax[1].set_xlabel('Day of the Week',fontsize=font_size)\n",
    "ax[1].set_ylabel('WeekDay',fontsize=font_size)\n",
    "ax[1].tick_params(axis='x', rotation=45)\n",
    "\n",
    "for bar in ax[1].patches:\n",
    "    ax[1].annotate(format(bar.get_height(), '.0f'), \n",
    "                   (bar.get_x() + bar.get_width() / 2, \n",
    "                    bar.get_height()), ha='center', va='center',\n",
    "                   size=13, xytext=(0, 8),\n",
    "                   textcoords='offset points')\n",
    "\n",
    "plt.tight_layout()\n",
    "sns.despine()\n",
    "\n",
    "plt.show()\n",
    "\n",
    "print(f\"Worst period of the day would be at midnight {child_arrests_crime_hours_08_12_serie.head(1).index[0]} with {child_arrests_crime_hours_08_12_serie.head(1).values[0]} offenses. \\n{child_arrests_crime_days_08_12_df.head(1).values[0][0]} is the worst day with {child_arrests_crime_days_08_12_df.head(1).values[0][1]} offenses, by the barplot the weekends is the worst.\")"
   ]
  },
  {
   "cell_type": "markdown",
   "metadata": {},
   "source": [
    "---"
   ]
  },
  {
   "cell_type": "markdown",
   "metadata": {},
   "source": [
    "**5.7*** Looking at any given year as a whole, what's the worst period in terms of domestic number of offenses involving children? Can you find any trends? Does the trend seem to be consistent for every other year? "
   ]
  },
  {
   "cell_type": "code",
   "execution_count": null,
   "metadata": {},
   "outputs": [],
   "source": [
    "def look_at_years(year):\n",
    "    filter_year = child_sex_crimes_08_12_df[child_sex_crimes_08_12_df[\"Year\"] == year]\n",
    "    return pd.DataFrame(pd.DatetimeIndex(filter_year[\"Date\"]).month_name().value_counts()).reset_index().rename(columns={\"count\": f\"Crimes_{year}\"})\n"
   ]
  },
  {
   "cell_type": "code",
   "execution_count": null,
   "metadata": {},
   "outputs": [],
   "source": [
    "child_sex_crimes_08_df =look_at_years(2008)\n",
    "child_sex_crimes_09_df =look_at_years(2009)\n",
    "child_sex_crimes_10_df =look_at_years(2010)\n",
    "child_sex_crimes_11_df =look_at_years(2011)\n",
    "child_sex_crimes_12_df =look_at_years(2012)\n",
    "total_crimes_years = pd.DataFrame(pd.DatetimeIndex(child_sex_crimes_08_12_df[\"Date\"]).month_name().value_counts()).reset_index().rename(columns={\"count\": f\"Total_crimes\"})"
   ]
  },
  {
   "cell_type": "code",
   "execution_count": null,
   "metadata": {},
   "outputs": [],
   "source": [
    "merged_08_09 = pd.merge(child_sex_crimes_08_df,child_sex_crimes_09_df, on=\"Date\")\n",
    "merged_10_11 = pd.merge(child_sex_crimes_10_df,child_sex_crimes_11_df, on=\"Date\")\n",
    "merged_08_09_10_11 = pd.merge(merged_08_09,merged_10_11, on=\"Date\")\n",
    "merged_08_09_10_11_12 = merged_08_09_10_11.merge(child_sex_crimes_12_df, on=\"Date\")\n",
    "domestic_years=  merged_08_09_10_11_12.merge(total_crimes_years, on=\"Date\").sort_values(by=\"Total_crimes\",ascending=False).set_index(\"Date\").reset_index()"
   ]
  },
  {
   "cell_type": "code",
   "execution_count": null,
   "metadata": {},
   "outputs": [],
   "source": [
    "sns.set_theme(style=\"whitegrid\")\n",
    "\n",
    "fig, axes = plt.subplots(2, 1, figsize=(18, 14), gridspec_kw={'height_ratios': [3, 1], 'hspace': 0.4})\n",
    "\n",
    "palette = sns.color_palette(\"tab10\", n_colors=5)\n",
    "for i, column in enumerate(domestic_years.columns[1:-1], start=0):  # Skip the 'Date' and 'Total_crimes' columns\n",
    "    sns.lineplot(x='Date', y=column, data=domestic_years, ax=axes[0], marker='o', label=column.split('_')[1], color=palette[i])\n",
    "\n",
    "axes[0].set_title('Monthly Domestic Offenses Involving Children Over Years', fontsize=18)\n",
    "axes[0].set_ylabel('Number of Crimes', fontsize=16)\n",
    "axes[0].set_xlabel('')\n",
    "\n",
    "max_total_crimes_month = domestic_years.loc[domestic_years['Total_crimes'].idxmax(), 'Date']\n",
    "axes[0].axvline(max_total_crimes_month, color='red', linestyle='--', lw=2)\n",
    "axes[0].annotate(f'Highest\\n{max_total_crimes_month}', xy=(max_total_crimes_month, domestic_years['Total_crimes'].max()), \n",
    "                 xytext=(0, 30), textcoords='offset points', ha='center', color='red')\n",
    "\n",
    "sns.barplot(x='Date', y='Total_crimes', data=domestic_years, ax=axes[1], color='gray', alpha=0.7)\n",
    "axes[1].set_title('Total Domestic Offenses Involving Children by Month', fontsize=18)\n",
    "axes[1].set_ylabel('Total Crimes', fontsize=16)\n",
    "axes[1].set_xlabel('Month', fontsize=16)\n",
    "\n",
    "plt.tight_layout()\n",
    "\n",
    "plt.show()\n",
    "print(f\"{domestic_years.head(1).values[0][0]} have the highest total crime of {domestic_years.head(1).values[0][-1]} which is 2x other months under it as minimum.\\n{domestic_years.tail(1).values[0][0]} has the least domestic offenses with {domestic_years.tail(1).values[0][-1]}\\nSummer will have the a lot of offenses occuring in top 3 after januari\")"
   ]
  },
  {
   "cell_type": "markdown",
   "metadata": {},
   "source": [
    "---"
   ]
  },
  {
   "cell_type": "markdown",
   "metadata": {},
   "source": [
    "# 6 - Bad Boys Bad Boys whatcha gonna do"
   ]
  },
  {
   "cell_type": "markdown",
   "metadata": {},
   "source": [
    "**6.1** In general, what weekday is a crime most likely to occur? Which day is the safest?"
   ]
  },
  {
   "cell_type": "code",
   "execution_count": null,
   "metadata": {},
   "outputs": [],
   "source": [
    "general_weekday_crime_08_12_serie= pd.DatetimeIndex(chicago_crime_2008_to_2012_df[\"Date\"]).day_name().value_counts()"
   ]
  },
  {
   "cell_type": "code",
   "execution_count": null,
   "metadata": {},
   "outputs": [],
   "source": [
    "general_weekday_crime_08_12_df =  pd.DataFrame(general_weekday_crime_08_12_serie).reset_index()"
   ]
  },
  {
   "cell_type": "code",
   "execution_count": null,
   "metadata": {},
   "outputs": [],
   "source": [
    "general_weekday_crime_08_12_df.tail(1).values[0][0]"
   ]
  },
  {
   "cell_type": "code",
   "execution_count": null,
   "metadata": {},
   "outputs": [],
   "source": [
    "print(f\"{general_weekday_crime_08_12_df.head(1).values[0][0]} does crime mos likely occur at, the weekend starts here so maybe many people are out partying,vandalizing or\\nin influence of drugs.\\n{general_weekday_crime_08_12_df.tail(1).values[0][0]} is the safest could be beacuse of churchday\\nand that new week starts people have things to do on {general_weekday_crime_08_12_df.tail(2).values[0][0]}(is the safest day after sunday)\")\n",
    "barplot_df(general_weekday_crime_08_12_df,\"Date\",\"count\",\"Crime days\",\"Date\",\"record of crime\",\"count\")"
   ]
  },
  {
   "cell_type": "markdown",
   "metadata": {},
   "source": [
    "---"
   ]
  },
  {
   "cell_type": "markdown",
   "metadata": {},
   "source": [
    "**6.2** Which is the most unsafe weekday for you if you'd like to avoid the following:\n",
    "\n",
    "a) getting your phone stolen by sneaky pickpockets (THEFT) \n",
    "\n",
    "b) having your handbag forcibly pulled away (ROBBERY) \n",
    "\n",
    "c) getting jumped in an alley (ASSAULT)\n",
    "\n",
    "For each of the above crimes, also answer at what locations you should be extra careful around."
   ]
  },
  {
   "cell_type": "markdown",
   "metadata": {},
   "source": [
    "A)\n"
   ]
  },
  {
   "cell_type": "code",
   "execution_count": null,
   "metadata": {},
   "outputs": [],
   "source": [
    "chicago_crime_theft_pickpocket_2008_to_2012_df = chicago_crime_2008_to_2012_df[chicago_crime_2008_to_2012_df[\"Primary Type\"] == \"THEFT\"]\n",
    "chicago_crime_theft_pickpocket_unsafe_2008_to_2012= pd.DatetimeIndex(chicago_crime_theft_pickpocket_2008_to_2012_df[\"Date\"]).day_name().value_counts()\n",
    "\n",
    "unsafe_theft_day = chicago_crime_theft_pickpocket_unsafe_2008_to_2012.head(1).index[0]\n",
    "unsafe_theft_day_count = chicago_crime_theft_pickpocket_unsafe_2008_to_2012.head(1).values[0]"
   ]
  },
  {
   "cell_type": "code",
   "execution_count": null,
   "metadata": {},
   "outputs": [],
   "source": [
    "chicago_crime_theft_places_pickpocket_2008_to_2012_df=chicago_crime_theft_pickpocket_2008_to_2012_df[\"Location Description\"].value_counts().head(5).index.to_list()"
   ]
  },
  {
   "cell_type": "code",
   "execution_count": null,
   "metadata": {},
   "outputs": [],
   "source": [
    "chicago_crime_theft_pickpocket_unsafe_2008_to_2012 \n",
    "# Plot\n",
    "print(f\"{unsafe_theft_day} happends most THEFT in pickppockets try to be carful around {chicago_crime_theft_places_pickpocket_2008_to_2012_df}\")"
   ]
  },
  {
   "cell_type": "markdown",
   "metadata": {},
   "source": [
    "---"
   ]
  },
  {
   "cell_type": "markdown",
   "metadata": {},
   "source": [
    "B)"
   ]
  },
  {
   "cell_type": "code",
   "execution_count": null,
   "metadata": {},
   "outputs": [],
   "source": [
    "chicago_crime_robbery_2008_to_2012_df = chicago_crime_2008_to_2012_df[chicago_crime_2008_to_2012_df[\"Primary Type\"] == \"ROBBERY\"]\n",
    "chicago_crime_robbery_unsafe_places_2008_to_2012_df = chicago_crime_robbery_2008_to_2012_df[\"Location Description\"].value_counts().head().index.to_list()\n",
    "chicago_crime_robbery_unsafe_2008_to_2012= pd.DatetimeIndex(chicago_crime_robbery_2008_to_2012_df[\"Date\"]).day_name().value_counts()\n",
    "print(f\"Try to avoid {chicago_crime_robbery_unsafe_2008_to_2012.index[0]} on these places {chicago_crime_robbery_unsafe_places_2008_to_2012_df}\")"
   ]
  },
  {
   "cell_type": "markdown",
   "metadata": {},
   "source": [
    "---\n"
   ]
  },
  {
   "cell_type": "markdown",
   "metadata": {},
   "source": [
    "C)"
   ]
  },
  {
   "cell_type": "code",
   "execution_count": null,
   "metadata": {},
   "outputs": [],
   "source": [
    "chicago_crime_assault_2008_to_2012_df = chicago_crime_2008_to_2012_df[chicago_crime_2008_to_2012_df[\"Primary Type\"] == \"ASSAULT\"]\n",
    "chicago_crime_assault_places_2008_to_2012_df= chicago_crime_assault_2008_to_2012_df[\"Location Description\"].value_counts().head().index.to_list()\n",
    "chicago_crime_assault_unsafe_2008_to_2012_df= pd.DatetimeIndex(chicago_crime_assault_2008_to_2012_df[\"Date\"]).day_name().value_counts()\n",
    "\n",
    "unsafe_assault_day = chicago_crime_assault_unsafe_2008_to_2012_df.head(1).index[0]\n"
   ]
  },
  {
   "cell_type": "code",
   "execution_count": null,
   "metadata": {},
   "outputs": [],
   "source": [
    "print(f\"Avoid {unsafe_assault_alley_day} in places like {chicago_crime_assault_places_2008_to_2012_df}  \")"
   ]
  },
  {
   "cell_type": "markdown",
   "metadata": {},
   "source": [
    "---"
   ]
  },
  {
   "cell_type": "markdown",
   "metadata": {},
   "source": [
    "**6.3** Which are the worst 10 dates (most recorded crimes) of 2008? Does this trend hold for the other years?"
   ]
  },
  {
   "cell_type": "code",
   "execution_count": null,
   "metadata": {},
   "outputs": [],
   "source": [
    "def ten_worst_dates(year):\n",
    "    filter_year = child_sex_crimes_08_12_df[child_sex_crimes_08_12_df[\"Year\"] == year]\n",
    "    return pd.DataFrame(filter_year[\"Date\"].dt.strftime('%m-%d').value_counts().head(10)).reset_index()"
   ]
  },
  {
   "cell_type": "code",
   "execution_count": null,
   "metadata": {},
   "outputs": [],
   "source": [
    "ten_worst_date_2008_df = ten_worst_dates(2008)\n",
    "ten_worst_date_2009_df = ten_worst_dates(2009)\n",
    "ten_worst_date_2010_df = ten_worst_dates(2010)\n",
    "ten_worst_date_2011_df = ten_worst_dates(2011)\n",
    "ten_worst_date_2012_df = ten_worst_dates(2012)"
   ]
  },
  {
   "cell_type": "code",
   "execution_count": null,
   "metadata": {},
   "outputs": [],
   "source": [
    "\n",
    "sns.set_theme(style=\"whitegrid\")\n",
    "\n",
    "fig = plt.figure(figsize=(20, 15))\n",
    "\n",
    "axes = [plt.subplot2grid((3, 2), (0, 0),colspan=2), plt.subplot2grid((3, 2), (1, 0)),\n",
    "        plt.subplot2grid((3, 2), (1, 1)), plt.subplot2grid((3, 2), (2, 0)),\n",
    "        plt.subplot2grid((3, 2), (2, 1))]\n",
    "\n",
    "fig.suptitle('Top 10 Worst Dates for Crimes in Each Year from 2008 to 2012', fontsize=20)\n",
    "\n",
    "years_dfs = [ten_worst_date_2008_df, ten_worst_date_2009_df, ten_worst_date_2010_df,\n",
    "             ten_worst_date_2011_df, ten_worst_date_2012_df]\n",
    "years = [2008, 2009, 2010, 2011, 2012]\n",
    "\n",
    "for ax, df, year in zip(axes, years_dfs, years):\n",
    "    sns.barplot(x='Date', y='count', data=df, ax=ax, palette='coolwarm') \n",
    "    ax.set_title(f'{year}', fontsize=18)\n",
    "    ax.set_xlabel('Date', fontsize=16)\n",
    "    ax.set_ylabel('Number of Crimes', fontsize=16)\n",
    "    ax.tick_params(axis='x', rotation=45,labelsize=14)\n",
    "  \n",
    "plt.tight_layout()  \n",
    "\n",
    "plt.show()\n",
    "print(f\"The trend of Date {ten_worst_date_2008_df.head(1).values[0][0]} is first in every year, Because it is the new year so people go crazy.\\nSome dates are in each year but not same order.\\nDue to new dates being added in top 10 plot is in barplot for best comparison and clarity.\")"
   ]
  },
  {
   "cell_type": "markdown",
   "metadata": {},
   "source": [
    "---"
   ]
  },
  {
   "cell_type": "markdown",
   "metadata": {},
   "source": [
    "**6.4** From the perspective of total number of crime records, which are the Top 10 primary crime types? Which are the Bottom 10? \n",
    "\n",
    "Consider this question for the years 2008-2012 as a whole. "
   ]
  },
  {
   "cell_type": "code",
   "execution_count": null,
   "metadata": {},
   "outputs": [],
   "source": [
    "ranked_crimes_recorded_08_to_12 = chicago_crime_2008_to_2012_df[\"Primary Type\"].value_counts()\n",
    "ranked_crimes_top_10_recorded_08_to_12= pd.DataFrame(ranked_crimes_recorded_08_to_12.head(10)).reset_index()\n",
    "ranked_crimes_bottom_10_recorded_08_to_12= pd.DataFrame(ranked_crimes_recorded_08_to_12.tail(10)).reset_index()\n"
   ]
  },
  {
   "cell_type": "code",
   "execution_count": null,
   "metadata": {},
   "outputs": [],
   "source": [
    "top_10_df = ranked_crimes_top_10_recorded_08_to_12\n",
    "bottom_10_df = ranked_crimes_bottom_10_recorded_08_to_12"
   ]
  },
  {
   "cell_type": "code",
   "execution_count": null,
   "metadata": {},
   "outputs": [],
   "source": [
    "plt.style.use('ggplot')\n",
    "\n",
    "fig, ax = plt.subplots(1, 2, figsize=(20, 10))\n",
    "\n",
    "top_color = 'seagreen'\n",
    "bottom_color = 'indianred'\n",
    "\n",
    "ax[0].hlines(y=top_10_df['Primary Type'], xmin=0, xmax=top_10_df['count'], color=top_color, alpha=0.7, linewidth=10)\n",
    "ax[0].plot(top_10_df['count'], top_10_df['Primary Type'], \"o\", markersize=20, color=top_color, alpha=0.7)\n",
    "\n",
    "ax[1].hlines(y=bottom_10_df['Primary Type'], xmin=0, xmax=bottom_10_df['count'], color=bottom_color, alpha=0.7, linewidth=10)\n",
    "ax[1].plot(bottom_10_df['count'], bottom_10_df['Primary Type'], \"o\", markersize=20, color=bottom_color, alpha=0.7)\n",
    "\n",
    "\n",
    "ax[0].set_title('Top 10 Crime Types', fontdict={'fontsize': 20})\n",
    "ax[1].set_title('Bottom 10 Crime Types', fontdict={'fontsize': 20})\n",
    "for axis in ax:\n",
    "    axis.set_xlabel('Number of Crimes', fontdict={'fontsize': 18})\n",
    "    axis.set_ylabel('Primary Crime Type', fontdict={'fontsize': 18})\n",
    "\n",
    "fig.tight_layout()\n",
    "\n",
    "\n",
    "plt.show()\n"
   ]
  },
  {
   "cell_type": "markdown",
   "metadata": {},
   "source": [
    "---"
   ]
  },
  {
   "cell_type": "markdown",
   "metadata": {},
   "source": [
    "**6.5** For all those crime categories you identified in 6.4, how does their distribution instead look per year - rather than the full 2008-2012 period as a whole?"
   ]
  },
  {
   "cell_type": "code",
   "execution_count": null,
   "metadata": {},
   "outputs": [],
   "source": [
    "def merge_five_df(df1,df2,df3,df4,df5):\n",
    "    merge_2 = pd.merge(df1,df2, on=\"Primary Type\", how=\"outer\")\n",
    "    merge_3 = merge_2.merge(df3, on=\"Primary Type\", how=\"outer\")\n",
    "    merge_4 = merge_3.merge(df4, on=\"Primary Type\", how=\"outer\")\n",
    "    merge_5 = merge_4.merge(df5, on=\"Primary Type\",how=\"outer\")\n",
    "    \n",
    "    return merge_5"
   ]
  },
  {
   "cell_type": "code",
   "execution_count": null,
   "metadata": {},
   "outputs": [],
   "source": [
    "def top_ten_crimes(year,crimes):\n",
    "    filtered_df = chicago_crime_2008_to_2012_df[(chicago_crime_2008_to_2012_df[\"Year\"] == year) & (chicago_crime_2008_to_2012_df[\"Primary Type\"].isin(crimes))]\n",
    "    return pd.DataFrame(filtered_df[\"Primary Type\"].value_counts()).reset_index().rename(columns={\"count\": f\"crimes_{year}\"})"
   ]
  },
  {
   "cell_type": "code",
   "execution_count": null,
   "metadata": {},
   "outputs": [],
   "source": [
    "top_crimes_10=ranked_crimes_top_10_recorded_08_to_12[\"Primary Type\"].to_list()\n",
    "bottom_crimes_10 = ranked_crimes_bottom_10_recorded_08_to_12[\"Primary Type\"].to_list()\n",
    "all_years_top_10= merge_five_df(top_ten_crimes(2008,top_crimes_10),top_ten_crimes(2009,top_crimes_10),top_ten_crimes(2010,top_crimes_10),top_ten_crimes(2011,top_crimes_10),top_ten_crimes(2012,top_crimes_10))\n",
    "all_years_bottom_10= merge_five_df(top_ten_crimes(2008,bottom_crimes_10),top_ten_crimes(2009,bottom_crimes_10),top_ten_crimes(2010,bottom_crimes_10),top_ten_crimes(2011,bottom_crimes_10),top_ten_crimes(2012,bottom_crimes_10))"
   ]
  },
  {
   "cell_type": "code",
   "execution_count": null,
   "metadata": {},
   "outputs": [],
   "source": [
    "all_years_bottom_10=all_years_bottom_10.fillna(0).astype({   'crimes_2008': 'int', \n",
    "    'crimes_2009': 'int', \n",
    "    'crimes_2010': 'int', \n",
    "    'crimes_2011': 'int', \n",
    "    'crimes_2012': 'int'})\n",
    "all_years_bottom_10[\"Total_Crimes\"] = all_years_bottom_10.iloc[:, 1:].sum(axis=1).astype(int)\n",
    "all_years_top_10=all_years_top_10.fillna(0).astype({   'crimes_2008': 'int', \n",
    "    'crimes_2009': 'int', \n",
    "    'crimes_2010': 'int', \n",
    "    'crimes_2011': 'int', \n",
    "    'crimes_2012': 'int'})\n",
    "all_years_top_10[\"Total_Crimes\"] = all_years_top_10.iloc[:, 1:].sum(axis=1).astype(int)"
   ]
  },
  {
   "cell_type": "code",
   "execution_count": null,
   "metadata": {},
   "outputs": [],
   "source": [
    "all_years_bottom_10.set_index('Primary Type', inplace=True)\n",
    "all_years_top_10.set_index('Primary Type', inplace=True)"
   ]
  },
  {
   "cell_type": "code",
   "execution_count": null,
   "metadata": {},
   "outputs": [],
   "source": [
    "import matplotlib.pyplot as plt\n",
    "import seaborn as sns\n",
    "\n",
    "sns.set_style(\"whitegrid\")\n",
    "\n",
    "fig, axes = plt.subplots(1, 2, figsize=(24, 10), sharey=False)\n",
    "\n",
    "fig.suptitle('Top and Bottom 10 Primary Crime Types per Year (2008-2012)', fontsize=24, weight='bold')\n",
    "\n",
    "def format_heatmap(ax, data, title, cmap):\n",
    "    sns.heatmap(data, ax=ax, cmap=cmap, annot=True, fmt='d', annot_kws={'size': 16},\n",
    "                linewidths=.8, cbar_kws={'shrink': 0.5})\n",
    "    ax.set_title(title, fontsize=18, weight='bold')\n",
    "    ax.set_xticklabels(ax.get_xticklabels(), rotation=45, horizontalalignment='right', fontsize=18)\n",
    "    ax.set_xlabel('Primary Crime Type', fontsize=18, weight='bold')\n",
    "    ax.set_ylabel('Year', fontsize=18, weight='bold')\n",
    "    ax.set_yticklabels(ax.get_yticklabels(), fontsize=16)  \n",
    "\n",
    "format_heatmap(axes[0], all_years_top_10, 'Top 10 Crime Types', 'Blues')\n",
    "\n",
    "format_heatmap(axes[1], all_years_bottom_10, 'Bottom 10 Crime Types', 'Greens')\n",
    "\n",
    "plt.tight_layout() \n",
    "\n",
    "plt.show()\n"
   ]
  },
  {
   "cell_type": "markdown",
   "metadata": {},
   "source": [
    "---"
   ]
  },
  {
   "cell_type": "markdown",
   "metadata": {},
   "source": [
    "**6.6*** Which primary crime types does the city of Chicago seem to get better at preventing? For which ones is it the opposite, i.e, the situation is getting worse? "
   ]
  },
  {
   "cell_type": "code",
   "execution_count": null,
   "metadata": {},
   "outputs": [],
   "source": [
    "ordered_primary_type_difference_df= highest_percent_merged_08_and_12.sort_values(by=\"Difference 2008-2012\",ascending=False)"
   ]
  },
  {
   "cell_type": "code",
   "execution_count": null,
   "metadata": {},
   "outputs": [],
   "source": [
    "sns.set_style(\"whitegrid\")\n",
    "\n",
    "plt.figure(figsize=(14, 10))\n",
    "barplot = sns.barplot(\n",
    "    x='Percentage Change', \n",
    "    y='Primary Type', \n",
    "    data=highest_percent_merged_08_and_12,\n",
    "    palette='coolwarm'  \n",
    ")\n",
    "\n",
    "plt.title('Percentage Change in Crime Counts by Primary Type (2008-2012)', fontsize=20, weight='bold', pad=20)\n",
    "plt.xlabel('Percentage Change', fontsize=16, labelpad=10)\n",
    "plt.ylabel('Primary Crime Type', fontsize=16, labelpad=10)\n",
    "\n",
    "barplot.xaxis.set_major_formatter(ticker.PercentFormatter(decimals=1))\n",
    "\n",
    "for p in barplot.patches:\n",
    "    width = p.get_width()\n",
    "    text_pos_x = width if width > 0 else width - 1\n",
    "    plt.text(\n",
    "        text_pos_x,\n",
    "        p.get_y() + p.get_height() / 2,\n",
    "        f'{width:.1f}%',\n",
    "        va='center',\n",
    "        ha='right' if width < 0 else 'left',\n",
    "        color='black',\n",
    "        fontsize=10,\n",
    "        fontweight='bold'\n",
    "    )\n",
    "\n",
    "\n",
    "plt.subplots_adjust(left=0.28)  \n",
    "barplot.tick_params(axis='both', which='major', labelsize=12)\n",
    "\n",
    "plt.show()\n",
    "print(f\"{highest_percent_merged_08_and_12.head(1).values[0][0]} is getting worse at preventing with {highest_percent_merged_08_and_12.head(1).values[0][-1]}% increase\")\n",
    "print(f\"{highest_percent_merged_08_and_12.tail(1).values[0][0]} is getting better at preventing with {highest_percent_merged_08_and_12.tail(1).values[0][-1]}% decrease\")"
   ]
  },
  {
   "cell_type": "code",
   "execution_count": null,
   "metadata": {},
   "outputs": [],
   "source": [
    "fig = px.bar(\n",
    "    ordered_primary_type_difference_df,\n",
    "    y='Primary Type',\n",
    "    x='Difference 2008-2012',\n",
    "    orientation='h',\n",
    "    title=\"Change in Crime Counts by Primary Type (2008-2012)\",\n",
    "    labels={'Difference 2008-2012': 'Difference in Crime Counts', 'Primary Type': 'Crime Type'},\n",
    "    color='Difference 2008-2012',\n",
    "    color_continuous_scale=px.colors.diverging.Tealrose,\n",
    "    # range_x=[-max_diff, max_diff]\n",
    ")\n",
    "\n",
    "# Update layout for a cleaner look\n",
    "fig.update_layout(coloraxis_showscale=False)  # Hide color scale\n",
    "fig.update_yaxes(categoryorder='total ascending')\n",
    "\n",
    "# Show the figure\n",
    "fig.show()\n"
   ]
  },
  {
   "cell_type": "markdown",
   "metadata": {},
   "source": [
    "If we look here we can see CRIMINAL DAMAGE is getting better to have decreased inc rime counts and INERFERENCE WITH PUBLIC OFFICER has increased.\n",
    "So it depends on if one check the Percentage increase/decrease of the crime count in cases"
   ]
  },
  {
   "cell_type": "markdown",
   "metadata": {},
   "source": [
    "---"
   ]
  },
  {
   "cell_type": "markdown",
   "metadata": {},
   "source": [
    "# 7 - Night Stalker"
   ]
  },
  {
   "cell_type": "markdown",
   "metadata": {},
   "source": [
    "**7.1** Are there more or less crimes reported during daytime, compared with nighttime? Daytime is considered as all hours between 06:00-18:00, nighttime is the rest of the day."
   ]
  },
  {
   "cell_type": "code",
   "execution_count": null,
   "metadata": {},
   "outputs": [],
   "source": [
    "night_df = chicago_crime_2008_to_2012_df[\n",
    "        (pd.DatetimeIndex(chicago_crime_2008_to_2012_df[\"Date\"]).hour >= 19)\n",
    "        | (pd.DatetimeIndex(chicago_crime_2008_to_2012_df[\"Date\"]).hour <= 5)\n",
    "    ]\n",
    "day_df = chicago_crime_2008_to_2012_df[\n",
    "        (pd.DatetimeIndex(chicago_crime_2008_to_2012_df[\"Date\"]).hour >= 6)\n",
    "        & (pd.DatetimeIndex(chicago_crime_2008_to_2012_df[\"Date\"]).hour <= 18) \n",
    "    ]\n",
    "\n",
    "day_crimes = day_df[\"Date\"].value_counts().sum()\n",
    "night_crimes = night_df[\"Date\"].value_counts().sum()\n"
   ]
  },
  {
   "cell_type": "code",
   "execution_count": null,
   "metadata": {},
   "outputs": [],
   "source": [
    "print(f\"Night crimes: {night_crimes:,.0f}, Day crimes: {day_crimes:,.0f}\")\n",
    "print(f\"Difference: {day_crimes-night_crimes:,.0f} more Day crimes \")\n",
    "sizes =[day_df[\"Date\"].value_counts().sum(),night_df[\"Date\"].value_counts().sum()]\n",
    "labels = ['Day', 'Night']\n",
    "colors = ['gold', 'lightskyblue']\n",
    "explode = (0.1, 0)  \n",
    "\n",
    "plt.figure(figsize=(10, 10))  \n",
    "plt.pie(sizes, labels=labels, autopct='%1.1f%%', startangle=90, colors=colors, explode=explode,\n",
    "        shadow=True, pctdistance=0.85, textprops={'fontsize': 14, 'fontweight': 'bold'})\n",
    "\n",
    "centre_circle = plt.Circle((0, 0), 0.70, color='white', linewidth=0)\n",
    "fig = plt.gcf()\n",
    "fig.gca().add_artist(centre_circle)\n",
    "\n",
    "plt.axis('equal')\n",
    "\n",
    "plt.title('Crime Counts: Day vs. Night', fontsize=18, fontweight='bold')\n",
    "\n",
    "plt.legend(labels, title=\"Period\", loc=\"best\", fontsize=12)\n",
    "\n",
    "plt.show()"
   ]
  },
  {
   "cell_type": "markdown",
   "metadata": {},
   "source": [
    "---"
   ]
  },
  {
   "cell_type": "markdown",
   "metadata": {},
   "source": [
    "**7.2** In general, for each weekday, how many crimes are recorded during daytime and how many during nighttime? What are the trends? Are there any weekdays that stands out somehow?"
   ]
  },
  {
   "cell_type": "code",
   "execution_count": null,
   "metadata": {},
   "outputs": [],
   "source": [
    "day_crimes_weekday_df = pd.DataFrame(pd.DatetimeIndex(day_df[\"Date\"]).day_name().value_counts()).reset_index()\n",
    "night_crimes_weekday_df = pd.DataFrame(pd.DatetimeIndex(night_df[\"Date\"]).day_name().value_counts()).reset_index()\n"
   ]
  },
  {
   "cell_type": "code",
   "execution_count": null,
   "metadata": {},
   "outputs": [],
   "source": [
    "combined_df = day_crimes_weekday_df.merge(night_crimes_weekday_df, on='Date', suffixes=('_day', '_night'))\n",
    "\n",
    "# Now let's melt this DataFrame so that it's long-form and can be used with seaborn\n",
    "melted_df = pd.melt(combined_df, id_vars='Date', var_name='Period', value_name='Count')"
   ]
  },
  {
   "cell_type": "code",
   "execution_count": null,
   "metadata": {},
   "outputs": [],
   "source": [
    "sns.set_style(\"whitegrid\")\n",
    "\n",
    "palette = [\"#3498db\", \"#e74c3c\"]  \n",
    "\n",
    "plt.figure(figsize=(12, 8))\n",
    "barplot = sns.barplot(x='Date', y='Count', hue='Period', data=melted_df, palette=palette)\n",
    "\n",
    "plt.title('Crimes Recorded During Daytime vs Nighttime Across Weekdays', fontsize=18, weight='bold')\n",
    "plt.xlabel('Weekday', fontsize=14)\n",
    "plt.ylabel('Number of Crimes', fontsize=14)\n",
    "for p in barplot.patches:\n",
    "    barplot.annotate(f'{p.get_height():,.0f}',\n",
    "                     (p.get_x() + p.get_width() / 2., p.get_height()),\n",
    "                     ha = 'center', va = 'center',\n",
    "                     xytext = (0, 9),  # 9 points vertical offset\n",
    "                     textcoords = 'offset points',\n",
    "                     fontsize=10)\n",
    "\n",
    "plt.legend(title='Period', fontsize=12, title_fontsize='13', loc='upper right', frameon=True, shadow=True)\n",
    "\n",
    "barplot.yaxis.set_major_formatter(ticker.StrMethodFormatter('{x:,.0f}'))\n",
    "\n",
    "plt.xticks(rotation=45, fontsize=12)\n",
    "\n",
    "plt.yticks(fontsize=12)\n",
    "\n",
    "plt.grid(color='grey', linestyle='-', linewidth=0.25, alpha=0.5)\n",
    "\n",
    "sns.despine()\n",
    "\n",
    "plt.tight_layout()\n",
    "plt.show()\n",
    "print(f\"Trend is on weekends day crime goes down could be becasue people are at home & night crimes increase. Otherwise it is reverse. \")"
   ]
  },
  {
   "cell_type": "markdown",
   "metadata": {},
   "source": [
    "---"
   ]
  },
  {
   "cell_type": "markdown",
   "metadata": {},
   "source": [
    "**7.3** Does the trends you've found in 7.3 also hold if you look at each year individually?"
   ]
  },
  {
   "cell_type": "code",
   "execution_count": null,
   "metadata": {},
   "outputs": [],
   "source": [
    "def day_and_night_crimes_year(whole_df,start_year=2008, end_year=2012):\n",
    "    results = {}\n",
    "    for year in range(start_year, end_year + 1):\n",
    "        year_df = whole_df[whole_df[\"Year\"] == year]\n",
    "        weekdays_counts = pd.DatetimeIndex(year_df[\"Date\"]).day_name().value_counts()\n",
    "        weekdays_df = weekdays_counts.to_frame().reset_index()\n",
    "        weekdays_df.columns = [\"Weekday\", f\"Count_{year}\"]\n",
    "        results[year] = weekdays_df.set_index(\"Weekday\")\n",
    "\n",
    "    merged_df = None\n",
    "    for year, df in results.items():\n",
    "        if merged_df is None:\n",
    "            merged_df = df\n",
    "        else:\n",
    "            merged_df = merged_df.merge(df, left_index=True, right_index=True, how='outer')\n",
    "\n",
    "    return merged_df.reset_index()\n"
   ]
  },
  {
   "cell_type": "code",
   "execution_count": null,
   "metadata": {},
   "outputs": [],
   "source": [
    "night_weekdays_df =day_and_night_crimes_year(night_df)\n",
    "day_weekdays_df =day_and_night_crimes_year(day_df)"
   ]
  },
  {
   "cell_type": "code",
   "execution_count": null,
   "metadata": {},
   "outputs": [],
   "source": [
    "night_melted_weekdays_df=pd.melt(night_weekdays_df, id_vars=['Weekday'], var_name='Year', value_name='Crime Count')\n",
    "day_melted_weekdays_df=pd.melt(day_weekdays_df, id_vars=['Weekday'], var_name='Year', value_name='Crime Count')"
   ]
  },
  {
   "cell_type": "code",
   "execution_count": null,
   "metadata": {},
   "outputs": [],
   "source": [
    "fig, axes = plt.subplots(nrows=1, ncols=2, figsize=(15, 6))\n",
    "\n",
    "sns.lineplot(data=day_melted_weekdays_df, x='Weekday', y='Crime Count', hue='Year',marker=\"o\", ax=axes[0])\n",
    "axes[0].set_title('Daytime Crime Trends')\n",
    "axes[0].set_xticklabels(axes[0].get_xticklabels(), rotation=45)\n",
    "\n",
    "sns.lineplot(data=night_melted_weekdays_df, x='Weekday', y='Crime Count', hue='Year',marker=\"o\", ax=axes[1])\n",
    "axes[1].set_title('Nighttime Crime Trends')\n",
    "axes[1].set_xticklabels(axes[1].get_xticklabels(), rotation=45)\n",
    "\n",
    "plt.tight_layout()\n",
    "\n",
    "plt.show()\n"
   ]
  },
  {
   "cell_type": "markdown",
   "metadata": {},
   "source": [
    "---"
   ]
  },
  {
   "cell_type": "markdown",
   "metadata": {},
   "source": [
    "**7.4** Are there any weekdays in which Stalking occurs more often during nighttime?"
   ]
  },
  {
   "cell_type": "code",
   "execution_count": null,
   "metadata": {},
   "outputs": [],
   "source": [
    "stalking_night_df= night_df[night_df[\"Primary Type\"] == \"STALKING\"]"
   ]
  },
  {
   "cell_type": "code",
   "execution_count": null,
   "metadata": {},
   "outputs": [],
   "source": [
    "stalking_night_weekday_df= pd.DataFrame(pd.DatetimeIndex(stalking_night_df[\"Date\"]).day_name().value_counts()).reset_index()"
   ]
  },
  {
   "cell_type": "code",
   "execution_count": null,
   "metadata": {},
   "outputs": [],
   "source": [
    "barplot_df(stalking_night_weekday_df,\"Date\",\"count\",\"Stalking nighttime\",\"Date\",\"Recorded of Stalking\",\"count\")\n",
    "print(\"Stalking occur often in nightimes, could be easier for them that why\")\n"
   ]
  },
  {
   "cell_type": "markdown",
   "metadata": {},
   "source": [
    "---"
   ]
  },
  {
   "cell_type": "markdown",
   "metadata": {},
   "source": [
    "**7.5*** Are there any specific primary crime types that most often occur during nights? If so, which ones are they? Where do they occur? Are certain days of the week notable here somehow?"
   ]
  },
  {
   "cell_type": "code",
   "execution_count": null,
   "metadata": {},
   "outputs": [],
   "source": [
    "most_occuring_night_crimes = list(night_df[\"Primary Type\"].value_counts().head(5).index) \n",
    "primary_type_night_crimes = pd.DataFrame(night_df[\"Primary Type\"].value_counts().head(5)).reset_index()\n",
    "most_occuring_night_crimes_df = night_df[night_df[\"Primary Type\"].isin(most_occuring_night_crimes)]"
   ]
  },
  {
   "cell_type": "code",
   "execution_count": null,
   "metadata": {},
   "outputs": [],
   "source": [
    "most_occuring_night_crimes_location_df = pd.DataFrame(most_occuring_night_crimes_df[\"Location Description\"].value_counts().head(10)).reset_index()"
   ]
  },
  {
   "cell_type": "code",
   "execution_count": null,
   "metadata": {},
   "outputs": [],
   "source": [
    "most_occuring_weekday_night_crimes_df= pd.DataFrame(pd.DatetimeIndex(most_occuring_night_crimes_df[\"Date\"]).day_name().value_counts()).reset_index()"
   ]
  },
  {
   "cell_type": "code",
   "execution_count": null,
   "metadata": {},
   "outputs": [],
   "source": [
    "\n",
    "colors_crime_types = ['#636EFA', '#EF553B', '#00CC96', '#AB63FA', '#FFA15A']\n",
    "colors_locations = ['#19D3F3', '#FF6692', '#B6E880', '#FF97FF', '#FECB52']\n",
    "colors_weekdays = ['#FFA15A', '#00CC96', '#636EFA', '#EF553B', '#AB63FA']\n",
    "\n",
    "fig = make_subplots(\n",
    "    rows=3, cols=1,\n",
    "    shared_xaxes=True,\n",
    "    vertical_spacing=0.1,\n",
    "    subplot_titles=(\"Night Crime Types (Top 5 Primary Types)\", \"Locations of Night Crimes (Top 5 Primary Types)\", \"Night Crimes by Weekday (Top 5 Primary Types)\")\n",
    ")\n",
    "\n",
    "fig.add_trace(\n",
    "    go.Bar(\n",
    "        x=primary_type_night_crimes['count'],\n",
    "        y=primary_type_night_crimes['Primary Type'],\n",
    "        orientation='h',\n",
    "        marker_color=colors_crime_types,\n",
    "        name='Crime Types'\n",
    "    ),\n",
    "    row=1, col=1\n",
    ")\n",
    "\n",
    "fig.add_trace(\n",
    "    go.Bar(\n",
    "        x=most_occuring_night_crimes_location_df['count'],\n",
    "        y=most_occuring_night_crimes_location_df['Location Description'],\n",
    "        orientation='h',\n",
    "        marker_color=colors_locations,\n",
    "        name='Locations'\n",
    "    ),\n",
    "    row=2, col=1\n",
    ")\n",
    "\n",
    "fig.add_trace(\n",
    "    go.Bar(\n",
    "        x=most_occuring_weekday_night_crimes_df['count'],\n",
    "        y=most_occuring_weekday_night_crimes_df['Date'],\n",
    "        orientation='h',\n",
    "        marker_color=colors_weekdays,\n",
    "        name='Weekdays'\n",
    "    ),\n",
    "    row=3, col=1\n",
    ")\n",
    "\n",
    "fig.update_layout(\n",
    "    height=1200, \n",
    "    title_text=\"Comprehensive Night Crimes Analysis\",\n",
    "    showlegend=False,\n",
    "    title_x=0.5,\n",
    "    title_font_size=22\n",
    ")\n",
    "\n",
    "fig.update_yaxes(title_text=\"Crime Type\", row=1, col=1)\n",
    "fig.update_yaxes(title_text=\"Location\", row=2, col=1)\n",
    "fig.update_yaxes(title_text=\"Weekday\", row=3, col=1)\n",
    "\n",
    "fig.update_xaxes(title_text=\"Number of Crimes\", row=3, col=1)\n",
    "\n",
    "fig.update_layout(\n",
    "    margin=dict(l=20, r=20, t=100, b=20),  \n",
    "    paper_bgcolor=\"white\",\n",
    "    plot_bgcolor=\"white\", \n",
    ")\n",
    "\n",
    "fig.update_traces(\n",
    "    hoverinfo=\"y+x\", \n",
    "    hoverlabel=dict(bgcolor=\"white\", font_size=14, font_family=\"Rockwell\") \n",
    ")\n",
    "fig.show()\n"
   ]
  },
  {
   "cell_type": "markdown",
   "metadata": {},
   "source": [
    "---"
   ]
  },
  {
   "cell_type": "markdown",
   "metadata": {},
   "source": [
    "# 8 - Grand Theft Auto"
   ]
  },
  {
   "cell_type": "markdown",
   "metadata": {},
   "source": [
    "**8.1** You just bought a new car. What weekday should you be most wary of as it has the highest risk for a Grand Theft Auto-style robbery (MOTOR VEHICLE THEFT)?"
   ]
  },
  {
   "cell_type": "code",
   "execution_count": null,
   "metadata": {},
   "outputs": [],
   "source": [
    "gta_crimes_08_12_df = chicago_crime_2008_to_2012_df[chicago_crime_2008_to_2012_df[\"Primary Type\"] == \"MOTOR VEHICLE THEFT\"]"
   ]
  },
  {
   "cell_type": "code",
   "execution_count": null,
   "metadata": {},
   "outputs": [],
   "source": [
    "gta_crimes_worst_days_08_12_df = pd.DataFrame(pd.DatetimeIndex(gta_crimes_08_12_df[\"Date\"]).day_name().value_counts()).reset_index()"
   ]
  },
  {
   "cell_type": "code",
   "execution_count": null,
   "metadata": {},
   "outputs": [],
   "source": [
    "\n",
    "barplot_df(gta_crimes_worst_days_08_12_df,\"Date\",\"count\",\"GTA: Motor vechicle theft weekday\",\"Weekday\",\"Number of GTA's\",\"count\")\n",
    "print(f\"{gta_crimes_worst_days_08_12_df.values[0][0]} is the worst day \")"
   ]
  },
  {
   "cell_type": "markdown",
   "metadata": {},
   "source": [
    "---"
   ]
  },
  {
   "cell_type": "markdown",
   "metadata": {},
   "source": [
    "**8.2** For that day, where (at what location) should you absolutely avoid leave your car carelessly? Where is it seemingly safest to do so?"
   ]
  },
  {
   "cell_type": "code",
   "execution_count": null,
   "metadata": {},
   "outputs": [],
   "source": [
    "gta_crimes_friday_08_12_df = gta_crimes_08_12_df[pd.DatetimeIndex(gta_crimes_08_12_df[\"Date\"]).day_name() == gta_crimes_worst_days_08_12_serie.index[0]]"
   ]
  },
  {
   "cell_type": "code",
   "execution_count": null,
   "metadata": {},
   "outputs": [],
   "source": [
    "location_GTA= gta_crimes_friday_08_12_df[\"Location Description\"].value_counts()\n",
    "\n",
    "location_GTA.head(5)\n",
    "\n",
    "location_safest_GTA = location_GTA[location_GTA <= 1]"
   ]
  },
  {
   "cell_type": "code",
   "execution_count": null,
   "metadata": {},
   "outputs": [],
   "source": [
    "\n",
    "fig = make_subplots(\n",
    "    rows=2, cols=1,\n",
    "    subplot_titles=(\"Top 5 Riskiest Locations to Leave Your Car\", \"Safest Locations to Leave Your Car\")\n",
    ")\n",
    "\n",
    "fig.add_trace(\n",
    "    go.Bar(\n",
    "        x=location_GTA.head(5).index, \n",
    "        y=location_GTA.head(5).values, \n",
    "        name='Riskiest Locations'\n",
    "    ),\n",
    "    row=1, col=1\n",
    ")\n",
    "\n",
    "fig.add_trace(\n",
    "    go.Bar(\n",
    "        x=location_safest_GTA.index, \n",
    "        y=location_safest_GTA.values, \n",
    "        name='Safest Locations'\n",
    "    ),\n",
    "    row=2, col=1\n",
    ")\n",
    "\n",
    "fig.update_layout(\n",
    "    height=600, \n",
    "    title_text=\"Motor Vehicle Theft Locations Analysis on Fridays (2008-2012)\",\n",
    "    showlegend=False\n",
    ")\n",
    "\n",
    "fig.update_xaxes(title_text=\"Location Description\", row=2, col=1)\n",
    "\n",
    "fig.update_yaxes(title_text=\"Number of Thefts\", row=1, col=1)\n",
    "fig.update_yaxes(title_text=\"Number of Thefts\", row=2, col=1)\n",
    "\n",
    "fig.update_layout(\n",
    "    margin=dict(l=20, r=20, t=100, b=20), \n",
    "    paper_bgcolor=\"white\", \n",
    "    plot_bgcolor=\"white\",  \n",
    ")\n",
    "\n",
    "fig.show()\n"
   ]
  },
  {
   "cell_type": "markdown",
   "metadata": {},
   "source": [
    "---"
   ]
  },
  {
   "cell_type": "markdown",
   "metadata": {},
   "source": [
    "**8.3*** Are there certain periods of the year/month/day/time of day where GTA is more frequent?"
   ]
  },
  {
   "cell_type": "code",
   "execution_count": null,
   "metadata": {},
   "outputs": [],
   "source": [
    "day_gta_counts = day_df[day_df[\"Primary Type\"] == \"MOTOR VEHICLE THEFT\"]\n",
    "night_gta_counts = night_df[night_df[\"Primary Type\"] == \"MOTOR VEHICLE THEFT\"]"
   ]
  },
  {
   "cell_type": "code",
   "execution_count": null,
   "metadata": {},
   "outputs": [],
   "source": [
    "gta_crimes = pd.merge(day_gta_counts, night_gta_counts, how=\"outer\")"
   ]
  },
  {
   "cell_type": "code",
   "execution_count": null,
   "metadata": {},
   "outputs": [],
   "source": [
    "gta_crimes['Hour'] = gta_crimes['Date'].dt.hour\n",
    "gta_crimes['Month'] = gta_crimes['Date'].dt.month"
   ]
  },
  {
   "cell_type": "code",
   "execution_count": null,
   "metadata": {},
   "outputs": [],
   "source": [
    "gta_crimes_day = pd.DataFrame(pd.DatetimeIndex(gta_crimes[\"Date\"]).day_name().value_counts()).reset_index()"
   ]
  },
  {
   "cell_type": "code",
   "execution_count": null,
   "metadata": {},
   "outputs": [],
   "source": [
    "hour_month_counts = gta_crimes.groupby(['Year', 'Month', 'Hour']).size().reset_index(name='Counts')"
   ]
  },
  {
   "cell_type": "code",
   "execution_count": null,
   "metadata": {},
   "outputs": [],
   "source": [
    "pivot_table = hour_month_counts.pivot_table(values='Counts', index=['Year', 'Month'], columns='Hour', fill_value=0)"
   ]
  },
  {
   "cell_type": "code",
   "execution_count": null,
   "metadata": {},
   "outputs": [],
   "source": [
    "yearly_totals = pivot_table.sum(axis=1).groupby('Year').sum()\n",
    "monthly_totals = pivot_table.sum(axis=1).groupby('Month').sum()\n",
    "hourly_totals = pivot_table.sum(axis=0)\n",
    "\n",
    "\n",
    "max_year = yearly_totals.idxmax()\n",
    "max_month = monthly_totals.idxmax()\n",
    "max_hour = hourly_totals.idxmax()"
   ]
  },
  {
   "cell_type": "code",
   "execution_count": null,
   "metadata": {},
   "outputs": [],
   "source": [
    "fig = go.Figure()\n",
    "\n",
    "years = pivot_table.index.get_level_values('Year').unique()\n",
    "\n",
    "total_crimes_per_year = {}\n",
    "\n",
    "visibility = [False] * len(years)\n",
    "visibility[0] = True  \n",
    "\n",
    "for i, year in enumerate(years):\n",
    "    heatmap_data = pivot_table.xs(key=year, level='Year').values\n",
    "    total_crimes = heatmap_data.sum()  \n",
    "    total_crimes_per_year[year] = total_crimes \n",
    "    \n",
    "    heatmap_data = pivot_table.xs(key=year, level='Year').values\n",
    "    fig.add_trace(\n",
    "        go.Heatmap(\n",
    "            z=heatmap_data,\n",
    "            x=[f\"{hour:02d}:00\" for hour in range(24)],  \n",
    "            y=[month_abbr[month] for month in range(1, 13)],  \n",
    "            colorscale='YlOrRd',\n",
    "            name=str(year),\n",
    "            visible=visibility[i]\n",
    "        )\n",
    "    )\n",
    "\n",
    "buttons = []\n",
    "for i, year in enumerate(years):\n",
    "    visibility = [False] * len(years)\n",
    "    visibility[i] = True\n",
    "\n",
    "    button = dict(\n",
    "        label=f\"{year}. ({total_crimes_per_year[year]})\",\n",
    "        method='update',\n",
    "        args=[{'visible': visibility},\n",
    "              {'title': f'GTA Crimes Heatmap for {year}, total crimes {total_crimes_per_year[year]}',\n",
    "               'xaxis': {'title': 'Hour of the Day'},\n",
    "               'yaxis': {'title': 'Month'}}]\n",
    "    )\n",
    "    buttons.append(button)\n",
    "initial_year = years[0]\n",
    "initial_title = f\"GTA Incidents Heatmap for {initial_year} (Total: {total_crimes_per_year[initial_year]:,})\"\n",
    "fig.update_layout(title=initial_title)\n",
    "fig.update_layout(\n",
    "    updatemenus=[{\n",
    "        'type': 'dropdown',\n",
    "        'direction': 'down',\n",
    "        'x': 0.5,\n",
    "        'y': 1.15,\n",
    "        'showactive': True,\n",
    "        'active': 0,\n",
    "        'buttons': buttons\n",
    "    }],\n",
    "    xaxis=dict(title='Hour of the Day', tickvals=list(range(24))),\n",
    "    yaxis=dict(title='Month', tickvals=list(range(0, 13))),\n",
    "    margin=dict(l=20, r=20, t=100, b=20),\n",
    "    annotations=[{\n",
    "        \"text\": f\"Max Year: {max_year} (Total: {yearly_totals[max_year]:,})<br>\"\n",
    "                f\"Max Month: {month_abbr[max_month]} (Total: {monthly_totals[max_month]:,})<br>\"\n",
    "                f\"Max Hour: {max_hour}:00 (Total: {hourly_totals[max_hour]:,})\",\n",
    "        \"align\": \"left\",\n",
    "        \"showarrow\": False,\n",
    "        \"xref\": \"paper\",\n",
    "        \"yref\": \"paper\",\n",
    "        \"x\": 0.7,\n",
    "        \"y\": 1.2,\n",
    "        \"xanchor\": \"left\",\n",
    "        \"yanchor\": \"middle\",\n",
    "        \"font\": {\"size\": 12}\n",
    "    }]\n",
    "\n",
    ")\n",
    "\n",
    "fig.show()\n",
    "barplot_df(gta_crimes_day,\"Date\",\"count\",\"Weekday GTA\",\"Weekday\",\"Record of GTA\",\"count\")\n"
   ]
  },
  {
   "cell_type": "markdown",
   "metadata": {},
   "source": [
    "GTA crimes is most frequent at 22:00 mostly after that it would be around 00:00 in the most years. month where it occurs the most is July due to it is summertimes, the warm weather could affect how people think and it is when most are outside. Year it happend most is 2011 and then the weekday is Friday could be because of influence under drugs, the next they it is the weekend. They maybe take out their anger for the week or it is just simplier"
   ]
  },
  {
   "cell_type": "markdown",
   "metadata": {},
   "source": [
    "---"
   ]
  },
  {
   "cell_type": "markdown",
   "metadata": {},
   "source": [
    "# 9. Just send me like location"
   ]
  },
  {
   "cell_type": "markdown",
   "metadata": {},
   "source": [
    "https://www.youtube.com/watch?v=k7yBJ5Ffkdo"
   ]
  },
  {
   "cell_type": "markdown",
   "metadata": {},
   "source": [
    "**9.1** Are there any (geographical) areas hit particularly hard by prostitution on friday nights?"
   ]
  },
  {
   "cell_type": "code",
   "execution_count": null,
   "metadata": {},
   "outputs": [],
   "source": [
    "chicago_prostitution_08_to_12_df= chicago_crime_2008_to_2012_df[chicago_crime_2008_to_2012_df[\"Primary Type\"] == \"PROSTITUTION\"]\n",
    "chicago_prostitution_friday_08_to_12_df = chicago_prostitution_08_to_12_df[pd.DatetimeIndex(chicago_prostitution_08_to_12_df[\"Date\"]).day_name() == \"Friday\"]"
   ]
  },
  {
   "cell_type": "code",
   "execution_count": null,
   "metadata": {},
   "outputs": [],
   "source": [
    "chicago_prostitution_location_friday_08_to_12_df =pd.DataFrame(chicago_prostitution_friday_08_to_12_df[\"Block\"].value_counts()).reset_index()"
   ]
  },
  {
   "cell_type": "code",
   "execution_count": null,
   "metadata": {},
   "outputs": [],
   "source": [
    "barplot_df(chicago_prostitution_location_friday_08_to_12_df.head(),\"Block\",\"count\",\"Friday Block's Prostitutions Top 5\",\"Recorded Prostitution\",\"Block\",\"count\")"
   ]
  },
  {
   "cell_type": "markdown",
   "metadata": {},
   "source": [
    "---"
   ]
  },
  {
   "cell_type": "markdown",
   "metadata": {},
   "source": [
    "**9.2*** Can you vizualise the locations from 9.1 on a map of Chicago? Is there a concentration somewhere? "
   ]
  },
  {
   "cell_type": "code",
   "execution_count": null,
   "metadata": {},
   "outputs": [],
   "source": [
    "crime_counts = chicago_prostitution_08_to_12_df.groupby([\"Case Number\",\"Date\",\"Block\",'Latitude', 'Longitude',\"Location Description\",\"Description\",]).size().reset_index(name='crime_count')\n"
   ]
  },
  {
   "cell_type": "code",
   "execution_count": null,
   "metadata": {},
   "outputs": [],
   "source": [
    "crimes_in_same_area = crime_counts.groupby(['Latitude', 'Longitude',\"Block\"]).apply(\n",
    "    lambda x: ' <br>'.join(f\"{row['Case Number']}: {row['Date'].strftime('%Y-%m-%d %I:%M:%S %p')} - {row['Location Description']} - {row['Description']} \" for _, row in x.iterrows())\n",
    ").reset_index(name='Text')"
   ]
  },
  {
   "cell_type": "code",
   "execution_count": null,
   "metadata": {},
   "outputs": [],
   "source": [
    "fig = px.density_mapbox(crimes_in_same_area, lat=\"Latitude\", lon=\"Longitude\",hover_name=\"Block\", hover_data=\"Text\",\n",
    "                        zoom=8.5, height=300,radius=3,center=dict(lat=41.8781, lon=-87.6298),mapbox_style=\"stamen-terrain\", color_continuous_scale='Viridis',opacity=0.7)\n",
    "\n",
    "fig.update_layout(mapbox_style=\"open-street-map\",title=\"Friday Prostotution\")\n",
    "fig.update_layout(margin={\"r\":0,\"t\":0,\"l\":0,\"b\":0})\n",
    "fig.update_layout(title={\n",
    "    'text': \"Friday Prostitution's\",\n",
    "    'y':0.9,\n",
    "    'x':0.5,\n",
    "    \n",
    "    'xanchor': 'center',\n",
    "    'yanchor': 'top',\n",
    "    \"font\": {\"size\":50},\n",
    "    }\n",
    "    \n",
    "                  )\n",
    "\n",
    "fig.show()"
   ]
  },
  {
   "cell_type": "markdown",
   "metadata": {},
   "source": [
    "---"
   ]
  },
  {
   "cell_type": "markdown",
   "metadata": {},
   "source": [
    "**9.3*** Can you find any geographical concentration of other crime categories? Perhaps even by weekday and or day/nighttime or certain dates of the year? Plot these on a map of Chicago. "
   ]
  },
  {
   "cell_type": "code",
   "execution_count": null,
   "metadata": {},
   "outputs": [],
   "source": [
    "januari_crimes= chicago_crime_2008_to_2012_df"
   ]
  },
  {
   "cell_type": "code",
   "execution_count": null,
   "metadata": {},
   "outputs": [],
   "source": [
    "januari_crimes['Month'] = januari_crimes['Date'].dt.month\n",
    "januari_crimes['Day'] = januari_crimes['Date'].dt.day\n"
   ]
  },
  {
   "cell_type": "code",
   "execution_count": null,
   "metadata": {},
   "outputs": [],
   "source": [
    "jan_first_crimes = januari_crimes[(januari_crimes['Month'] == 1) & (januari_crimes['Day'] == 1)]\n"
   ]
  },
  {
   "cell_type": "code",
   "execution_count": null,
   "metadata": {},
   "outputs": [],
   "source": [
    "fig = px.density_mapbox(jan_first_crimes, lat=\"Latitude\", lon=\"Longitude\",hover_name=\"Block\", hover_data=[\"Case Number\",\"Primary Type\",\"Location Description\",\"Description\"], \n",
    "                        zoom=8.5, height=300,radius=3,center=dict(lat=41.8781, lon=-87.6298),mapbox_style=\"stamen-terrain\", color_continuous_scale='Viridis',opacity=0.7)\n",
    "\n",
    "fig.update_layout(mapbox_style=\"open-street-map\",title=\"Friday Prostotution\")\n",
    "fig.update_layout(margin={\"r\":0,\"t\":0,\"l\":0,\"b\":0})\n",
    "fig.update_layout(title={\n",
    "    'text': \"First Januari crimes \",\n",
    "    'y':0.9,\n",
    "    'x':0.5,\n",
    "    \n",
    "    'xanchor': 'center',\n",
    "    'yanchor': 'top',\n",
    "    \"font\": {\"size\":50},\n",
    "    }\n",
    "    \n",
    "                  )\n",
    "\n",
    "fig.show()"
   ]
  },
  {
   "cell_type": "markdown",
   "metadata": {},
   "source": [
    "I choose to plot the 1 JAnuary becasue it is the top day where crime occur, Giving more details on where it is happening"
   ]
  },
  {
   "cell_type": "markdown",
   "metadata": {},
   "source": [
    "---"
   ]
  },
  {
   "cell_type": "markdown",
   "metadata": {},
   "source": [
    "# 10 - The $ factor"
   ]
  },
  {
   "cell_type": "markdown",
   "metadata": {},
   "source": [
    "**10.1** Merge the crime and census datasets together in a suitable way."
   ]
  },
  {
   "cell_type": "code",
   "execution_count": null,
   "metadata": {},
   "outputs": [],
   "source": [
    "chicago_crime_and_census_08_12_df=pd.merge(chicago_crime_2008_to_2012_df,chicago_census_2008_to_2012_df, left_on=\"Community Area\", right_on=\"Community Area Number\")"
   ]
  },
  {
   "cell_type": "code",
   "execution_count": null,
   "metadata": {},
   "outputs": [],
   "source": [
    "chicago_crime_and_census_08_12_df[\"Community Area Number\"] = chicago_crime_and_census_08_12_df[\"Community Area Number\"].fillna(0.0)"
   ]
  },
  {
   "cell_type": "markdown",
   "metadata": {},
   "source": [
    "---"
   ]
  },
  {
   "cell_type": "markdown",
   "metadata": {},
   "source": [
    "**10.2*** Are there certain kinds of socoeconomic area that are more prone to certain kinds of crimes? Do a deep dive in the direction you fancy yourself here."
   ]
  },
  {
   "cell_type": "code",
   "execution_count": null,
   "metadata": {},
   "outputs": [],
   "source": []
  },
  {
   "cell_type": "markdown",
   "metadata": {},
   "source": [
    "---"
   ]
  },
  {
   "cell_type": "markdown",
   "metadata": {},
   "source": [
    "# 11 - Spotligt on you, Maestro!"
   ]
  },
  {
   "cell_type": "markdown",
   "metadata": {},
   "source": [
    "There are obviously so much more to gain by analysing these datasets. This is now your opportunity to dwelve deeper into what you yourself like. Recall that the census data contributed with **alot** of dimensions.\n",
    "\n",
    "    Instructions: think of one or several questions (as we've done above). Then, proceed with your own deep dive analysis and provide your answers."
   ]
  },
  {
   "cell_type": "markdown",
   "metadata": {},
   "source": [
    "----"
   ]
  },
  {
   "cell_type": "markdown",
   "metadata": {},
   "source": [
    "# 12 - A moment of reflection"
   ]
  },
  {
   "cell_type": "markdown",
   "metadata": {},
   "source": [
    "**12.1** Looking back at the analysis that you've done, what do you think about it? Specifically, how reliable are your conclusions? Is there anything that could be done to improve the factuality of the analysis? If so, what?"
   ]
  },
  {
   "cell_type": "markdown",
   "metadata": {},
   "source": [
    "Reflecting on my work, I believe my conclusions are reliable because they are based on the available data, and I have strived to substantiate my points with this information. One limitation is that while I can present the numbers, I cannot always provide the reasons behind them, which would offer a deeper understanding of the underlying issues.\n",
    "\n",
    "It was not fun to see the large numbers associated with various types of crime, particularly those involving children, which was unexpected. However, it is encouraging that by the end of 2012, there was a noticeable decrease in both the occurrence and percentage of many crimes. Some crimes did show increases of about 300%, which seems significant, but the actual count may have risen from just one to three incidents. While this is a substantial increase percentage-wise, the absolute numbers remain small. Conversely, a 50% reduction in larger crime categories could represent a significant numerical decrease, such as halving 3,000 incidents to 1,500. This illustrates how perspectives can shift when considering percentages versus actual numbers. In fact, I tend to rely more on the concrete figures since, in the end, this is a numbers game.\n",
    "\n",
    "Another interesting observation was that most crimes were recorded at 00:00, which initially led me to suspect that police officers might be defaulting to this time when the actual time of the crime was unknown. However, upon examining the top 10 worst dates for each year, I discovered that many instances of 00:00 corresponded with New Year's Eve, which clarified the spike in criminal activity at that time. The change in time format to include the hour was enlightening and helped piece together the puzzle, offering a rationale for the patterns observed.\n",
    "\n",
    "In 2009, there was a marked decrease in crime, starting around November 2008. I speculate that this could be related to President Obama's election or the financial crisis that occurred around September. These events might have influenced crime rates, but it's not definitive. The introduction of new police policies or other factors could also have played a role. Given the multifaceted nature of crime statistics, various events could have impacted the numbers.\n",
    "\n",
    "There are shortcomings in the data, such as the presence of NaN values in the location field, which suggests that some crime records may lack detail and accuracy. This points to the possibility of data collection issues, although this is not a confirmed conclusion but merely an alternative perspective.\n",
    "\n",
    "Additionally, incorporating ethnicity data, such as Hispanic, Caucasian, Asian, or African American demographics mentioned in police reports, could provide a more comprehensive view of crime patterns. However, this type of sensitive information must be handled with care to maintain individual privacy and data protection, especially since it could potentially identify those involved in the crimes.\n",
    "\n",
    "It is also challenging to make definitive statements about the increase or decrease of crime in Chicago based solely on the 2008-2012 period since data up to 2023, which we haven't included, might show a different trend. Hence, it is crucial to clearly specify the time frame of the data analyzed to avoid misrepresenting the information.\n",
    "\n",
    "I want to express my gratitude for this opportunity to engage in an extensive project. I feel that I've gained significant new insights into data handling. To say I've mastered it would be an overstatement; there's always more to learn. Nonetheless, I believe I have emerged from this experience with enhanced knowledge, and for that, I am truly appreciative. Thank you for dedicating your time to creating this valuable exercise.\n",
    "\n",
    "\n",
    "\n",
    "\n",
    "\n"
   ]
  },
  {
   "cell_type": "markdown",
   "metadata": {},
   "source": [
    "---"
   ]
  }
 ],
 "metadata": {
  "kernelspec": {
   "display_name": "databehandling",
   "language": "python",
   "name": "python3"
  },
  "language_info": {
   "codemirror_mode": {
    "name": "ipython",
    "version": 3
   },
   "file_extension": ".py",
   "mimetype": "text/x-python",
   "name": "python",
   "nbconvert_exporter": "python",
   "pygments_lexer": "ipython3",
   "version": "3.11.4"
  }
 },
 "nbformat": 4,
 "nbformat_minor": 2
}
