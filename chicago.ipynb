{
 "cells": [
  {
   "cell_type": "markdown",
   "metadata": {},
   "source": [
    "**Import needed libraries**"
   ]
  },
  {
   "cell_type": "code",
   "execution_count": 2728,
   "metadata": {},
   "outputs": [],
   "source": [
    "import pandas as pd\n",
    "import seaborn as sns\n",
    "import plotly_express as px\n",
    "from datetime import datetime\n",
    "\n",
    "import matplotlib.pyplot as plt\n",
    "\n",
    "import warnings\n",
    "\n",
    "warnings.filterwarnings('ignore')"
   ]
  },
  {
   "cell_type": "markdown",
   "metadata": {},
   "source": [
    "## 1 - Warming up"
   ]
  },
  {
   "cell_type": "markdown",
   "metadata": {},
   "source": [
    "This project will be centered around the Chicago Crime & selected Census data. Start of by downloading both datasets."
   ]
  },
  {
   "cell_type": "markdown",
   "metadata": {},
   "source": [
    "**1.1** Read through the documentation for both datasets. Do this *thoroughly*!\n",
    "\n",
    "Chicago crime data : https://data.cityofchicago.org/Public-Safety/Crimes-2001-to-Present/ijzp-q8t2\n",
    "\n",
    "Chicago census data : https://data.cityofchicago.org/Health-Human-Services/Census-Data-Selected-socioeconomic-indicators-in-C/kn9c-c2s2\n",
    "\n"
   ]
  },
  {
   "cell_type": "markdown",
   "metadata": {},
   "source": [
    "**1.2** Now download both datasets as .csv files. You get the option to download by frist clicking on the 'Export' tab. Be mindful that the crime dataset is over 2GB in size, so it might take awhile to download.\n",
    "\n",
    "Once downloaded, rename the files chicago_crime.csv & chicago_census.csv, respectively, and put them in the same folder as this notebook."
   ]
  },
  {
   "cell_type": "markdown",
   "metadata": {},
   "source": [
    "**1.3** Load data. The following reads should now work."
   ]
  },
  {
   "cell_type": "code",
   "execution_count": 198,
   "metadata": {},
   "outputs": [],
   "source": [
    "chicago_crime_2001_to_2023_df = pd.read_csv('chicago_crime.csv')\n",
    "chicago_census_2008_to_2012_df = pd.read_csv('chicago_census.csv')"
   ]
  },
  {
   "cell_type": "markdown",
   "metadata": {},
   "source": [
    "**1.4** The census data already contains records that apply for the period 2008-2012. Now filter the crime data so that it also contains records only for the years in that period. \n",
    "\n",
    "Hint: You probably need to work with the existing Date column. Transform the values from strings to datetime-objects. This operation shouldn't take more than a minute or so using .apply()\n",
    "\n",
    "**Important:** For the rest of this project, we will only work with data for the year 2008-2012."
   ]
  },
  {
   "cell_type": "code",
   "execution_count": 2727,
   "metadata": {},
   "outputs": [],
   "source": [
    "def formatDate(day):\n",
    "    input_us_time = \"%m/%d/%Y %I:%M:%S %p\"\n",
    "    output = datetime.strptime(day,input_us_time)\n",
    "    return output\n",
    "\n"
   ]
  },
  {
   "cell_type": "code",
   "execution_count": 2584,
   "metadata": {},
   "outputs": [],
   "source": [
    "chicago_crime_2001_to_2023_df[\"Date\"] = pd.to_datetime(chicago_crime_2001_to_2023_df[\"Date\"]) \n"
   ]
  },
  {
   "cell_type": "code",
   "execution_count": 201,
   "metadata": {},
   "outputs": [],
   "source": [
    "chicago_crime_2008_to_2012_df = chicago_crime_2001_to_2023_df[(pd.DatetimeIndex(chicago_crime_2001_to_2023_df[\"Date\"]).year >= 2008) & (pd.DatetimeIndex(chicago_crime_2001_to_2023_df[\"Date\"]).year <= 2012) ].reset_index(drop=True)"
   ]
  },
  {
   "cell_type": "code",
   "execution_count": 2583,
   "metadata": {},
   "outputs": [
    {
     "data": {
      "text/html": [
       "<div>\n",
       "<style scoped>\n",
       "    .dataframe tbody tr th:only-of-type {\n",
       "        vertical-align: middle;\n",
       "    }\n",
       "\n",
       "    .dataframe tbody tr th {\n",
       "        vertical-align: top;\n",
       "    }\n",
       "\n",
       "    .dataframe thead th {\n",
       "        text-align: right;\n",
       "    }\n",
       "</style>\n",
       "<table border=\"1\" class=\"dataframe\">\n",
       "  <thead>\n",
       "    <tr style=\"text-align: right;\">\n",
       "      <th></th>\n",
       "      <th>ID</th>\n",
       "      <th>Case Number</th>\n",
       "      <th>Date</th>\n",
       "      <th>Block</th>\n",
       "      <th>IUCR</th>\n",
       "      <th>Primary Type</th>\n",
       "      <th>Description</th>\n",
       "      <th>Location Description</th>\n",
       "      <th>Arrest</th>\n",
       "      <th>Domestic</th>\n",
       "      <th>...</th>\n",
       "      <th>Community Area</th>\n",
       "      <th>FBI Code</th>\n",
       "      <th>X Coordinate</th>\n",
       "      <th>Y Coordinate</th>\n",
       "      <th>Year</th>\n",
       "      <th>Updated On</th>\n",
       "      <th>Latitude</th>\n",
       "      <th>Longitude</th>\n",
       "      <th>Location</th>\n",
       "      <th>Difference 2008 - 2012</th>\n",
       "    </tr>\n",
       "  </thead>\n",
       "  <tbody>\n",
       "    <tr>\n",
       "      <th>0</th>\n",
       "      <td>11645833</td>\n",
       "      <td>JC213044</td>\n",
       "      <td>2012-05-05 12:25:00</td>\n",
       "      <td>057XX W OHIO ST</td>\n",
       "      <td>1153</td>\n",
       "      <td>DECEPTIVE PRACTICE</td>\n",
       "      <td>FINANCIAL IDENTITY THEFT OVER $ 300</td>\n",
       "      <td>NaN</td>\n",
       "      <td>False</td>\n",
       "      <td>False</td>\n",
       "      <td>...</td>\n",
       "      <td>25.0</td>\n",
       "      <td>11</td>\n",
       "      <td>NaN</td>\n",
       "      <td>NaN</td>\n",
       "      <td>2012</td>\n",
       "      <td>04/06/2019 04:04:43 PM</td>\n",
       "      <td>NaN</td>\n",
       "      <td>NaN</td>\n",
       "      <td>NaN</td>\n",
       "      <td>12972.0</td>\n",
       "    </tr>\n",
       "    <tr>\n",
       "      <th>1</th>\n",
       "      <td>11646447</td>\n",
       "      <td>JC213946</td>\n",
       "      <td>2008-10-24 14:30:00</td>\n",
       "      <td>036XX N NARRAGANSETT AVE</td>\n",
       "      <td>1153</td>\n",
       "      <td>DECEPTIVE PRACTICE</td>\n",
       "      <td>FINANCIAL IDENTITY THEFT OVER $ 300</td>\n",
       "      <td>APARTMENT</td>\n",
       "      <td>False</td>\n",
       "      <td>False</td>\n",
       "      <td>...</td>\n",
       "      <td>17.0</td>\n",
       "      <td>11</td>\n",
       "      <td>NaN</td>\n",
       "      <td>NaN</td>\n",
       "      <td>2008</td>\n",
       "      <td>04/07/2019 04:05:59 PM</td>\n",
       "      <td>NaN</td>\n",
       "      <td>NaN</td>\n",
       "      <td>NaN</td>\n",
       "      <td>16796.0</td>\n",
       "    </tr>\n",
       "    <tr>\n",
       "      <th>2</th>\n",
       "      <td>11031104</td>\n",
       "      <td>JA362043</td>\n",
       "      <td>2008-07-24 00:01:00</td>\n",
       "      <td>031XX W FILLMORE ST</td>\n",
       "      <td>1563</td>\n",
       "      <td>SEX OFFENSE</td>\n",
       "      <td>CRIMINAL SEXUAL ABUSE</td>\n",
       "      <td>APARTMENT</td>\n",
       "      <td>False</td>\n",
       "      <td>True</td>\n",
       "      <td>...</td>\n",
       "      <td>29.0</td>\n",
       "      <td>17</td>\n",
       "      <td>NaN</td>\n",
       "      <td>NaN</td>\n",
       "      <td>2008</td>\n",
       "      <td>07/26/2017 03:56:50 PM</td>\n",
       "      <td>NaN</td>\n",
       "      <td>NaN</td>\n",
       "      <td>NaN</td>\n",
       "      <td>16988.0</td>\n",
       "    </tr>\n",
       "    <tr>\n",
       "      <th>3</th>\n",
       "      <td>11648237</td>\n",
       "      <td>JC216157</td>\n",
       "      <td>2012-01-01 12:00:00</td>\n",
       "      <td>115XX S CAMPBELL AVE</td>\n",
       "      <td>1153</td>\n",
       "      <td>DECEPTIVE PRACTICE</td>\n",
       "      <td>FINANCIAL IDENTITY THEFT OVER $ 300</td>\n",
       "      <td>RESIDENCE</td>\n",
       "      <td>False</td>\n",
       "      <td>False</td>\n",
       "      <td>...</td>\n",
       "      <td>75.0</td>\n",
       "      <td>11</td>\n",
       "      <td>NaN</td>\n",
       "      <td>NaN</td>\n",
       "      <td>2012</td>\n",
       "      <td>04/09/2019 04:24:58 PM</td>\n",
       "      <td>NaN</td>\n",
       "      <td>NaN</td>\n",
       "      <td>NaN</td>\n",
       "      <td>11017.0</td>\n",
       "    </tr>\n",
       "    <tr>\n",
       "      <th>4</th>\n",
       "      <td>11648822</td>\n",
       "      <td>JC216887</td>\n",
       "      <td>2011-12-13 00:00:00</td>\n",
       "      <td>115XX S MARSHFIELD AVE</td>\n",
       "      <td>1153</td>\n",
       "      <td>DECEPTIVE PRACTICE</td>\n",
       "      <td>FINANCIAL IDENTITY THEFT OVER $ 300</td>\n",
       "      <td>ATHLETIC CLUB</td>\n",
       "      <td>False</td>\n",
       "      <td>False</td>\n",
       "      <td>...</td>\n",
       "      <td>75.0</td>\n",
       "      <td>11</td>\n",
       "      <td>NaN</td>\n",
       "      <td>NaN</td>\n",
       "      <td>2011</td>\n",
       "      <td>04/09/2019 04:24:58 PM</td>\n",
       "      <td>NaN</td>\n",
       "      <td>NaN</td>\n",
       "      <td>NaN</td>\n",
       "      <td>3373.0</td>\n",
       "    </tr>\n",
       "    <tr>\n",
       "      <th>...</th>\n",
       "      <td>...</td>\n",
       "      <td>...</td>\n",
       "      <td>...</td>\n",
       "      <td>...</td>\n",
       "      <td>...</td>\n",
       "      <td>...</td>\n",
       "      <td>...</td>\n",
       "      <td>...</td>\n",
       "      <td>...</td>\n",
       "      <td>...</td>\n",
       "      <td>...</td>\n",
       "      <td>...</td>\n",
       "      <td>...</td>\n",
       "      <td>...</td>\n",
       "      <td>...</td>\n",
       "      <td>...</td>\n",
       "      <td>...</td>\n",
       "      <td>...</td>\n",
       "      <td>...</td>\n",
       "      <td>...</td>\n",
       "      <td>...</td>\n",
       "    </tr>\n",
       "    <tr>\n",
       "      <th>1878850</th>\n",
       "      <td>12012717</td>\n",
       "      <td>JD189149</td>\n",
       "      <td>2008-02-01 17:55:00</td>\n",
       "      <td>085XX S KOLMAR AVE</td>\n",
       "      <td>1153</td>\n",
       "      <td>DECEPTIVE PRACTICE</td>\n",
       "      <td>FINANCIAL IDENTITY THEFT OVER $ 300</td>\n",
       "      <td>NaN</td>\n",
       "      <td>False</td>\n",
       "      <td>False</td>\n",
       "      <td>...</td>\n",
       "      <td>70.0</td>\n",
       "      <td>11</td>\n",
       "      <td>NaN</td>\n",
       "      <td>NaN</td>\n",
       "      <td>2008</td>\n",
       "      <td>03/19/2020 03:45:37 PM</td>\n",
       "      <td>NaN</td>\n",
       "      <td>NaN</td>\n",
       "      <td>NaN</td>\n",
       "      <td>NaN</td>\n",
       "    </tr>\n",
       "    <tr>\n",
       "      <th>1878851</th>\n",
       "      <td>12082285</td>\n",
       "      <td>JD269088</td>\n",
       "      <td>2012-06-18 09:00:00</td>\n",
       "      <td>016XX W FARWELL AVE</td>\n",
       "      <td>1153</td>\n",
       "      <td>DECEPTIVE PRACTICE</td>\n",
       "      <td>FINANCIAL IDENTITY THEFT OVER $ 300</td>\n",
       "      <td>APARTMENT</td>\n",
       "      <td>False</td>\n",
       "      <td>False</td>\n",
       "      <td>...</td>\n",
       "      <td>1.0</td>\n",
       "      <td>11</td>\n",
       "      <td>NaN</td>\n",
       "      <td>NaN</td>\n",
       "      <td>2012</td>\n",
       "      <td>06/20/2020 03:43:39 PM</td>\n",
       "      <td>NaN</td>\n",
       "      <td>NaN</td>\n",
       "      <td>NaN</td>\n",
       "      <td>NaN</td>\n",
       "    </tr>\n",
       "    <tr>\n",
       "      <th>1878852</th>\n",
       "      <td>12010199</td>\n",
       "      <td>JD187029</td>\n",
       "      <td>2011-06-01 13:00:00</td>\n",
       "      <td>030XX N ELBRIDGE AVE</td>\n",
       "      <td>0266</td>\n",
       "      <td>CRIMINAL SEXUAL ASSAULT</td>\n",
       "      <td>PREDATORY</td>\n",
       "      <td>APARTMENT</td>\n",
       "      <td>False</td>\n",
       "      <td>True</td>\n",
       "      <td>...</td>\n",
       "      <td>21.0</td>\n",
       "      <td>02</td>\n",
       "      <td>NaN</td>\n",
       "      <td>NaN</td>\n",
       "      <td>2011</td>\n",
       "      <td>09/07/2021 03:41:02 PM</td>\n",
       "      <td>NaN</td>\n",
       "      <td>NaN</td>\n",
       "      <td>NaN</td>\n",
       "      <td>NaN</td>\n",
       "    </tr>\n",
       "    <tr>\n",
       "      <th>1878853</th>\n",
       "      <td>12206132</td>\n",
       "      <td>JD414165</td>\n",
       "      <td>2010-11-01 12:00:00</td>\n",
       "      <td>116XX S STATE ST</td>\n",
       "      <td>0265</td>\n",
       "      <td>CRIMINAL SEXUAL ASSAULT</td>\n",
       "      <td>AGGRAVATED - OTHER</td>\n",
       "      <td>RESIDENCE</td>\n",
       "      <td>False</td>\n",
       "      <td>False</td>\n",
       "      <td>...</td>\n",
       "      <td>53.0</td>\n",
       "      <td>02</td>\n",
       "      <td>NaN</td>\n",
       "      <td>NaN</td>\n",
       "      <td>2010</td>\n",
       "      <td>10/29/2020 03:45:00 PM</td>\n",
       "      <td>NaN</td>\n",
       "      <td>NaN</td>\n",
       "      <td>NaN</td>\n",
       "      <td>NaN</td>\n",
       "    </tr>\n",
       "    <tr>\n",
       "      <th>1878854</th>\n",
       "      <td>12062019</td>\n",
       "      <td>JD245763</td>\n",
       "      <td>2008-01-01 00:01:00</td>\n",
       "      <td>048XX W ARMITAGE AVE</td>\n",
       "      <td>0266</td>\n",
       "      <td>CRIMINAL SEXUAL ASSAULT</td>\n",
       "      <td>PREDATORY</td>\n",
       "      <td>RESIDENCE</td>\n",
       "      <td>False</td>\n",
       "      <td>True</td>\n",
       "      <td>...</td>\n",
       "      <td>19.0</td>\n",
       "      <td>02</td>\n",
       "      <td>NaN</td>\n",
       "      <td>NaN</td>\n",
       "      <td>2008</td>\n",
       "      <td>12/19/2020 03:39:24 PM</td>\n",
       "      <td>NaN</td>\n",
       "      <td>NaN</td>\n",
       "      <td>NaN</td>\n",
       "      <td>NaN</td>\n",
       "    </tr>\n",
       "  </tbody>\n",
       "</table>\n",
       "<p>1878855 rows × 23 columns</p>\n",
       "</div>"
      ],
      "text/plain": [
       "               ID Case Number                Date                     Block  \\\n",
       "0        11645833    JC213044 2012-05-05 12:25:00           057XX W OHIO ST   \n",
       "1        11646447    JC213946 2008-10-24 14:30:00  036XX N NARRAGANSETT AVE   \n",
       "2        11031104    JA362043 2008-07-24 00:01:00       031XX W FILLMORE ST   \n",
       "3        11648237    JC216157 2012-01-01 12:00:00      115XX S CAMPBELL AVE   \n",
       "4        11648822    JC216887 2011-12-13 00:00:00    115XX S MARSHFIELD AVE   \n",
       "...           ...         ...                 ...                       ...   \n",
       "1878850  12012717    JD189149 2008-02-01 17:55:00        085XX S KOLMAR AVE   \n",
       "1878851  12082285    JD269088 2012-06-18 09:00:00       016XX W FARWELL AVE   \n",
       "1878852  12010199    JD187029 2011-06-01 13:00:00      030XX N ELBRIDGE AVE   \n",
       "1878853  12206132    JD414165 2010-11-01 12:00:00          116XX S STATE ST   \n",
       "1878854  12062019    JD245763 2008-01-01 00:01:00      048XX W ARMITAGE AVE   \n",
       "\n",
       "         IUCR             Primary Type                          Description  \\\n",
       "0        1153       DECEPTIVE PRACTICE  FINANCIAL IDENTITY THEFT OVER $ 300   \n",
       "1        1153       DECEPTIVE PRACTICE  FINANCIAL IDENTITY THEFT OVER $ 300   \n",
       "2        1563              SEX OFFENSE                CRIMINAL SEXUAL ABUSE   \n",
       "3        1153       DECEPTIVE PRACTICE  FINANCIAL IDENTITY THEFT OVER $ 300   \n",
       "4        1153       DECEPTIVE PRACTICE  FINANCIAL IDENTITY THEFT OVER $ 300   \n",
       "...       ...                      ...                                  ...   \n",
       "1878850  1153       DECEPTIVE PRACTICE  FINANCIAL IDENTITY THEFT OVER $ 300   \n",
       "1878851  1153       DECEPTIVE PRACTICE  FINANCIAL IDENTITY THEFT OVER $ 300   \n",
       "1878852  0266  CRIMINAL SEXUAL ASSAULT                            PREDATORY   \n",
       "1878853  0265  CRIMINAL SEXUAL ASSAULT                   AGGRAVATED - OTHER   \n",
       "1878854  0266  CRIMINAL SEXUAL ASSAULT                            PREDATORY   \n",
       "\n",
       "        Location Description  Arrest  Domestic  ...  Community Area  FBI Code  \\\n",
       "0                        NaN   False     False  ...            25.0        11   \n",
       "1                  APARTMENT   False     False  ...            17.0        11   \n",
       "2                  APARTMENT   False      True  ...            29.0        17   \n",
       "3                  RESIDENCE   False     False  ...            75.0        11   \n",
       "4              ATHLETIC CLUB   False     False  ...            75.0        11   \n",
       "...                      ...     ...       ...  ...             ...       ...   \n",
       "1878850                  NaN   False     False  ...            70.0        11   \n",
       "1878851            APARTMENT   False     False  ...             1.0        11   \n",
       "1878852            APARTMENT   False      True  ...            21.0        02   \n",
       "1878853            RESIDENCE   False     False  ...            53.0        02   \n",
       "1878854            RESIDENCE   False      True  ...            19.0        02   \n",
       "\n",
       "         X Coordinate  Y Coordinate  Year              Updated On  Latitude  \\\n",
       "0                 NaN           NaN  2012  04/06/2019 04:04:43 PM       NaN   \n",
       "1                 NaN           NaN  2008  04/07/2019 04:05:59 PM       NaN   \n",
       "2                 NaN           NaN  2008  07/26/2017 03:56:50 PM       NaN   \n",
       "3                 NaN           NaN  2012  04/09/2019 04:24:58 PM       NaN   \n",
       "4                 NaN           NaN  2011  04/09/2019 04:24:58 PM       NaN   \n",
       "...               ...           ...   ...                     ...       ...   \n",
       "1878850           NaN           NaN  2008  03/19/2020 03:45:37 PM       NaN   \n",
       "1878851           NaN           NaN  2012  06/20/2020 03:43:39 PM       NaN   \n",
       "1878852           NaN           NaN  2011  09/07/2021 03:41:02 PM       NaN   \n",
       "1878853           NaN           NaN  2010  10/29/2020 03:45:00 PM       NaN   \n",
       "1878854           NaN           NaN  2008  12/19/2020 03:39:24 PM       NaN   \n",
       "\n",
       "         Longitude Location  Difference 2008 - 2012  \n",
       "0              NaN      NaN                 12972.0  \n",
       "1              NaN      NaN                 16796.0  \n",
       "2              NaN      NaN                 16988.0  \n",
       "3              NaN      NaN                 11017.0  \n",
       "4              NaN      NaN                  3373.0  \n",
       "...            ...      ...                     ...  \n",
       "1878850        NaN      NaN                     NaN  \n",
       "1878851        NaN      NaN                     NaN  \n",
       "1878852        NaN      NaN                     NaN  \n",
       "1878853        NaN      NaN                     NaN  \n",
       "1878854        NaN      NaN                     NaN  \n",
       "\n",
       "[1878855 rows x 23 columns]"
      ]
     },
     "execution_count": 2583,
     "metadata": {},
     "output_type": "execute_result"
    }
   ],
   "source": [
    "chicago_crime_2008_to_2012_df"
   ]
  },
  {
   "cell_type": "markdown",
   "metadata": {},
   "source": [
    "# 2 - Cleaning up the mess"
   ]
  },
  {
   "cell_type": "markdown",
   "metadata": {},
   "source": [
    "**Note:** The rest of the problems don't really require you to finish this section - you could revisit these questions at a later time. \n",
    "\n",
    "Bear in mind though that the numbers you aquire in the problems ahead may or may not change a bit, depending on how you choose to treat the duplicates and missing values here.  "
   ]
  },
  {
   "cell_type": "code",
   "execution_count": 203,
   "metadata": {},
   "outputs": [],
   "source": [
    "def barplot_by_dt(data_frame):\n",
    "    \n",
    "    df_null_counts = data_frame.isnull().sum()\n",
    "    df_null_counts = df_null_counts[df_null_counts > 0 ]  \n",
    "    \n",
    "    plt.figure(figsize=(12,6))\n",
    "    sns.barplot(x= df_null_counts.index, y=df_null_counts.values, )\n",
    "\n",
    "    plt.title(\"Plotting missing value of columns\")\n",
    "    plt.show()"
   ]
  },
  {
   "cell_type": "markdown",
   "metadata": {},
   "source": [
    "**2.1** How many duplicated rows are there in crime data set? If there are any, remove them."
   ]
  },
  {
   "cell_type": "code",
   "execution_count": 204,
   "metadata": {},
   "outputs": [
    {
     "name": "stdout",
     "output_type": "stream",
     "text": [
      "There are 0 duplicates in the chicage crime\n"
     ]
    }
   ],
   "source": [
    "duplicates =chicago_crime_2008_to_2012_df.duplicated().sum()\n",
    "print(f\"There are {duplicates} duplicates in the chicage crime\")"
   ]
  },
  {
   "cell_type": "markdown",
   "metadata": {},
   "source": [
    "**2.2** What columns in the crime dataset has missing values, and how many are they?"
   ]
  },
  {
   "cell_type": "code",
   "execution_count": 206,
   "metadata": {},
   "outputs": [],
   "source": [
    "non_values =  chicago_crime_2008_to_2012_df.isnull().sum()"
   ]
  },
  {
   "cell_type": "code",
   "execution_count": 207,
   "metadata": {},
   "outputs": [
    {
     "name": "stdout",
     "output_type": "stream",
     "text": [
      "Location Description     1043\n",
      "District                   40\n",
      "Ward                       46\n",
      "Community Area            854\n",
      "X Coordinate            16232\n",
      "Y Coordinate            16232\n",
      "Latitude                16232\n",
      "Longitude               16232\n",
      "Location                16232\n",
      "dtype: int64\n"
     ]
    },
    {
     "data": {
      "image/png": "[encoded data removed]",
      "text/plain": [
       "<Figure size 1200x600 with 1 Axes>"
      ]
     },
     "metadata": {},
     "output_type": "display_data"
    }
   ],
   "source": [
    "tnon_values = non_values[non_values > 0]\n",
    "print(tnon_values)\n",
    "barplot_by_dt(chicago_crime_2008_to_2012_df)"
   ]
  },
  {
   "cell_type": "markdown",
   "metadata": {},
   "source": [
    "**2.3*** Now, for all the columns with missing values you've identified, chose on of the following:\n",
    "\n",
    "        a) remove the entire row with the missing value\n",
    "        b) replace the missing values with another suitable value\n",
    "        c) don't do anything, leave the missing values as is\n",
    "\n",
    "All options above are completely valid! However, I want you to, for all columns with missing values, **clearly** argue for why you chose to do what you do."
   ]
  },
  {
   "cell_type": "code",
   "execution_count": 208,
   "metadata": {},
   "outputs": [
    {
     "data": {
      "text/html": [
       "<div>\n",
       "<style scoped>\n",
       "    .dataframe tbody tr th:only-of-type {\n",
       "        vertical-align: middle;\n",
       "    }\n",
       "\n",
       "    .dataframe tbody tr th {\n",
       "        vertical-align: top;\n",
       "    }\n",
       "\n",
       "    .dataframe thead th {\n",
       "        text-align: right;\n",
       "    }\n",
       "</style>\n",
       "<table border=\"1\" class=\"dataframe\">\n",
       "  <thead>\n",
       "    <tr style=\"text-align: right;\">\n",
       "      <th></th>\n",
       "      <th>ID</th>\n",
       "      <th>Case Number</th>\n",
       "      <th>Date</th>\n",
       "      <th>Block</th>\n",
       "      <th>IUCR</th>\n",
       "      <th>Primary Type</th>\n",
       "      <th>Description</th>\n",
       "      <th>Location Description</th>\n",
       "      <th>Arrest</th>\n",
       "      <th>Domestic</th>\n",
       "      <th>...</th>\n",
       "      <th>Ward</th>\n",
       "      <th>Community Area</th>\n",
       "      <th>FBI Code</th>\n",
       "      <th>X Coordinate</th>\n",
       "      <th>Y Coordinate</th>\n",
       "      <th>Year</th>\n",
       "      <th>Updated On</th>\n",
       "      <th>Latitude</th>\n",
       "      <th>Longitude</th>\n",
       "      <th>Location</th>\n",
       "    </tr>\n",
       "  </thead>\n",
       "  <tbody>\n",
       "    <tr>\n",
       "      <th>0</th>\n",
       "      <td>11645833</td>\n",
       "      <td>JC213044</td>\n",
       "      <td>2012-05-05 12:25:00</td>\n",
       "      <td>057XX W OHIO ST</td>\n",
       "      <td>1153</td>\n",
       "      <td>DECEPTIVE PRACTICE</td>\n",
       "      <td>FINANCIAL IDENTITY THEFT OVER $ 300</td>\n",
       "      <td>NaN</td>\n",
       "      <td>False</td>\n",
       "      <td>False</td>\n",
       "      <td>...</td>\n",
       "      <td>29.0</td>\n",
       "      <td>25.0</td>\n",
       "      <td>11</td>\n",
       "      <td>NaN</td>\n",
       "      <td>NaN</td>\n",
       "      <td>2012</td>\n",
       "      <td>04/06/2019 04:04:43 PM</td>\n",
       "      <td>NaN</td>\n",
       "      <td>NaN</td>\n",
       "      <td>NaN</td>\n",
       "    </tr>\n",
       "    <tr>\n",
       "      <th>1</th>\n",
       "      <td>11646447</td>\n",
       "      <td>JC213946</td>\n",
       "      <td>2008-10-24 14:30:00</td>\n",
       "      <td>036XX N NARRAGANSETT AVE</td>\n",
       "      <td>1153</td>\n",
       "      <td>DECEPTIVE PRACTICE</td>\n",
       "      <td>FINANCIAL IDENTITY THEFT OVER $ 300</td>\n",
       "      <td>APARTMENT</td>\n",
       "      <td>False</td>\n",
       "      <td>False</td>\n",
       "      <td>...</td>\n",
       "      <td>36.0</td>\n",
       "      <td>17.0</td>\n",
       "      <td>11</td>\n",
       "      <td>NaN</td>\n",
       "      <td>NaN</td>\n",
       "      <td>2008</td>\n",
       "      <td>04/07/2019 04:05:59 PM</td>\n",
       "      <td>NaN</td>\n",
       "      <td>NaN</td>\n",
       "      <td>NaN</td>\n",
       "    </tr>\n",
       "    <tr>\n",
       "      <th>2</th>\n",
       "      <td>11031104</td>\n",
       "      <td>JA362043</td>\n",
       "      <td>2008-07-24 00:01:00</td>\n",
       "      <td>031XX W FILLMORE ST</td>\n",
       "      <td>1563</td>\n",
       "      <td>SEX OFFENSE</td>\n",
       "      <td>CRIMINAL SEXUAL ABUSE</td>\n",
       "      <td>APARTMENT</td>\n",
       "      <td>False</td>\n",
       "      <td>True</td>\n",
       "      <td>...</td>\n",
       "      <td>24.0</td>\n",
       "      <td>29.0</td>\n",
       "      <td>17</td>\n",
       "      <td>NaN</td>\n",
       "      <td>NaN</td>\n",
       "      <td>2008</td>\n",
       "      <td>07/26/2017 03:56:50 PM</td>\n",
       "      <td>NaN</td>\n",
       "      <td>NaN</td>\n",
       "      <td>NaN</td>\n",
       "    </tr>\n",
       "    <tr>\n",
       "      <th>3</th>\n",
       "      <td>11648237</td>\n",
       "      <td>JC216157</td>\n",
       "      <td>2012-01-01 12:00:00</td>\n",
       "      <td>115XX S CAMPBELL AVE</td>\n",
       "      <td>1153</td>\n",
       "      <td>DECEPTIVE PRACTICE</td>\n",
       "      <td>FINANCIAL IDENTITY THEFT OVER $ 300</td>\n",
       "      <td>RESIDENCE</td>\n",
       "      <td>False</td>\n",
       "      <td>False</td>\n",
       "      <td>...</td>\n",
       "      <td>19.0</td>\n",
       "      <td>75.0</td>\n",
       "      <td>11</td>\n",
       "      <td>NaN</td>\n",
       "      <td>NaN</td>\n",
       "      <td>2012</td>\n",
       "      <td>04/09/2019 04:24:58 PM</td>\n",
       "      <td>NaN</td>\n",
       "      <td>NaN</td>\n",
       "      <td>NaN</td>\n",
       "    </tr>\n",
       "    <tr>\n",
       "      <th>4</th>\n",
       "      <td>11648822</td>\n",
       "      <td>JC216887</td>\n",
       "      <td>2011-12-13 00:00:00</td>\n",
       "      <td>115XX S MARSHFIELD AVE</td>\n",
       "      <td>1153</td>\n",
       "      <td>DECEPTIVE PRACTICE</td>\n",
       "      <td>FINANCIAL IDENTITY THEFT OVER $ 300</td>\n",
       "      <td>ATHLETIC CLUB</td>\n",
       "      <td>False</td>\n",
       "      <td>False</td>\n",
       "      <td>...</td>\n",
       "      <td>34.0</td>\n",
       "      <td>75.0</td>\n",
       "      <td>11</td>\n",
       "      <td>NaN</td>\n",
       "      <td>NaN</td>\n",
       "      <td>2011</td>\n",
       "      <td>04/09/2019 04:24:58 PM</td>\n",
       "      <td>NaN</td>\n",
       "      <td>NaN</td>\n",
       "      <td>NaN</td>\n",
       "    </tr>\n",
       "    <tr>\n",
       "      <th>...</th>\n",
       "      <td>...</td>\n",
       "      <td>...</td>\n",
       "      <td>...</td>\n",
       "      <td>...</td>\n",
       "      <td>...</td>\n",
       "      <td>...</td>\n",
       "      <td>...</td>\n",
       "      <td>...</td>\n",
       "      <td>...</td>\n",
       "      <td>...</td>\n",
       "      <td>...</td>\n",
       "      <td>...</td>\n",
       "      <td>...</td>\n",
       "      <td>...</td>\n",
       "      <td>...</td>\n",
       "      <td>...</td>\n",
       "      <td>...</td>\n",
       "      <td>...</td>\n",
       "      <td>...</td>\n",
       "      <td>...</td>\n",
       "      <td>...</td>\n",
       "    </tr>\n",
       "    <tr>\n",
       "      <th>1878850</th>\n",
       "      <td>12012717</td>\n",
       "      <td>JD189149</td>\n",
       "      <td>2008-02-01 17:55:00</td>\n",
       "      <td>085XX S KOLMAR AVE</td>\n",
       "      <td>1153</td>\n",
       "      <td>DECEPTIVE PRACTICE</td>\n",
       "      <td>FINANCIAL IDENTITY THEFT OVER $ 300</td>\n",
       "      <td>NaN</td>\n",
       "      <td>False</td>\n",
       "      <td>False</td>\n",
       "      <td>...</td>\n",
       "      <td>18.0</td>\n",
       "      <td>70.0</td>\n",
       "      <td>11</td>\n",
       "      <td>NaN</td>\n",
       "      <td>NaN</td>\n",
       "      <td>2008</td>\n",
       "      <td>03/19/2020 03:45:37 PM</td>\n",
       "      <td>NaN</td>\n",
       "      <td>NaN</td>\n",
       "      <td>NaN</td>\n",
       "    </tr>\n",
       "    <tr>\n",
       "      <th>1878851</th>\n",
       "      <td>12082285</td>\n",
       "      <td>JD269088</td>\n",
       "      <td>2012-06-18 09:00:00</td>\n",
       "      <td>016XX W FARWELL AVE</td>\n",
       "      <td>1153</td>\n",
       "      <td>DECEPTIVE PRACTICE</td>\n",
       "      <td>FINANCIAL IDENTITY THEFT OVER $ 300</td>\n",
       "      <td>APARTMENT</td>\n",
       "      <td>False</td>\n",
       "      <td>False</td>\n",
       "      <td>...</td>\n",
       "      <td>49.0</td>\n",
       "      <td>1.0</td>\n",
       "      <td>11</td>\n",
       "      <td>NaN</td>\n",
       "      <td>NaN</td>\n",
       "      <td>2012</td>\n",
       "      <td>06/20/2020 03:43:39 PM</td>\n",
       "      <td>NaN</td>\n",
       "      <td>NaN</td>\n",
       "      <td>NaN</td>\n",
       "    </tr>\n",
       "    <tr>\n",
       "      <th>1878852</th>\n",
       "      <td>12010199</td>\n",
       "      <td>JD187029</td>\n",
       "      <td>2011-06-01 13:00:00</td>\n",
       "      <td>030XX N ELBRIDGE AVE</td>\n",
       "      <td>0266</td>\n",
       "      <td>CRIMINAL SEXUAL ASSAULT</td>\n",
       "      <td>PREDATORY</td>\n",
       "      <td>APARTMENT</td>\n",
       "      <td>False</td>\n",
       "      <td>True</td>\n",
       "      <td>...</td>\n",
       "      <td>35.0</td>\n",
       "      <td>21.0</td>\n",
       "      <td>02</td>\n",
       "      <td>NaN</td>\n",
       "      <td>NaN</td>\n",
       "      <td>2011</td>\n",
       "      <td>09/07/2021 03:41:02 PM</td>\n",
       "      <td>NaN</td>\n",
       "      <td>NaN</td>\n",
       "      <td>NaN</td>\n",
       "    </tr>\n",
       "    <tr>\n",
       "      <th>1878853</th>\n",
       "      <td>12206132</td>\n",
       "      <td>JD414165</td>\n",
       "      <td>2010-11-01 12:00:00</td>\n",
       "      <td>116XX S STATE ST</td>\n",
       "      <td>0265</td>\n",
       "      <td>CRIMINAL SEXUAL ASSAULT</td>\n",
       "      <td>AGGRAVATED - OTHER</td>\n",
       "      <td>RESIDENCE</td>\n",
       "      <td>False</td>\n",
       "      <td>False</td>\n",
       "      <td>...</td>\n",
       "      <td>34.0</td>\n",
       "      <td>53.0</td>\n",
       "      <td>02</td>\n",
       "      <td>NaN</td>\n",
       "      <td>NaN</td>\n",
       "      <td>2010</td>\n",
       "      <td>10/29/2020 03:45:00 PM</td>\n",
       "      <td>NaN</td>\n",
       "      <td>NaN</td>\n",
       "      <td>NaN</td>\n",
       "    </tr>\n",
       "    <tr>\n",
       "      <th>1878854</th>\n",
       "      <td>12062019</td>\n",
       "      <td>JD245763</td>\n",
       "      <td>2008-01-01 00:01:00</td>\n",
       "      <td>048XX W ARMITAGE AVE</td>\n",
       "      <td>0266</td>\n",
       "      <td>CRIMINAL SEXUAL ASSAULT</td>\n",
       "      <td>PREDATORY</td>\n",
       "      <td>RESIDENCE</td>\n",
       "      <td>False</td>\n",
       "      <td>True</td>\n",
       "      <td>...</td>\n",
       "      <td>36.0</td>\n",
       "      <td>19.0</td>\n",
       "      <td>02</td>\n",
       "      <td>NaN</td>\n",
       "      <td>NaN</td>\n",
       "      <td>2008</td>\n",
       "      <td>12/19/2020 03:39:24 PM</td>\n",
       "      <td>NaN</td>\n",
       "      <td>NaN</td>\n",
       "      <td>NaN</td>\n",
       "    </tr>\n",
       "  </tbody>\n",
       "</table>\n",
       "<p>1878855 rows × 22 columns</p>\n",
       "</div>"
      ],
      "text/plain": [
       "               ID Case Number                Date                     Block  \\\n",
       "0        11645833    JC213044 2012-05-05 12:25:00           057XX W OHIO ST   \n",
       "1        11646447    JC213946 2008-10-24 14:30:00  036XX N NARRAGANSETT AVE   \n",
       "2        11031104    JA362043 2008-07-24 00:01:00       031XX W FILLMORE ST   \n",
       "3        11648237    JC216157 2012-01-01 12:00:00      115XX S CAMPBELL AVE   \n",
       "4        11648822    JC216887 2011-12-13 00:00:00    115XX S MARSHFIELD AVE   \n",
       "...           ...         ...                 ...                       ...   \n",
       "1878850  12012717    JD189149 2008-02-01 17:55:00        085XX S KOLMAR AVE   \n",
       "1878851  12082285    JD269088 2012-06-18 09:00:00       016XX W FARWELL AVE   \n",
       "1878852  12010199    JD187029 2011-06-01 13:00:00      030XX N ELBRIDGE AVE   \n",
       "1878853  12206132    JD414165 2010-11-01 12:00:00          116XX S STATE ST   \n",
       "1878854  12062019    JD245763 2008-01-01 00:01:00      048XX W ARMITAGE AVE   \n",
       "\n",
       "         IUCR             Primary Type                          Description  \\\n",
       "0        1153       DECEPTIVE PRACTICE  FINANCIAL IDENTITY THEFT OVER $ 300   \n",
       "1        1153       DECEPTIVE PRACTICE  FINANCIAL IDENTITY THEFT OVER $ 300   \n",
       "2        1563              SEX OFFENSE                CRIMINAL SEXUAL ABUSE   \n",
       "3        1153       DECEPTIVE PRACTICE  FINANCIAL IDENTITY THEFT OVER $ 300   \n",
       "4        1153       DECEPTIVE PRACTICE  FINANCIAL IDENTITY THEFT OVER $ 300   \n",
       "...       ...                      ...                                  ...   \n",
       "1878850  1153       DECEPTIVE PRACTICE  FINANCIAL IDENTITY THEFT OVER $ 300   \n",
       "1878851  1153       DECEPTIVE PRACTICE  FINANCIAL IDENTITY THEFT OVER $ 300   \n",
       "1878852  0266  CRIMINAL SEXUAL ASSAULT                            PREDATORY   \n",
       "1878853  0265  CRIMINAL SEXUAL ASSAULT                   AGGRAVATED - OTHER   \n",
       "1878854  0266  CRIMINAL SEXUAL ASSAULT                            PREDATORY   \n",
       "\n",
       "        Location Description  Arrest  Domestic  ...  Ward  Community Area  \\\n",
       "0                        NaN   False     False  ...  29.0            25.0   \n",
       "1                  APARTMENT   False     False  ...  36.0            17.0   \n",
       "2                  APARTMENT   False      True  ...  24.0            29.0   \n",
       "3                  RESIDENCE   False     False  ...  19.0            75.0   \n",
       "4              ATHLETIC CLUB   False     False  ...  34.0            75.0   \n",
       "...                      ...     ...       ...  ...   ...             ...   \n",
       "1878850                  NaN   False     False  ...  18.0            70.0   \n",
       "1878851            APARTMENT   False     False  ...  49.0             1.0   \n",
       "1878852            APARTMENT   False      True  ...  35.0            21.0   \n",
       "1878853            RESIDENCE   False     False  ...  34.0            53.0   \n",
       "1878854            RESIDENCE   False      True  ...  36.0            19.0   \n",
       "\n",
       "         FBI Code  X Coordinate Y Coordinate  Year              Updated On  \\\n",
       "0              11           NaN          NaN  2012  04/06/2019 04:04:43 PM   \n",
       "1              11           NaN          NaN  2008  04/07/2019 04:05:59 PM   \n",
       "2              17           NaN          NaN  2008  07/26/2017 03:56:50 PM   \n",
       "3              11           NaN          NaN  2012  04/09/2019 04:24:58 PM   \n",
       "4              11           NaN          NaN  2011  04/09/2019 04:24:58 PM   \n",
       "...           ...           ...          ...   ...                     ...   \n",
       "1878850        11           NaN          NaN  2008  03/19/2020 03:45:37 PM   \n",
       "1878851        11           NaN          NaN  2012  06/20/2020 03:43:39 PM   \n",
       "1878852        02           NaN          NaN  2011  09/07/2021 03:41:02 PM   \n",
       "1878853        02           NaN          NaN  2010  10/29/2020 03:45:00 PM   \n",
       "1878854        02           NaN          NaN  2008  12/19/2020 03:39:24 PM   \n",
       "\n",
       "         Latitude Longitude  Location  \n",
       "0             NaN       NaN       NaN  \n",
       "1             NaN       NaN       NaN  \n",
       "2             NaN       NaN       NaN  \n",
       "3             NaN       NaN       NaN  \n",
       "4             NaN       NaN       NaN  \n",
       "...           ...       ...       ...  \n",
       "1878850       NaN       NaN       NaN  \n",
       "1878851       NaN       NaN       NaN  \n",
       "1878852       NaN       NaN       NaN  \n",
       "1878853       NaN       NaN       NaN  \n",
       "1878854       NaN       NaN       NaN  \n",
       "\n",
       "[1878855 rows x 22 columns]"
      ]
     },
     "execution_count": 208,
     "metadata": {},
     "output_type": "execute_result"
    }
   ],
   "source": [
    "chicago_crime_2008_to_2012_df"
   ]
  },
  {
   "cell_type": "markdown",
   "metadata": {},
   "source": [
    "## 3 - The Birds Eye"
   ]
  },
  {
   "cell_type": "markdown",
   "metadata": {},
   "source": [
    "**3.1** Do some exploratory analysis on the dataset and try to get a sense of the data you're working with."
   ]
  },
  {
   "cell_type": "code",
   "execution_count": null,
   "metadata": {},
   "outputs": [],
   "source": [
    "# no need to provide an answer to this questions in the notebook you send in\n"
   ]
  },
  {
   "cell_type": "markdown",
   "metadata": {},
   "source": [
    "**3.2** How many crimes records exists for the period 2008-2012, in total?"
   ]
  },
  {
   "cell_type": "code",
   "execution_count": 209,
   "metadata": {},
   "outputs": [
    {
     "name": "stdout",
     "output_type": "stream",
     "text": [
      "There are 1,878,855 crime record in Chicago beetween 2008 -2019\n"
     ]
    }
   ],
   "source": [
    "print(f\"There are {len(chicago_crime_2008_to_2012_df):,.0f} crime record in Chicago beetween 2008 -2019\")"
   ]
  },
  {
   "cell_type": "markdown",
   "metadata": {},
   "source": [
    "**3.3** What's the number of recorded crimes for each of the years, individually? "
   ]
  },
  {
   "cell_type": "code",
   "execution_count": 210,
   "metadata": {},
   "outputs": [],
   "source": [
    "chicago_crime_recorded_2008_to_2012_serie = chicago_crime_2008_to_2012_df['Year'].value_counts()"
   ]
  },
  {
   "cell_type": "code",
   "execution_count": 884,
   "metadata": {},
   "outputs": [
    {
     "name": "stdout",
     "output_type": "stream",
     "text": [
      "recorded crimes: \n",
      "Year\n",
      "2008    427185\n",
      "2009    392828\n",
      "2010    370518\n",
      "2011    351997\n",
      "2012    336327\n",
      "Name: count, dtype: int64\n"
     ]
    }
   ],
   "source": [
    "print(f\"recorded crimes: \\n{chicago_crime_recorded_2008_to_2012_serie}\")"
   ]
  },
  {
   "cell_type": "markdown",
   "metadata": {},
   "source": [
    "**3.4** Has the number of recorded crimes increased, decreased or remained stable throughout the years?"
   ]
  },
  {
   "cell_type": "code",
   "execution_count": 212,
   "metadata": {},
   "outputs": [
    {
     "data": {
      "image/png": "[encoded data removed]",
      "text/plain": [
       "<Figure size 640x480 with 1 Axes>"
      ]
     },
     "metadata": {},
     "output_type": "display_data"
    }
   ],
   "source": [
    "sns.set_theme(style=\"darkgrid\")\n",
    "ax = sns.lineplot(data=chicago_crime_recorded_2008_to_2012_serie, x=chicago_crime_recorded_2008_to_2012_serie.index, y=chicago_crime_recorded_2008_to_2012_serie.values, marker=\"o\")\n",
    "ax.set_xticks(chicago_crime_recorded_2008_to_2012_df['Year'])\n",
    "# ax.set_xticklabels(chicago_crime_recorded_2008_to_2012_df['Year'].astype(int))\n",
    "# ax.set_ylim(bottom=chicago_crime_recorded_2008_to_2012_df['Year'].min(), top=chicago_crime_recorded_2008_to_2012_df['Year'].max())\n",
    "\n",
    "plt.show()\n"
   ]
  },
  {
   "cell_type": "markdown",
   "metadata": {},
   "source": [
    "**3.5** By how many percentage points has the crime rate increased/decreased during the period? \n",
    "\n",
    "Hint: You only need to compare the number of crime records from 2008 with the number of crime records from 2012."
   ]
  },
  {
   "cell_type": "code",
   "execution_count": 213,
   "metadata": {},
   "outputs": [
    {
     "name": "stdout",
     "output_type": "stream",
     "text": [
      "The crime rate has deacreased with 21.3% from 2008 to 2012\n"
     ]
    }
   ],
   "source": [
    "procentage_decreased = round((chicago_crime_recorded_2008_to_2012_serie.values[0] - chicago_crime_recorded_2008_to_2012_serie.values[-1] )/ chicago_crime_recorded_2008_to_2012_serie.values[0] * 100\n",
    ",1)\n",
    "print(f\"The crime rate has deacreased with {procentage_decreased}% from 2008 to 2012\")"
   ]
  },
  {
   "cell_type": "markdown",
   "metadata": {},
   "source": [
    "**3.6** Which primary crime types have increasing crime record numbers, and which ones have decreasing, when comparing 2008 to 2012?"
   ]
  },
  {
   "cell_type": "code",
   "execution_count": 339,
   "metadata": {},
   "outputs": [],
   "source": [
    "chicago_crime_2008_df= chicago_crime_2008_to_2012_df[chicago_crime_2008_to_2012_df[\"Year\"] == 2008]\n",
    "chicago_crime_2012_df= chicago_crime_2008_to_2012_df[chicago_crime_2008_to_2012_df[\"Year\"] == 2012]\n"
   ]
  },
  {
   "cell_type": "code",
   "execution_count": 340,
   "metadata": {},
   "outputs": [],
   "source": [
    "chicago_crime_2008_serie_primary_type = chicago_crime_2008_df[\"Primary Type\"].value_counts()\n",
    "chicago_crime_2008_per_type_df = pd.DataFrame(chicago_crime_2008_serie_primary_type).reset_index()\n"
   ]
  },
  {
   "cell_type": "code",
   "execution_count": 1228,
   "metadata": {},
   "outputs": [],
   "source": [
    "chicago_crime_2012_serie_primary_type = chicago_crime_2012_df[\"Primary Type\"].value_counts()\n",
    "chicago_crime_2012_per_type_df = pd.DataFrame(chicago_crime_2012_serie_primary_type).reset_index()\n"
   ]
  },
  {
   "cell_type": "code",
   "execution_count": 350,
   "metadata": {},
   "outputs": [],
   "source": [
    "chicago_crime_2012_per_type_df.rename(columns={\"count\": \"Count 2012\"}, inplace=True)\n",
    "chicago_crime_2008_per_type_df.rename(columns={\"count\": \"Count 2008\"}, inplace=True)\n"
   ]
  },
  {
   "cell_type": "code",
   "execution_count": 361,
   "metadata": {},
   "outputs": [
    {
     "data": {
      "text/html": [
       "<div>\n",
       "<style scoped>\n",
       "    .dataframe tbody tr th:only-of-type {\n",
       "        vertical-align: middle;\n",
       "    }\n",
       "\n",
       "    .dataframe tbody tr th {\n",
       "        vertical-align: top;\n",
       "    }\n",
       "\n",
       "    .dataframe thead th {\n",
       "        text-align: right;\n",
       "    }\n",
       "</style>\n",
       "<table border=\"1\" class=\"dataframe\">\n",
       "  <thead>\n",
       "    <tr style=\"text-align: right;\">\n",
       "      <th></th>\n",
       "      <th>Primary Type</th>\n",
       "      <th>Count 2008</th>\n",
       "      <th>Count 2012</th>\n",
       "    </tr>\n",
       "  </thead>\n",
       "  <tbody>\n",
       "    <tr>\n",
       "      <th>0</th>\n",
       "      <td>THEFT</td>\n",
       "      <td>88437</td>\n",
       "      <td>75465</td>\n",
       "    </tr>\n",
       "    <tr>\n",
       "      <th>1</th>\n",
       "      <td>BATTERY</td>\n",
       "      <td>75930</td>\n",
       "      <td>59134</td>\n",
       "    </tr>\n",
       "    <tr>\n",
       "      <th>2</th>\n",
       "      <td>CRIMINAL DAMAGE</td>\n",
       "      <td>52843</td>\n",
       "      <td>35855</td>\n",
       "    </tr>\n",
       "    <tr>\n",
       "      <th>3</th>\n",
       "      <td>NARCOTICS</td>\n",
       "      <td>46506</td>\n",
       "      <td>35489</td>\n",
       "    </tr>\n",
       "    <tr>\n",
       "      <th>4</th>\n",
       "      <td>OTHER OFFENSE</td>\n",
       "      <td>26532</td>\n",
       "      <td>17524</td>\n",
       "    </tr>\n",
       "    <tr>\n",
       "      <th>5</th>\n",
       "      <td>BURGLARY</td>\n",
       "      <td>26218</td>\n",
       "      <td>22845</td>\n",
       "    </tr>\n",
       "    <tr>\n",
       "      <th>6</th>\n",
       "      <td>ASSAULT</td>\n",
       "      <td>25448</td>\n",
       "      <td>19900</td>\n",
       "    </tr>\n",
       "    <tr>\n",
       "      <th>7</th>\n",
       "      <td>MOTOR VEHICLE THEFT</td>\n",
       "      <td>18881</td>\n",
       "      <td>16492</td>\n",
       "    </tr>\n",
       "    <tr>\n",
       "      <th>8</th>\n",
       "      <td>ROBBERY</td>\n",
       "      <td>16703</td>\n",
       "      <td>13485</td>\n",
       "    </tr>\n",
       "    <tr>\n",
       "      <th>9</th>\n",
       "      <td>DECEPTIVE PRACTICE</td>\n",
       "      <td>14933</td>\n",
       "      <td>13766</td>\n",
       "    </tr>\n",
       "    <tr>\n",
       "      <th>10</th>\n",
       "      <td>CRIMINAL TRESPASS</td>\n",
       "      <td>12310</td>\n",
       "      <td>8216</td>\n",
       "    </tr>\n",
       "    <tr>\n",
       "      <th>11</th>\n",
       "      <td>PROSTITUTION</td>\n",
       "      <td>5141</td>\n",
       "      <td>2204</td>\n",
       "    </tr>\n",
       "    <tr>\n",
       "      <th>12</th>\n",
       "      <td>WEAPONS VIOLATION</td>\n",
       "      <td>3877</td>\n",
       "      <td>3907</td>\n",
       "    </tr>\n",
       "    <tr>\n",
       "      <th>13</th>\n",
       "      <td>PUBLIC PEACE VIOLATION</td>\n",
       "      <td>3013</td>\n",
       "      <td>3007</td>\n",
       "    </tr>\n",
       "    <tr>\n",
       "      <th>14</th>\n",
       "      <td>OFFENSE INVOLVING CHILDREN</td>\n",
       "      <td>2663</td>\n",
       "      <td>2330</td>\n",
       "    </tr>\n",
       "    <tr>\n",
       "      <th>15</th>\n",
       "      <td>CRIM SEXUAL ASSAULT</td>\n",
       "      <td>1513</td>\n",
       "      <td>1390</td>\n",
       "    </tr>\n",
       "    <tr>\n",
       "      <th>16</th>\n",
       "      <td>SEX OFFENSE</td>\n",
       "      <td>1502</td>\n",
       "      <td>1087</td>\n",
       "    </tr>\n",
       "    <tr>\n",
       "      <th>17</th>\n",
       "      <td>GAMBLING</td>\n",
       "      <td>1199</td>\n",
       "      <td>724</td>\n",
       "    </tr>\n",
       "    <tr>\n",
       "      <th>18</th>\n",
       "      <td>LIQUOR LAW VIOLATION</td>\n",
       "      <td>912</td>\n",
       "      <td>573</td>\n",
       "    </tr>\n",
       "    <tr>\n",
       "      <th>19</th>\n",
       "      <td>ARSON</td>\n",
       "      <td>644</td>\n",
       "      <td>469</td>\n",
       "    </tr>\n",
       "    <tr>\n",
       "      <th>20</th>\n",
       "      <td>INTERFERENCE WITH PUBLIC OFFICER</td>\n",
       "      <td>580</td>\n",
       "      <td>1228</td>\n",
       "    </tr>\n",
       "    <tr>\n",
       "      <th>21</th>\n",
       "      <td>HOMICIDE</td>\n",
       "      <td>513</td>\n",
       "      <td>515</td>\n",
       "    </tr>\n",
       "    <tr>\n",
       "      <th>22</th>\n",
       "      <td>KIDNAPPING</td>\n",
       "      <td>359</td>\n",
       "      <td>235</td>\n",
       "    </tr>\n",
       "    <tr>\n",
       "      <th>23</th>\n",
       "      <td>INTIMIDATION</td>\n",
       "      <td>261</td>\n",
       "      <td>156</td>\n",
       "    </tr>\n",
       "    <tr>\n",
       "      <th>24</th>\n",
       "      <td>STALKING</td>\n",
       "      <td>190</td>\n",
       "      <td>207</td>\n",
       "    </tr>\n",
       "    <tr>\n",
       "      <th>25</th>\n",
       "      <td>CRIMINAL SEXUAL ASSAULT</td>\n",
       "      <td>48</td>\n",
       "      <td>67</td>\n",
       "    </tr>\n",
       "    <tr>\n",
       "      <th>26</th>\n",
       "      <td>OBSCENITY</td>\n",
       "      <td>13</td>\n",
       "      <td>26</td>\n",
       "    </tr>\n",
       "    <tr>\n",
       "      <th>27</th>\n",
       "      <td>OTHER NARCOTIC VIOLATION</td>\n",
       "      <td>12</td>\n",
       "      <td>6</td>\n",
       "    </tr>\n",
       "    <tr>\n",
       "      <th>28</th>\n",
       "      <td>PUBLIC INDECENCY</td>\n",
       "      <td>4</td>\n",
       "      <td>17</td>\n",
       "    </tr>\n",
       "  </tbody>\n",
       "</table>\n",
       "</div>"
      ],
      "text/plain": [
       "                        Primary Type  Count 2008  Count 2012\n",
       "0                              THEFT       88437       75465\n",
       "1                            BATTERY       75930       59134\n",
       "2                    CRIMINAL DAMAGE       52843       35855\n",
       "3                          NARCOTICS       46506       35489\n",
       "4                      OTHER OFFENSE       26532       17524\n",
       "5                           BURGLARY       26218       22845\n",
       "6                            ASSAULT       25448       19900\n",
       "7                MOTOR VEHICLE THEFT       18881       16492\n",
       "8                            ROBBERY       16703       13485\n",
       "9                 DECEPTIVE PRACTICE       14933       13766\n",
       "10                 CRIMINAL TRESPASS       12310        8216\n",
       "11                      PROSTITUTION        5141        2204\n",
       "12                 WEAPONS VIOLATION        3877        3907\n",
       "13            PUBLIC PEACE VIOLATION        3013        3007\n",
       "14        OFFENSE INVOLVING CHILDREN        2663        2330\n",
       "15               CRIM SEXUAL ASSAULT        1513        1390\n",
       "16                       SEX OFFENSE        1502        1087\n",
       "17                          GAMBLING        1199         724\n",
       "18              LIQUOR LAW VIOLATION         912         573\n",
       "19                             ARSON         644         469\n",
       "20  INTERFERENCE WITH PUBLIC OFFICER         580        1228\n",
       "21                          HOMICIDE         513         515\n",
       "22                        KIDNAPPING         359         235\n",
       "23                      INTIMIDATION         261         156\n",
       "24                          STALKING         190         207\n",
       "25           CRIMINAL SEXUAL ASSAULT          48          67\n",
       "26                         OBSCENITY          13          26\n",
       "27          OTHER NARCOTIC VIOLATION          12           6\n",
       "28                  PUBLIC INDECENCY           4          17"
      ]
     },
     "execution_count": 361,
     "metadata": {},
     "output_type": "execute_result"
    }
   ],
   "source": [
    "merged_08_and_12 = pd.merge(chicago_crime_2008_per_type_df,chicago_crime_2012_per_type_df, on=\"Primary Type\")\n",
    "merged_08_and_12"
   ]
  },
  {
   "cell_type": "code",
   "execution_count": 362,
   "metadata": {},
   "outputs": [],
   "source": [
    "difference_08_and_12 = merged_08_and_12[\"Count 2012\"] - merged_08_and_12[\"Count 2008\"] \n",
    "# difference_08_and_12"
   ]
  },
  {
   "cell_type": "code",
   "execution_count": 363,
   "metadata": {},
   "outputs": [],
   "source": [
    "merged_08_and_12[\"Difference 2008 - 2012\"] = difference_08_and_12"
   ]
  },
  {
   "cell_type": "code",
   "execution_count": 1116,
   "metadata": {},
   "outputs": [
    {
     "data": {
      "text/html": [
       "<div>\n",
       "<style scoped>\n",
       "    .dataframe tbody tr th:only-of-type {\n",
       "        vertical-align: middle;\n",
       "    }\n",
       "\n",
       "    .dataframe tbody tr th {\n",
       "        vertical-align: top;\n",
       "    }\n",
       "\n",
       "    .dataframe thead th {\n",
       "        text-align: right;\n",
       "    }\n",
       "</style>\n",
       "<table border=\"1\" class=\"dataframe\">\n",
       "  <thead>\n",
       "    <tr style=\"text-align: right;\">\n",
       "      <th></th>\n",
       "      <th>Primary Type</th>\n",
       "      <th>Count 2008</th>\n",
       "      <th>Count 2012</th>\n",
       "      <th>Difference 2008 - 2012</th>\n",
       "    </tr>\n",
       "  </thead>\n",
       "  <tbody>\n",
       "    <tr>\n",
       "      <th>0</th>\n",
       "      <td>THEFT</td>\n",
       "      <td>88437</td>\n",
       "      <td>75465</td>\n",
       "      <td>-12972</td>\n",
       "    </tr>\n",
       "    <tr>\n",
       "      <th>1</th>\n",
       "      <td>BATTERY</td>\n",
       "      <td>75930</td>\n",
       "      <td>59134</td>\n",
       "      <td>-16796</td>\n",
       "    </tr>\n",
       "    <tr>\n",
       "      <th>2</th>\n",
       "      <td>CRIMINAL DAMAGE</td>\n",
       "      <td>52843</td>\n",
       "      <td>35855</td>\n",
       "      <td>-16988</td>\n",
       "    </tr>\n",
       "    <tr>\n",
       "      <th>3</th>\n",
       "      <td>NARCOTICS</td>\n",
       "      <td>46506</td>\n",
       "      <td>35489</td>\n",
       "      <td>-11017</td>\n",
       "    </tr>\n",
       "    <tr>\n",
       "      <th>4</th>\n",
       "      <td>OTHER OFFENSE</td>\n",
       "      <td>26532</td>\n",
       "      <td>17524</td>\n",
       "      <td>-9008</td>\n",
       "    </tr>\n",
       "    <tr>\n",
       "      <th>5</th>\n",
       "      <td>BURGLARY</td>\n",
       "      <td>26218</td>\n",
       "      <td>22845</td>\n",
       "      <td>-3373</td>\n",
       "    </tr>\n",
       "    <tr>\n",
       "      <th>6</th>\n",
       "      <td>ASSAULT</td>\n",
       "      <td>25448</td>\n",
       "      <td>19900</td>\n",
       "      <td>-5548</td>\n",
       "    </tr>\n",
       "    <tr>\n",
       "      <th>7</th>\n",
       "      <td>MOTOR VEHICLE THEFT</td>\n",
       "      <td>18881</td>\n",
       "      <td>16492</td>\n",
       "      <td>-2389</td>\n",
       "    </tr>\n",
       "    <tr>\n",
       "      <th>8</th>\n",
       "      <td>ROBBERY</td>\n",
       "      <td>16703</td>\n",
       "      <td>13485</td>\n",
       "      <td>-3218</td>\n",
       "    </tr>\n",
       "    <tr>\n",
       "      <th>9</th>\n",
       "      <td>DECEPTIVE PRACTICE</td>\n",
       "      <td>14933</td>\n",
       "      <td>13766</td>\n",
       "      <td>-1167</td>\n",
       "    </tr>\n",
       "    <tr>\n",
       "      <th>10</th>\n",
       "      <td>CRIMINAL TRESPASS</td>\n",
       "      <td>12310</td>\n",
       "      <td>8216</td>\n",
       "      <td>-4094</td>\n",
       "    </tr>\n",
       "    <tr>\n",
       "      <th>11</th>\n",
       "      <td>PROSTITUTION</td>\n",
       "      <td>5141</td>\n",
       "      <td>2204</td>\n",
       "      <td>-2937</td>\n",
       "    </tr>\n",
       "    <tr>\n",
       "      <th>12</th>\n",
       "      <td>WEAPONS VIOLATION</td>\n",
       "      <td>3877</td>\n",
       "      <td>3907</td>\n",
       "      <td>30</td>\n",
       "    </tr>\n",
       "    <tr>\n",
       "      <th>13</th>\n",
       "      <td>PUBLIC PEACE VIOLATION</td>\n",
       "      <td>3013</td>\n",
       "      <td>3007</td>\n",
       "      <td>-6</td>\n",
       "    </tr>\n",
       "    <tr>\n",
       "      <th>14</th>\n",
       "      <td>OFFENSE INVOLVING CHILDREN</td>\n",
       "      <td>2663</td>\n",
       "      <td>2330</td>\n",
       "      <td>-333</td>\n",
       "    </tr>\n",
       "    <tr>\n",
       "      <th>15</th>\n",
       "      <td>CRIM SEXUAL ASSAULT</td>\n",
       "      <td>1513</td>\n",
       "      <td>1390</td>\n",
       "      <td>-123</td>\n",
       "    </tr>\n",
       "    <tr>\n",
       "      <th>16</th>\n",
       "      <td>SEX OFFENSE</td>\n",
       "      <td>1502</td>\n",
       "      <td>1087</td>\n",
       "      <td>-415</td>\n",
       "    </tr>\n",
       "    <tr>\n",
       "      <th>17</th>\n",
       "      <td>GAMBLING</td>\n",
       "      <td>1199</td>\n",
       "      <td>724</td>\n",
       "      <td>-475</td>\n",
       "    </tr>\n",
       "    <tr>\n",
       "      <th>18</th>\n",
       "      <td>LIQUOR LAW VIOLATION</td>\n",
       "      <td>912</td>\n",
       "      <td>573</td>\n",
       "      <td>-339</td>\n",
       "    </tr>\n",
       "    <tr>\n",
       "      <th>19</th>\n",
       "      <td>ARSON</td>\n",
       "      <td>644</td>\n",
       "      <td>469</td>\n",
       "      <td>-175</td>\n",
       "    </tr>\n",
       "    <tr>\n",
       "      <th>20</th>\n",
       "      <td>INTERFERENCE WITH PUBLIC OFFICER</td>\n",
       "      <td>580</td>\n",
       "      <td>1228</td>\n",
       "      <td>648</td>\n",
       "    </tr>\n",
       "    <tr>\n",
       "      <th>21</th>\n",
       "      <td>HOMICIDE</td>\n",
       "      <td>513</td>\n",
       "      <td>515</td>\n",
       "      <td>2</td>\n",
       "    </tr>\n",
       "    <tr>\n",
       "      <th>22</th>\n",
       "      <td>KIDNAPPING</td>\n",
       "      <td>359</td>\n",
       "      <td>235</td>\n",
       "      <td>-124</td>\n",
       "    </tr>\n",
       "    <tr>\n",
       "      <th>23</th>\n",
       "      <td>INTIMIDATION</td>\n",
       "      <td>261</td>\n",
       "      <td>156</td>\n",
       "      <td>-105</td>\n",
       "    </tr>\n",
       "    <tr>\n",
       "      <th>24</th>\n",
       "      <td>STALKING</td>\n",
       "      <td>190</td>\n",
       "      <td>207</td>\n",
       "      <td>17</td>\n",
       "    </tr>\n",
       "    <tr>\n",
       "      <th>25</th>\n",
       "      <td>CRIMINAL SEXUAL ASSAULT</td>\n",
       "      <td>48</td>\n",
       "      <td>67</td>\n",
       "      <td>19</td>\n",
       "    </tr>\n",
       "    <tr>\n",
       "      <th>26</th>\n",
       "      <td>OBSCENITY</td>\n",
       "      <td>13</td>\n",
       "      <td>26</td>\n",
       "      <td>13</td>\n",
       "    </tr>\n",
       "    <tr>\n",
       "      <th>27</th>\n",
       "      <td>OTHER NARCOTIC VIOLATION</td>\n",
       "      <td>12</td>\n",
       "      <td>6</td>\n",
       "      <td>-6</td>\n",
       "    </tr>\n",
       "    <tr>\n",
       "      <th>28</th>\n",
       "      <td>PUBLIC INDECENCY</td>\n",
       "      <td>4</td>\n",
       "      <td>17</td>\n",
       "      <td>13</td>\n",
       "    </tr>\n",
       "  </tbody>\n",
       "</table>\n",
       "</div>"
      ],
      "text/plain": [
       "                        Primary Type  Count 2008  Count 2012  \\\n",
       "0                              THEFT       88437       75465   \n",
       "1                            BATTERY       75930       59134   \n",
       "2                    CRIMINAL DAMAGE       52843       35855   \n",
       "3                          NARCOTICS       46506       35489   \n",
       "4                      OTHER OFFENSE       26532       17524   \n",
       "5                           BURGLARY       26218       22845   \n",
       "6                            ASSAULT       25448       19900   \n",
       "7                MOTOR VEHICLE THEFT       18881       16492   \n",
       "8                            ROBBERY       16703       13485   \n",
       "9                 DECEPTIVE PRACTICE       14933       13766   \n",
       "10                 CRIMINAL TRESPASS       12310        8216   \n",
       "11                      PROSTITUTION        5141        2204   \n",
       "12                 WEAPONS VIOLATION        3877        3907   \n",
       "13            PUBLIC PEACE VIOLATION        3013        3007   \n",
       "14        OFFENSE INVOLVING CHILDREN        2663        2330   \n",
       "15               CRIM SEXUAL ASSAULT        1513        1390   \n",
       "16                       SEX OFFENSE        1502        1087   \n",
       "17                          GAMBLING        1199         724   \n",
       "18              LIQUOR LAW VIOLATION         912         573   \n",
       "19                             ARSON         644         469   \n",
       "20  INTERFERENCE WITH PUBLIC OFFICER         580        1228   \n",
       "21                          HOMICIDE         513         515   \n",
       "22                        KIDNAPPING         359         235   \n",
       "23                      INTIMIDATION         261         156   \n",
       "24                          STALKING         190         207   \n",
       "25           CRIMINAL SEXUAL ASSAULT          48          67   \n",
       "26                         OBSCENITY          13          26   \n",
       "27          OTHER NARCOTIC VIOLATION          12           6   \n",
       "28                  PUBLIC INDECENCY           4          17   \n",
       "\n",
       "    Difference 2008 - 2012  \n",
       "0                   -12972  \n",
       "1                   -16796  \n",
       "2                   -16988  \n",
       "3                   -11017  \n",
       "4                    -9008  \n",
       "5                    -3373  \n",
       "6                    -5548  \n",
       "7                    -2389  \n",
       "8                    -3218  \n",
       "9                    -1167  \n",
       "10                   -4094  \n",
       "11                   -2937  \n",
       "12                      30  \n",
       "13                      -6  \n",
       "14                    -333  \n",
       "15                    -123  \n",
       "16                    -415  \n",
       "17                    -475  \n",
       "18                    -339  \n",
       "19                    -175  \n",
       "20                     648  \n",
       "21                       2  \n",
       "22                    -124  \n",
       "23                    -105  \n",
       "24                      17  \n",
       "25                      19  \n",
       "26                      13  \n",
       "27                      -6  \n",
       "28                      13  "
      ]
     },
     "execution_count": 1116,
     "metadata": {},
     "output_type": "execute_result"
    }
   ],
   "source": [
    "merged_08_and_12\n",
    "# * plot kolla"
   ]
  },
  {
   "cell_type": "markdown",
   "metadata": {},
   "source": [
    "**3.7*** Which are the top 5 primary crime types in terms of increasing crime records between 2008 and 2012? Which are the top 5 primary crime types in terms of *percentual* increase? \n",
    "\n",
    "Are the top 5 lists you just produced different? If so, why?   "
   ]
  },
  {
   "cell_type": "code",
   "execution_count": 1205,
   "metadata": {},
   "outputs": [],
   "source": [
    "sorted_by_increase_merged_08_and_12 = merged_08_and_12.sort_values(by=\"Difference 2008 - 2012\",ascending=False)"
   ]
  },
  {
   "cell_type": "code",
   "execution_count": 1206,
   "metadata": {},
   "outputs": [
    {
     "data": {
      "text/html": [
       "<div>\n",
       "<style scoped>\n",
       "    .dataframe tbody tr th:only-of-type {\n",
       "        vertical-align: middle;\n",
       "    }\n",
       "\n",
       "    .dataframe tbody tr th {\n",
       "        vertical-align: top;\n",
       "    }\n",
       "\n",
       "    .dataframe thead th {\n",
       "        text-align: right;\n",
       "    }\n",
       "</style>\n",
       "<table border=\"1\" class=\"dataframe\">\n",
       "  <thead>\n",
       "    <tr style=\"text-align: right;\">\n",
       "      <th></th>\n",
       "      <th>Primary Type</th>\n",
       "      <th>Count 2008</th>\n",
       "      <th>Count 2012</th>\n",
       "      <th>Difference 2008 - 2012</th>\n",
       "    </tr>\n",
       "  </thead>\n",
       "  <tbody>\n",
       "    <tr>\n",
       "      <th>20</th>\n",
       "      <td>INTERFERENCE WITH PUBLIC OFFICER</td>\n",
       "      <td>580</td>\n",
       "      <td>1228</td>\n",
       "      <td>648</td>\n",
       "    </tr>\n",
       "    <tr>\n",
       "      <th>12</th>\n",
       "      <td>WEAPONS VIOLATION</td>\n",
       "      <td>3877</td>\n",
       "      <td>3907</td>\n",
       "      <td>30</td>\n",
       "    </tr>\n",
       "    <tr>\n",
       "      <th>25</th>\n",
       "      <td>CRIMINAL SEXUAL ASSAULT</td>\n",
       "      <td>48</td>\n",
       "      <td>67</td>\n",
       "      <td>19</td>\n",
       "    </tr>\n",
       "    <tr>\n",
       "      <th>24</th>\n",
       "      <td>STALKING</td>\n",
       "      <td>190</td>\n",
       "      <td>207</td>\n",
       "      <td>17</td>\n",
       "    </tr>\n",
       "    <tr>\n",
       "      <th>28</th>\n",
       "      <td>PUBLIC INDECENCY</td>\n",
       "      <td>4</td>\n",
       "      <td>17</td>\n",
       "      <td>13</td>\n",
       "    </tr>\n",
       "    <tr>\n",
       "      <th>26</th>\n",
       "      <td>OBSCENITY</td>\n",
       "      <td>13</td>\n",
       "      <td>26</td>\n",
       "      <td>13</td>\n",
       "    </tr>\n",
       "    <tr>\n",
       "      <th>21</th>\n",
       "      <td>HOMICIDE</td>\n",
       "      <td>513</td>\n",
       "      <td>515</td>\n",
       "      <td>2</td>\n",
       "    </tr>\n",
       "  </tbody>\n",
       "</table>\n",
       "</div>"
      ],
      "text/plain": [
       "                        Primary Type  Count 2008  Count 2012  \\\n",
       "20  INTERFERENCE WITH PUBLIC OFFICER         580        1228   \n",
       "12                 WEAPONS VIOLATION        3877        3907   \n",
       "25           CRIMINAL SEXUAL ASSAULT          48          67   \n",
       "24                          STALKING         190         207   \n",
       "28                  PUBLIC INDECENCY           4          17   \n",
       "26                         OBSCENITY          13          26   \n",
       "21                          HOMICIDE         513         515   \n",
       "\n",
       "    Difference 2008 - 2012  \n",
       "20                     648  \n",
       "12                      30  \n",
       "25                      19  \n",
       "24                      17  \n",
       "28                      13  \n",
       "26                      13  \n",
       "21                       2  "
      ]
     },
     "execution_count": 1206,
     "metadata": {},
     "output_type": "execute_result"
    }
   ],
   "source": [
    "filter_merged_08_and_12_positive=sorted_by_increase_merged_08_and_12[\"Difference 2008 - 2012\"] > 0\n",
    "sorted_by_increase_merged_08_and_12= sorted_by_increase_merged_08_and_12[filter_merged_08_and_12_positive]\n",
    "sorted_by_increase_merged_08_and_12"
   ]
  },
  {
   "cell_type": "code",
   "execution_count": 1207,
   "metadata": {},
   "outputs": [],
   "source": [
    "sorted_by_increase_merged_08_and_12[\"increase %\"] = round((sorted_by_increase_merged_08_and_12[\"Difference 2008 - 2012\"]/sorted_by_increase_merged_08_and_12[\"Count 2008\"]) * 1000)"
   ]
  },
  {
   "cell_type": "code",
   "execution_count": 1216,
   "metadata": {},
   "outputs": [],
   "source": [
    "top_5_highest_merged_08_and_12 = sorted_by_increase_merged_08_and_12.head(5)\n",
    "top_5_highest_percent_merged_08_and_12 = sorted_by_increase_merged_08_and_12.sort_values(by=\"increase %\",ascending=False).head(5)\n"
   ]
  },
  {
   "cell_type": "code",
   "execution_count": 1220,
   "metadata": {},
   "outputs": [
    {
     "name": "stdout",
     "output_type": "stream",
     "text": [
      "They shows different becassue some crimes has small values in 2008 then in 2012 they did 2x-3x\n"
     ]
    }
   ],
   "source": [
    "print(f\"They shows different becassue some crimes has small values in 2008 then in 2012 they did 2x-3x\")\n",
    "# * Plot histogram "
   ]
  },
  {
   "cell_type": "markdown",
   "metadata": {},
   "source": [
    "# 4 - Chicago Police Departement performance assessment"
   ]
  },
  {
   "cell_type": "markdown",
   "metadata": {},
   "source": [
    "**4.1** How many recorded crimes have in total led to an arrest? What's the corresponding arrest percentage?"
   ]
  },
  {
   "cell_type": "code",
   "execution_count": 467,
   "metadata": {},
   "outputs": [],
   "source": [
    "chicago_crime_2008_to_2012_arrests_df= chicago_crime_2008_to_2012_df[chicago_crime_2008_to_2012_df[\"Arrest\"] == True]\n",
    "# chicago_crime_2008_to_2012_arrests_false_df= chicago_crime_2008_to_2012_df[chicago_crime_2008_to_2012_df[\"Arrest\"] == False]\n"
   ]
  },
  {
   "cell_type": "code",
   "execution_count": 479,
   "metadata": {},
   "outputs": [],
   "source": [
    "arrest_percentage= round((len(chicago_crime_2008_to_2012_arrests_df) /len(chicago_crime_2008_to_2012_df) ) * 100)"
   ]
  },
  {
   "cell_type": "code",
   "execution_count": 480,
   "metadata": {},
   "outputs": [
    {
     "name": "stdout",
     "output_type": "stream",
     "text": [
      "The corresponding arrest 27%\n"
     ]
    }
   ],
   "source": [
    "print(f\"The corresponding arrest {arrest_percentage}%\")\n",
    "\n",
    "\n"
   ]
  },
  {
   "cell_type": "markdown",
   "metadata": {},
   "source": [
    "**4.2** Has the arrest rate percentage been increasing, decreasing or remained stable over these years?"
   ]
  },
  {
   "cell_type": "code",
   "execution_count": 574,
   "metadata": {},
   "outputs": [],
   "source": [
    "merged_years_dt= pd.merge(chicago_crime_2008_to_2012_df[\"Year\"].value_counts(),\n",
    "chicago_crime_2008_to_2012_arrests_df[\"Year\"].value_counts(), on=\"Year\")\n"
   ]
  },
  {
   "cell_type": "code",
   "execution_count": 577,
   "metadata": {},
   "outputs": [],
   "source": [
    "merged_years_dt = merged_years_dt.reset_index().rename(columns={\"count_x\": \"Total_crime\", \"count_y\":\"True_arrest\"})"
   ]
  },
  {
   "cell_type": "code",
   "execution_count": 601,
   "metadata": {},
   "outputs": [
    {
     "data": {
      "text/html": [
       "<div>\n",
       "<style scoped>\n",
       "    .dataframe tbody tr th:only-of-type {\n",
       "        vertical-align: middle;\n",
       "    }\n",
       "\n",
       "    .dataframe tbody tr th {\n",
       "        vertical-align: top;\n",
       "    }\n",
       "\n",
       "    .dataframe thead th {\n",
       "        text-align: right;\n",
       "    }\n",
       "</style>\n",
       "<table border=\"1\" class=\"dataframe\">\n",
       "  <thead>\n",
       "    <tr style=\"text-align: right;\">\n",
       "      <th></th>\n",
       "      <th>%</th>\n",
       "    </tr>\n",
       "  </thead>\n",
       "  <tbody>\n",
       "    <tr>\n",
       "      <th>0</th>\n",
       "      <td>25.754884</td>\n",
       "    </tr>\n",
       "    <tr>\n",
       "      <th>1</th>\n",
       "      <td>28.213111</td>\n",
       "    </tr>\n",
       "    <tr>\n",
       "      <th>2</th>\n",
       "      <td>27.137413</td>\n",
       "    </tr>\n",
       "    <tr>\n",
       "      <th>3</th>\n",
       "      <td>27.356199</td>\n",
       "    </tr>\n",
       "    <tr>\n",
       "      <th>4</th>\n",
       "      <td>26.960369</td>\n",
       "    </tr>\n",
       "  </tbody>\n",
       "</table>\n",
       "</div>"
      ],
      "text/plain": [
       "           %\n",
       "0  25.754884\n",
       "1  28.213111\n",
       "2  27.137413\n",
       "3  27.356199\n",
       "4  26.960369"
      ]
     },
     "execution_count": 601,
     "metadata": {},
     "output_type": "execute_result"
    }
   ],
   "source": [
    "percentage_per_year = (merged_years_dt[\"True_arrest\"] / merged_years_dt[\"Total_crime\"]) * 100 \n",
    "percentage_per_year = pd.DataFrame(percentage_per_year).rename(columns={0: \"%\"})\n",
    "percentage_per_year"
   ]
  },
  {
   "cell_type": "code",
   "execution_count": 1222,
   "metadata": {},
   "outputs": [
    {
     "name": "stdout",
     "output_type": "stream",
     "text": [
      "As you can se it has gone up and down over years\n"
     ]
    },
    {
     "data": {
      "text/html": [
       "<div>\n",
       "<style scoped>\n",
       "    .dataframe tbody tr th:only-of-type {\n",
       "        vertical-align: middle;\n",
       "    }\n",
       "\n",
       "    .dataframe tbody tr th {\n",
       "        vertical-align: top;\n",
       "    }\n",
       "\n",
       "    .dataframe thead th {\n",
       "        text-align: right;\n",
       "    }\n",
       "</style>\n",
       "<table border=\"1\" class=\"dataframe\">\n",
       "  <thead>\n",
       "    <tr style=\"text-align: right;\">\n",
       "      <th></th>\n",
       "      <th>Year</th>\n",
       "      <th>Total_crime</th>\n",
       "      <th>True_arrest</th>\n",
       "      <th>%</th>\n",
       "    </tr>\n",
       "  </thead>\n",
       "  <tbody>\n",
       "    <tr>\n",
       "      <th>0</th>\n",
       "      <td>2008</td>\n",
       "      <td>427185</td>\n",
       "      <td>110021</td>\n",
       "      <td>25.754884</td>\n",
       "    </tr>\n",
       "    <tr>\n",
       "      <th>1</th>\n",
       "      <td>2009</td>\n",
       "      <td>392828</td>\n",
       "      <td>110829</td>\n",
       "      <td>28.213111</td>\n",
       "    </tr>\n",
       "    <tr>\n",
       "      <th>2</th>\n",
       "      <td>2010</td>\n",
       "      <td>370518</td>\n",
       "      <td>100549</td>\n",
       "      <td>27.137413</td>\n",
       "    </tr>\n",
       "    <tr>\n",
       "      <th>3</th>\n",
       "      <td>2011</td>\n",
       "      <td>351997</td>\n",
       "      <td>96293</td>\n",
       "      <td>27.356199</td>\n",
       "    </tr>\n",
       "    <tr>\n",
       "      <th>4</th>\n",
       "      <td>2012</td>\n",
       "      <td>336327</td>\n",
       "      <td>90675</td>\n",
       "      <td>26.960369</td>\n",
       "    </tr>\n",
       "  </tbody>\n",
       "</table>\n",
       "</div>"
      ],
      "text/plain": [
       "   Year  Total_crime  True_arrest          %\n",
       "0  2008       427185       110021  25.754884\n",
       "1  2009       392828       110829  28.213111\n",
       "2  2010       370518       100549  27.137413\n",
       "3  2011       351997        96293  27.356199\n",
       "4  2012       336327        90675  26.960369"
      ]
     },
     "execution_count": 1222,
     "metadata": {},
     "output_type": "execute_result"
    }
   ],
   "source": [
    "print(\"As you can se it has gone up and down over years\")\n",
    "pd.concat([merged_years_dt,percentage_per_year],axis=1)\n",
    "# * plot line graph"
   ]
  },
  {
   "cell_type": "markdown",
   "metadata": {},
   "source": [
    "**4.3** For the Year 2011, which month has the highest arrest percentage?"
   ]
  },
  {
   "cell_type": "code",
   "execution_count": 2703,
   "metadata": {},
   "outputs": [],
   "source": [
    "chicago_crime_2011_df = chicago_crime_2008_to_2012_df[chicago_crime_2008_to_2012_df[\"Year\"] == 2011].reset_index()\n",
    "chicago_crime_2011_arrests_df = chicago_crime_2011_df[chicago_crime_2011_df[\"Arrest\"] == True]\n"
   ]
  },
  {
   "cell_type": "code",
   "execution_count": 2715,
   "metadata": {},
   "outputs": [],
   "source": [
    "chicago_crime_2011_month_df=pd.DataFrame(pd.DatetimeIndex(chicago_crime_2011_df[\"Date\"]).month_name().value_counts()).reset_index()\n",
    "chicago_crime_2011_month_arrest_df= pd.DataFrame(pd.DatetimeIndex(chicago_crime_2011_arrests_df[\"Date\"]).month_name().value_counts()).reset_index()"
   ]
  },
  {
   "cell_type": "code",
   "execution_count": 2721,
   "metadata": {},
   "outputs": [],
   "source": [
    "chicago_total_crime_2011=pd.merge(chicago_crime_2011_month_df,chicago_crime_2011_month_arrest_df, on=\"Date\").rename(columns={\"Date\":\"month\",\"count_x\": \"crimes\",\"count_y\":\"arrests\"})"
   ]
  },
  {
   "cell_type": "code",
   "execution_count": 2724,
   "metadata": {},
   "outputs": [],
   "source": [
    "chicago_total_crime_2011[\"%\"] = (chicago_total_crime_2011[\"arrests\"] / chicago_total_crime_2011[\"crimes\"]) * 100   "
   ]
  },
  {
   "cell_type": "code",
   "execution_count": 2725,
   "metadata": {},
   "outputs": [],
   "source": [
    "chicago_total_crime_2011 = chicago_total_crime_2011.sort_values(by=\"%\",ascending=False).reset_index(drop=True)\n",
    "# chicago_total_crime_2011[\"month\"].head(1)\n",
    "chicago_total_crime_2011[\"month\"] = chicago_total_crime_2011[\"month\"] "
   ]
  },
  {
   "cell_type": "code",
   "execution_count": 2726,
   "metadata": {},
   "outputs": [
    {
     "name": "stdout",
     "output_type": "stream",
     "text": [
      "The month is: March\n"
     ]
    },
    {
     "data": {
      "text/html": [
       "<div>\n",
       "<style scoped>\n",
       "    .dataframe tbody tr th:only-of-type {\n",
       "        vertical-align: middle;\n",
       "    }\n",
       "\n",
       "    .dataframe tbody tr th {\n",
       "        vertical-align: top;\n",
       "    }\n",
       "\n",
       "    .dataframe thead th {\n",
       "        text-align: right;\n",
       "    }\n",
       "</style>\n",
       "<table border=\"1\" class=\"dataframe\">\n",
       "  <thead>\n",
       "    <tr style=\"text-align: right;\">\n",
       "      <th></th>\n",
       "      <th>month</th>\n",
       "      <th>crimes</th>\n",
       "      <th>arrests</th>\n",
       "      <th>%</th>\n",
       "    </tr>\n",
       "  </thead>\n",
       "  <tbody>\n",
       "    <tr>\n",
       "      <th>0</th>\n",
       "      <td>March</td>\n",
       "      <td>28702</td>\n",
       "      <td>8411</td>\n",
       "      <td>29.304578</td>\n",
       "    </tr>\n",
       "    <tr>\n",
       "      <th>1</th>\n",
       "      <td>February</td>\n",
       "      <td>22239</td>\n",
       "      <td>6496</td>\n",
       "      <td>29.209946</td>\n",
       "    </tr>\n",
       "    <tr>\n",
       "      <th>2</th>\n",
       "      <td>January</td>\n",
       "      <td>27228</td>\n",
       "      <td>7861</td>\n",
       "      <td>28.871015</td>\n",
       "    </tr>\n",
       "    <tr>\n",
       "      <th>3</th>\n",
       "      <td>August</td>\n",
       "      <td>32602</td>\n",
       "      <td>9042</td>\n",
       "      <td>27.734495</td>\n",
       "    </tr>\n",
       "    <tr>\n",
       "      <th>4</th>\n",
       "      <td>September</td>\n",
       "      <td>29946</td>\n",
       "      <td>8287</td>\n",
       "      <td>27.673145</td>\n",
       "    </tr>\n",
       "    <tr>\n",
       "      <th>5</th>\n",
       "      <td>April</td>\n",
       "      <td>29116</td>\n",
       "      <td>7910</td>\n",
       "      <td>27.167193</td>\n",
       "    </tr>\n",
       "    <tr>\n",
       "      <th>6</th>\n",
       "      <td>December</td>\n",
       "      <td>27031</td>\n",
       "      <td>7288</td>\n",
       "      <td>26.961637</td>\n",
       "    </tr>\n",
       "    <tr>\n",
       "      <th>7</th>\n",
       "      <td>November</td>\n",
       "      <td>27661</td>\n",
       "      <td>7448</td>\n",
       "      <td>26.925997</td>\n",
       "    </tr>\n",
       "    <tr>\n",
       "      <th>8</th>\n",
       "      <td>July</td>\n",
       "      <td>33264</td>\n",
       "      <td>8861</td>\n",
       "      <td>26.638408</td>\n",
       "    </tr>\n",
       "    <tr>\n",
       "      <th>9</th>\n",
       "      <td>June</td>\n",
       "      <td>32322</td>\n",
       "      <td>8565</td>\n",
       "      <td>26.498979</td>\n",
       "    </tr>\n",
       "    <tr>\n",
       "      <th>10</th>\n",
       "      <td>October</td>\n",
       "      <td>30286</td>\n",
       "      <td>7970</td>\n",
       "      <td>26.315789</td>\n",
       "    </tr>\n",
       "    <tr>\n",
       "      <th>11</th>\n",
       "      <td>May</td>\n",
       "      <td>31600</td>\n",
       "      <td>8154</td>\n",
       "      <td>25.803797</td>\n",
       "    </tr>\n",
       "  </tbody>\n",
       "</table>\n",
       "</div>"
      ],
      "text/plain": [
       "        month  crimes  arrests          %\n",
       "0       March   28702     8411  29.304578\n",
       "1    February   22239     6496  29.209946\n",
       "2     January   27228     7861  28.871015\n",
       "3      August   32602     9042  27.734495\n",
       "4   September   29946     8287  27.673145\n",
       "5       April   29116     7910  27.167193\n",
       "6    December   27031     7288  26.961637\n",
       "7    November   27661     7448  26.925997\n",
       "8        July   33264     8861  26.638408\n",
       "9        June   32322     8565  26.498979\n",
       "10    October   30286     7970  26.315789\n",
       "11        May   31600     8154  25.803797"
      ]
     },
     "execution_count": 2726,
     "metadata": {},
     "output_type": "execute_result"
    }
   ],
   "source": [
    "print(f\"The month is: {chicago_total_crime_2011.month.head(1).sum()}\")\n",
    "chicago_total_crime_2011"
   ]
  },
  {
   "cell_type": "markdown",
   "metadata": {},
   "source": [
    "**4.4** For the same year, and the particular month of you've identified in question 2.3, which primary crime type has the highest number of arrests?"
   ]
  },
  {
   "cell_type": "code",
   "execution_count": 788,
   "metadata": {},
   "outputs": [],
   "source": [
    "chicago_crime_2011_arrests_march_df= chicago_crime_2011_arrests_df[pd.DatetimeIndex(chicago_crime_2011_arrests_df[\"Date\"]).month == 3]"
   ]
  },
  {
   "cell_type": "code",
   "execution_count": 1311,
   "metadata": {},
   "outputs": [],
   "source": [
    "primary_type_highest_arrests= chicago_crime_2011_arrests_march_df[\"Primary Type\"].value_counts().head(1)\n"
   ]
  },
  {
   "cell_type": "code",
   "execution_count": 864,
   "metadata": {},
   "outputs": [
    {
     "name": "stdout",
     "output_type": "stream",
     "text": [
      "Primary crime type is NARCOTICS with count 3747 case numbers\n"
     ]
    }
   ],
   "source": [
    "print(f\"Primary crime type is {primary_type_highest_arrests.index[0]} with count {primary_type_highest_arrests.sum()} case numbers\")"
   ]
  },
  {
   "cell_type": "markdown",
   "metadata": {},
   "source": [
    "**4.5*** Which primary crime categories enjoy the highest percentual increase in number of arrests, while comparing 2008 and 2012? At what location do these arrest most often occur? Also answer, for the same prime categories, at what location the crimes that dont lead to an arrest most often occur. Can you find some interesting relations?"
   ]
  },
  {
   "cell_type": "code",
   "execution_count": 1680,
   "metadata": {},
   "outputs": [],
   "source": [
    "chicago_crime_2012_arrests_true_df=chicago_crime_2012_df[chicago_crime_2012_df[\"Arrest\"] == True]\n",
    "chicago_crime_2012_arrests_false_df= chicago_crime_2012_df[chicago_crime_2012_df[\"Arrest\"] == False]\n",
    "\n",
    "chicago_crime_2008_arrests_true_df= chicago_crime_2008_df[chicago_crime_2008_df[\"Arrest\"] == True]\n",
    "chicago_crime_2008_arrests_false_df= chicago_crime_2008_df[chicago_crime_2008_df[\"Arrest\"] == False]\n",
    "\n",
    "\n"
   ]
  },
  {
   "cell_type": "code",
   "execution_count": 1681,
   "metadata": {},
   "outputs": [],
   "source": [
    "chicago_crime_2012_arrests_true_type_df=chicago_crime_2012_arrests_true_df[\"Primary Type\"].value_counts()\n",
    "chicago_crime_2008_arrests_true_type_df=chicago_crime_2008_arrests_true_df[\"Primary Type\"].value_counts()\n",
    "\n",
    "merged_08_12_true_arrests_df = pd.merge(chicago_crime_2008_arrests_true_type_df,chicago_crime_2012_arrests_true_type_df, left_index=True, right_index=True,suffixes=['_2008', '_2012']).reset_index()"
   ]
  },
  {
   "cell_type": "code",
   "execution_count": 1682,
   "metadata": {},
   "outputs": [],
   "source": [
    "merged_08_12_true_arrests_df =merged_08_12_true_arrests_df.rename(columns={\"count_2008\": \"arrests_2008\",\"count_2012\": \"arrests_2012\"})\n",
    "merged_08_12_true_arrests_df[\"increase%\"] = round(((merged_08_12_true_arrests_df[\"arrests_2012\"] - merged_08_12_true_arrests_df[\"arrests_2008\"])/merged_08_12_true_arrests_df[\"arrests_2008\"]) *100,1)\n"
   ]
  },
  {
   "cell_type": "code",
   "execution_count": 1683,
   "metadata": {},
   "outputs": [
    {
     "data": {
      "text/html": [
       "<div>\n",
       "<style scoped>\n",
       "    .dataframe tbody tr th:only-of-type {\n",
       "        vertical-align: middle;\n",
       "    }\n",
       "\n",
       "    .dataframe tbody tr th {\n",
       "        vertical-align: top;\n",
       "    }\n",
       "\n",
       "    .dataframe thead th {\n",
       "        text-align: right;\n",
       "    }\n",
       "</style>\n",
       "<table border=\"1\" class=\"dataframe\">\n",
       "  <thead>\n",
       "    <tr style=\"text-align: right;\">\n",
       "      <th></th>\n",
       "      <th>Primary Type</th>\n",
       "      <th>arrests_2008</th>\n",
       "      <th>arrests_2012</th>\n",
       "      <th>increase%</th>\n",
       "    </tr>\n",
       "  </thead>\n",
       "  <tbody>\n",
       "    <tr>\n",
       "      <th>28</th>\n",
       "      <td>PUBLIC INDECENCY</td>\n",
       "      <td>3</td>\n",
       "      <td>17</td>\n",
       "      <td>466.7</td>\n",
       "    </tr>\n",
       "    <tr>\n",
       "      <th>17</th>\n",
       "      <td>INTERFERENCE WITH PUBLIC OFFICER</td>\n",
       "      <td>460</td>\n",
       "      <td>1162</td>\n",
       "      <td>152.6</td>\n",
       "    </tr>\n",
       "    <tr>\n",
       "      <th>26</th>\n",
       "      <td>OBSCENITY</td>\n",
       "      <td>13</td>\n",
       "      <td>23</td>\n",
       "      <td>76.9</td>\n",
       "    </tr>\n",
       "    <tr>\n",
       "      <th>24</th>\n",
       "      <td>STALKING</td>\n",
       "      <td>24</td>\n",
       "      <td>38</td>\n",
       "      <td>58.3</td>\n",
       "    </tr>\n",
       "    <tr>\n",
       "      <th>9</th>\n",
       "      <td>DECEPTIVE PRACTICE</td>\n",
       "      <td>2173</td>\n",
       "      <td>2976</td>\n",
       "      <td>37.0</td>\n",
       "    </tr>\n",
       "    <tr>\n",
       "      <th>10</th>\n",
       "      <td>PUBLIC PEACE VIOLATION</td>\n",
       "      <td>1776</td>\n",
       "      <td>2251</td>\n",
       "      <td>26.7</td>\n",
       "    </tr>\n",
       "    <tr>\n",
       "      <th>8</th>\n",
       "      <td>WEAPONS VIOLATION</td>\n",
       "      <td>2923</td>\n",
       "      <td>3264</td>\n",
       "      <td>11.7</td>\n",
       "    </tr>\n",
       "    <tr>\n",
       "      <th>25</th>\n",
       "      <td>CRIMINAL SEXUAL ASSAULT</td>\n",
       "      <td>14</td>\n",
       "      <td>15</td>\n",
       "      <td>7.1</td>\n",
       "    </tr>\n",
       "  </tbody>\n",
       "</table>\n",
       "</div>"
      ],
      "text/plain": [
       "                        Primary Type  arrests_2008  arrests_2012  increase%\n",
       "28                  PUBLIC INDECENCY             3            17      466.7\n",
       "17  INTERFERENCE WITH PUBLIC OFFICER           460          1162      152.6\n",
       "26                         OBSCENITY            13            23       76.9\n",
       "24                          STALKING            24            38       58.3\n",
       "9                 DECEPTIVE PRACTICE          2173          2976       37.0\n",
       "10            PUBLIC PEACE VIOLATION          1776          2251       26.7\n",
       "8                  WEAPONS VIOLATION          2923          3264       11.7\n",
       "25           CRIMINAL SEXUAL ASSAULT            14            15        7.1"
      ]
     },
     "execution_count": 1683,
     "metadata": {},
     "output_type": "execute_result"
    }
   ],
   "source": [
    "filter_postive = merged_08_12_true_arrests_df[\"increase%\"] > 0\n",
    "\n",
    "merged_08_12_true_arrests_sorted_postive_df = merged_08_12_true_arrests_df[filter_postive].sort_values(by=\"increase%\", ascending=False)\n",
    "merged_08_12_true_arrests_sorted_postive_df"
   ]
  },
  {
   "cell_type": "markdown",
   "metadata": {},
   "source": [
    "highest primary percent crime\n"
   ]
  },
  {
   "cell_type": "code",
   "execution_count": 1697,
   "metadata": {},
   "outputs": [],
   "source": [
    "highest_percent_primary_crime = merged_08_12_true_arrests_sorted_postive_df.head(5).value_counts()\n",
    "highest_percent_primary_crime_list = highest_percent_primary_crime.index.get_level_values(0).to_list()"
   ]
  },
  {
   "cell_type": "markdown",
   "metadata": {},
   "source": [
    "getting most arrested place choose location descripiton  becasue location has a lot of missing data"
   ]
  },
  {
   "cell_type": "code",
   "execution_count": 1699,
   "metadata": {},
   "outputs": [],
   "source": [
    "true_arrest_12_df = chicago_crime_2012_arrests_true_df[chicago_crime_2012_arrests_true_df[\"Primary Type\"].isin(highest_percent_primary_crime_list)]\n",
    "false_arrest_12_df = chicago_crime_2012_arrests_false_df[chicago_crime_2012_arrests_false_df[\"Primary Type\"].isin(highest_percent_primary_crime_list)]\n",
    "concated_12_arrests_all = pd.concat([true_arrest_12_df,false_arrest_12_df])\n",
    "\n",
    "# true_arrest_12_df\n"
   ]
  },
  {
   "cell_type": "code",
   "execution_count": 1713,
   "metadata": {},
   "outputs": [
    {
     "data": {
      "text/html": [
       "<div>\n",
       "<style scoped>\n",
       "    .dataframe tbody tr th:only-of-type {\n",
       "        vertical-align: middle;\n",
       "    }\n",
       "\n",
       "    .dataframe tbody tr th {\n",
       "        vertical-align: top;\n",
       "    }\n",
       "\n",
       "    .dataframe thead th {\n",
       "        text-align: right;\n",
       "    }\n",
       "</style>\n",
       "<table border=\"1\" class=\"dataframe\">\n",
       "  <thead>\n",
       "    <tr style=\"text-align: right;\">\n",
       "      <th></th>\n",
       "      <th>Location Description</th>\n",
       "      <th>ABANDONED BUILDING</th>\n",
       "      <th>AIRCRAFT</th>\n",
       "      <th>AIRPORT BUILDING NON-TERMINAL - NON-SECURE AREA</th>\n",
       "      <th>AIRPORT EXTERIOR - NON-SECURE AREA</th>\n",
       "      <th>AIRPORT PARKING LOT</th>\n",
       "      <th>AIRPORT TERMINAL LOWER LEVEL - NON-SECURE AREA</th>\n",
       "      <th>AIRPORT TERMINAL LOWER LEVEL - SECURE AREA</th>\n",
       "      <th>AIRPORT TERMINAL UPPER LEVEL - NON-SECURE AREA</th>\n",
       "      <th>AIRPORT TERMINAL UPPER LEVEL - SECURE AREA</th>\n",
       "      <th>AIRPORT TRANSPORTATION SYSTEM (ATS)</th>\n",
       "      <th>...</th>\n",
       "      <th>SCHOOL, PUBLIC, GROUNDS</th>\n",
       "      <th>SIDEWALK</th>\n",
       "      <th>SMALL RETAIL STORE</th>\n",
       "      <th>STREET</th>\n",
       "      <th>TAVERN/LIQUOR STORE</th>\n",
       "      <th>TAXICAB</th>\n",
       "      <th>VACANT LOT/LAND</th>\n",
       "      <th>VEHICLE NON-COMMERCIAL</th>\n",
       "      <th>VEHICLE-COMMERCIAL</th>\n",
       "      <th>WAREHOUSE</th>\n",
       "    </tr>\n",
       "    <tr>\n",
       "      <th>Primary Type</th>\n",
       "      <th>Arrest</th>\n",
       "      <th></th>\n",
       "      <th></th>\n",
       "      <th></th>\n",
       "      <th></th>\n",
       "      <th></th>\n",
       "      <th></th>\n",
       "      <th></th>\n",
       "      <th></th>\n",
       "      <th></th>\n",
       "      <th></th>\n",
       "      <th></th>\n",
       "      <th></th>\n",
       "      <th></th>\n",
       "      <th></th>\n",
       "      <th></th>\n",
       "      <th></th>\n",
       "      <th></th>\n",
       "      <th></th>\n",
       "      <th></th>\n",
       "      <th></th>\n",
       "      <th></th>\n",
       "    </tr>\n",
       "  </thead>\n",
       "  <tbody>\n",
       "    <tr>\n",
       "      <th>DECEPTIVE PRACTICE</th>\n",
       "      <th>True</th>\n",
       "      <td>10.0</td>\n",
       "      <td>2.0</td>\n",
       "      <td>2.0</td>\n",
       "      <td>4.0</td>\n",
       "      <td>4.0</td>\n",
       "      <td>3.0</td>\n",
       "      <td>1.0</td>\n",
       "      <td>2.0</td>\n",
       "      <td>3.0</td>\n",
       "      <td>1.0</td>\n",
       "      <td>...</td>\n",
       "      <td>2.0</td>\n",
       "      <td>169.0</td>\n",
       "      <td>23.0</td>\n",
       "      <td>249.0</td>\n",
       "      <td>6.0</td>\n",
       "      <td>39.0</td>\n",
       "      <td>5.0</td>\n",
       "      <td>13.0</td>\n",
       "      <td>3.0</td>\n",
       "      <td>2.0</td>\n",
       "    </tr>\n",
       "    <tr>\n",
       "      <th>INTERFERENCE WITH PUBLIC OFFICER</th>\n",
       "      <th>True</th>\n",
       "      <td>4.0</td>\n",
       "      <td>0.0</td>\n",
       "      <td>0.0</td>\n",
       "      <td>0.0</td>\n",
       "      <td>0.0</td>\n",
       "      <td>1.0</td>\n",
       "      <td>1.0</td>\n",
       "      <td>0.0</td>\n",
       "      <td>1.0</td>\n",
       "      <td>0.0</td>\n",
       "      <td>...</td>\n",
       "      <td>2.0</td>\n",
       "      <td>308.0</td>\n",
       "      <td>6.0</td>\n",
       "      <td>508.0</td>\n",
       "      <td>0.0</td>\n",
       "      <td>0.0</td>\n",
       "      <td>7.0</td>\n",
       "      <td>26.0</td>\n",
       "      <td>1.0</td>\n",
       "      <td>0.0</td>\n",
       "    </tr>\n",
       "    <tr>\n",
       "      <th>OBSCENITY</th>\n",
       "      <th>True</th>\n",
       "      <td>0.0</td>\n",
       "      <td>0.0</td>\n",
       "      <td>0.0</td>\n",
       "      <td>0.0</td>\n",
       "      <td>0.0</td>\n",
       "      <td>0.0</td>\n",
       "      <td>0.0</td>\n",
       "      <td>0.0</td>\n",
       "      <td>0.0</td>\n",
       "      <td>0.0</td>\n",
       "      <td>...</td>\n",
       "      <td>0.0</td>\n",
       "      <td>0.0</td>\n",
       "      <td>0.0</td>\n",
       "      <td>0.0</td>\n",
       "      <td>0.0</td>\n",
       "      <td>0.0</td>\n",
       "      <td>0.0</td>\n",
       "      <td>0.0</td>\n",
       "      <td>0.0</td>\n",
       "      <td>0.0</td>\n",
       "    </tr>\n",
       "    <tr>\n",
       "      <th>PUBLIC INDECENCY</th>\n",
       "      <th>True</th>\n",
       "      <td>0.0</td>\n",
       "      <td>0.0</td>\n",
       "      <td>0.0</td>\n",
       "      <td>0.0</td>\n",
       "      <td>0.0</td>\n",
       "      <td>0.0</td>\n",
       "      <td>0.0</td>\n",
       "      <td>0.0</td>\n",
       "      <td>0.0</td>\n",
       "      <td>0.0</td>\n",
       "      <td>...</td>\n",
       "      <td>0.0</td>\n",
       "      <td>4.0</td>\n",
       "      <td>0.0</td>\n",
       "      <td>2.0</td>\n",
       "      <td>0.0</td>\n",
       "      <td>0.0</td>\n",
       "      <td>0.0</td>\n",
       "      <td>0.0</td>\n",
       "      <td>0.0</td>\n",
       "      <td>0.0</td>\n",
       "    </tr>\n",
       "    <tr>\n",
       "      <th>STALKING</th>\n",
       "      <th>True</th>\n",
       "      <td>0.0</td>\n",
       "      <td>0.0</td>\n",
       "      <td>0.0</td>\n",
       "      <td>0.0</td>\n",
       "      <td>0.0</td>\n",
       "      <td>0.0</td>\n",
       "      <td>0.0</td>\n",
       "      <td>0.0</td>\n",
       "      <td>1.0</td>\n",
       "      <td>0.0</td>\n",
       "      <td>...</td>\n",
       "      <td>0.0</td>\n",
       "      <td>1.0</td>\n",
       "      <td>0.0</td>\n",
       "      <td>5.0</td>\n",
       "      <td>0.0</td>\n",
       "      <td>0.0</td>\n",
       "      <td>0.0</td>\n",
       "      <td>1.0</td>\n",
       "      <td>0.0</td>\n",
       "      <td>0.0</td>\n",
       "    </tr>\n",
       "  </tbody>\n",
       "</table>\n",
       "<p>5 rows × 74 columns</p>\n",
       "</div>"
      ],
      "text/plain": [
       "Location Description                     ABANDONED BUILDING  AIRCRAFT  \\\n",
       "Primary Type                     Arrest                                 \n",
       "DECEPTIVE PRACTICE               True                  10.0       2.0   \n",
       "INTERFERENCE WITH PUBLIC OFFICER True                   4.0       0.0   \n",
       "OBSCENITY                        True                   0.0       0.0   \n",
       "PUBLIC INDECENCY                 True                   0.0       0.0   \n",
       "STALKING                         True                   0.0       0.0   \n",
       "\n",
       "Location Description                     AIRPORT BUILDING NON-TERMINAL - NON-SECURE AREA  \\\n",
       "Primary Type                     Arrest                                                    \n",
       "DECEPTIVE PRACTICE               True                                                2.0   \n",
       "INTERFERENCE WITH PUBLIC OFFICER True                                                0.0   \n",
       "OBSCENITY                        True                                                0.0   \n",
       "PUBLIC INDECENCY                 True                                                0.0   \n",
       "STALKING                         True                                                0.0   \n",
       "\n",
       "Location Description                     AIRPORT EXTERIOR - NON-SECURE AREA  \\\n",
       "Primary Type                     Arrest                                       \n",
       "DECEPTIVE PRACTICE               True                                   4.0   \n",
       "INTERFERENCE WITH PUBLIC OFFICER True                                   0.0   \n",
       "OBSCENITY                        True                                   0.0   \n",
       "PUBLIC INDECENCY                 True                                   0.0   \n",
       "STALKING                         True                                   0.0   \n",
       "\n",
       "Location Description                     AIRPORT PARKING LOT  \\\n",
       "Primary Type                     Arrest                        \n",
       "DECEPTIVE PRACTICE               True                    4.0   \n",
       "INTERFERENCE WITH PUBLIC OFFICER True                    0.0   \n",
       "OBSCENITY                        True                    0.0   \n",
       "PUBLIC INDECENCY                 True                    0.0   \n",
       "STALKING                         True                    0.0   \n",
       "\n",
       "Location Description                     AIRPORT TERMINAL LOWER LEVEL - NON-SECURE AREA  \\\n",
       "Primary Type                     Arrest                                                   \n",
       "DECEPTIVE PRACTICE               True                                               3.0   \n",
       "INTERFERENCE WITH PUBLIC OFFICER True                                               1.0   \n",
       "OBSCENITY                        True                                               0.0   \n",
       "PUBLIC INDECENCY                 True                                               0.0   \n",
       "STALKING                         True                                               0.0   \n",
       "\n",
       "Location Description                     AIRPORT TERMINAL LOWER LEVEL - SECURE AREA  \\\n",
       "Primary Type                     Arrest                                               \n",
       "DECEPTIVE PRACTICE               True                                           1.0   \n",
       "INTERFERENCE WITH PUBLIC OFFICER True                                           1.0   \n",
       "OBSCENITY                        True                                           0.0   \n",
       "PUBLIC INDECENCY                 True                                           0.0   \n",
       "STALKING                         True                                           0.0   \n",
       "\n",
       "Location Description                     AIRPORT TERMINAL UPPER LEVEL - NON-SECURE AREA  \\\n",
       "Primary Type                     Arrest                                                   \n",
       "DECEPTIVE PRACTICE               True                                               2.0   \n",
       "INTERFERENCE WITH PUBLIC OFFICER True                                               0.0   \n",
       "OBSCENITY                        True                                               0.0   \n",
       "PUBLIC INDECENCY                 True                                               0.0   \n",
       "STALKING                         True                                               0.0   \n",
       "\n",
       "Location Description                     AIRPORT TERMINAL UPPER LEVEL - SECURE AREA  \\\n",
       "Primary Type                     Arrest                                               \n",
       "DECEPTIVE PRACTICE               True                                           3.0   \n",
       "INTERFERENCE WITH PUBLIC OFFICER True                                           1.0   \n",
       "OBSCENITY                        True                                           0.0   \n",
       "PUBLIC INDECENCY                 True                                           0.0   \n",
       "STALKING                         True                                           1.0   \n",
       "\n",
       "Location Description                     AIRPORT TRANSPORTATION SYSTEM (ATS)  \\\n",
       "Primary Type                     Arrest                                        \n",
       "DECEPTIVE PRACTICE               True                                    1.0   \n",
       "INTERFERENCE WITH PUBLIC OFFICER True                                    0.0   \n",
       "OBSCENITY                        True                                    0.0   \n",
       "PUBLIC INDECENCY                 True                                    0.0   \n",
       "STALKING                         True                                    0.0   \n",
       "\n",
       "Location Description                     ...  SCHOOL, PUBLIC, GROUNDS  \\\n",
       "Primary Type                     Arrest  ...                            \n",
       "DECEPTIVE PRACTICE               True    ...                      2.0   \n",
       "INTERFERENCE WITH PUBLIC OFFICER True    ...                      2.0   \n",
       "OBSCENITY                        True    ...                      0.0   \n",
       "PUBLIC INDECENCY                 True    ...                      0.0   \n",
       "STALKING                         True    ...                      0.0   \n",
       "\n",
       "Location Description                     SIDEWALK  SMALL RETAIL STORE  STREET  \\\n",
       "Primary Type                     Arrest                                         \n",
       "DECEPTIVE PRACTICE               True       169.0                23.0   249.0   \n",
       "INTERFERENCE WITH PUBLIC OFFICER True       308.0                 6.0   508.0   \n",
       "OBSCENITY                        True         0.0                 0.0     0.0   \n",
       "PUBLIC INDECENCY                 True         4.0                 0.0     2.0   \n",
       "STALKING                         True         1.0                 0.0     5.0   \n",
       "\n",
       "Location Description                     TAVERN/LIQUOR STORE  TAXICAB  \\\n",
       "Primary Type                     Arrest                                 \n",
       "DECEPTIVE PRACTICE               True                    6.0     39.0   \n",
       "INTERFERENCE WITH PUBLIC OFFICER True                    0.0      0.0   \n",
       "OBSCENITY                        True                    0.0      0.0   \n",
       "PUBLIC INDECENCY                 True                    0.0      0.0   \n",
       "STALKING                         True                    0.0      0.0   \n",
       "\n",
       "Location Description                     VACANT LOT/LAND  \\\n",
       "Primary Type                     Arrest                    \n",
       "DECEPTIVE PRACTICE               True                5.0   \n",
       "INTERFERENCE WITH PUBLIC OFFICER True                7.0   \n",
       "OBSCENITY                        True                0.0   \n",
       "PUBLIC INDECENCY                 True                0.0   \n",
       "STALKING                         True                0.0   \n",
       "\n",
       "Location Description                     VEHICLE NON-COMMERCIAL  \\\n",
       "Primary Type                     Arrest                           \n",
       "DECEPTIVE PRACTICE               True                      13.0   \n",
       "INTERFERENCE WITH PUBLIC OFFICER True                      26.0   \n",
       "OBSCENITY                        True                       0.0   \n",
       "PUBLIC INDECENCY                 True                       0.0   \n",
       "STALKING                         True                       1.0   \n",
       "\n",
       "Location Description                     VEHICLE-COMMERCIAL  WAREHOUSE  \n",
       "Primary Type                     Arrest                                 \n",
       "DECEPTIVE PRACTICE               True                   3.0        2.0  \n",
       "INTERFERENCE WITH PUBLIC OFFICER True                   1.0        0.0  \n",
       "OBSCENITY                        True                   0.0        0.0  \n",
       "PUBLIC INDECENCY                 True                   0.0        0.0  \n",
       "STALKING                         True                   0.0        0.0  \n",
       "\n",
       "[5 rows x 74 columns]"
      ]
     },
     "execution_count": 1713,
     "metadata": {},
     "output_type": "execute_result"
    }
   ],
   "source": [
    "pivot_table = pd.pivot_table(true_arrest_12_df, \n",
    "                             values='ID', # Or any other column that you want to count\n",
    "                             index=['Primary Type', 'Arrest'], \n",
    "                             columns='Location Description', \n",
    "                             aggfunc='count')\n",
    "pivot_table_filled = pivot_table.fillna(0)\n",
    "\n",
    "pivot_table_filled.head()"
   ]
  },
  {
   "cell_type": "code",
   "execution_count": 1715,
   "metadata": {},
   "outputs": [
    {
     "data": {
      "image/png": "[encoded data removed]",
      "text/plain": [
       "<Figure size 2000x1000 with 2 Axes>"
      ]
     },
     "metadata": {},
     "output_type": "display_data"
    }
   ],
   "source": [
    "plt.figure(figsize=(20, 10))\n",
    "sns.set(font_scale=1.2)  # Adjust font scale as needed\n",
    "sns.heatmap(pivot_table_filled, annot=True, cmap='viridis', cbar=True, fmt='g')\n",
    "plt.title('Crime by Type, Location, and Arrest Status', fontsize=16)\n",
    "plt.xticks(rotation=45, ha='right', fontsize=12)\n",
    "plt.yticks(rotation=0, fontsize=12)\n",
    "plt.xlabel('Location Description', fontsize=14)\n",
    "plt.ylabel('Primary Crime Type', fontsize=14)\n",
    "plt.grid(True)\n",
    "plt.show()\n"
   ]
  },
  {
   "cell_type": "code",
   "execution_count": 1529,
   "metadata": {},
   "outputs": [
    {
     "data": {
      "text/plain": [
       "13047"
      ]
     },
     "execution_count": 1529,
     "metadata": {},
     "output_type": "execute_result"
    }
   ],
   "source": [
    "chicago_crime_2008_high_type_df = chicago_crime_2008_arrests_true_df[chicago_crime_2008_arrests_true_df[\"Primary Type\"].isin(highest_percent_primary_crime_list)]\n",
    "chicago_crime_2008_high_type_df[\"Location Description\"].value_counts()\n",
    "\n",
    "len(chicago_crime_2008_arrests_false_df[chicago_crime_2008_arrests_false_df[\"Primary Type\"].isin(highest_percent_primary_crime_list)])\n",
    "\n",
    "# Plott the differences and show stacked bar"
   ]
  },
  {
   "cell_type": "markdown",
   "metadata": {},
   "source": [
    "conlusion the crimes iin 2008 was barely a few and they all got caught and in 2012 there was 0 non caught and crime rising and all caguth"
   ]
  },
  {
   "cell_type": "markdown",
   "metadata": {},
   "source": [
    "# 5 - Troubles at home"
   ]
  },
  {
   "cell_type": "markdown",
   "metadata": {},
   "source": [
    "**5.1** How many recorded crimes are domestic?"
   ]
  },
  {
   "cell_type": "code",
   "execution_count": 807,
   "metadata": {},
   "outputs": [],
   "source": [
    "domestic_true_08_to_12_df = chicago_crime_2008_to_2012_df[chicago_crime_2008_to_2012_df[\"Domestic\"]== True]"
   ]
  },
  {
   "cell_type": "code",
   "execution_count": 873,
   "metadata": {},
   "outputs": [],
   "source": [
    "domestic_count= domestic_true_08_to_12_df[\"Domestic\"].value_counts()"
   ]
  },
  {
   "cell_type": "code",
   "execution_count": 880,
   "metadata": {},
   "outputs": [
    {
     "name": "stdout",
     "output_type": "stream",
     "text": [
      "There are 309749 Domestic recorded crimes\n"
     ]
    }
   ],
   "source": [
    "print(f\"There are {domestic_count.sum()} {domestic_count.index.name} recorded crimes\")"
   ]
  },
  {
   "cell_type": "markdown",
   "metadata": {},
   "source": [
    "**5.2** How many recorded crimes, of the primary type *offense involving children*, are domestic?"
   ]
  },
  {
   "cell_type": "code",
   "execution_count": 811,
   "metadata": {},
   "outputs": [],
   "source": [
    "domestic_children_08_to_12_df= domestic_true_08_to_12_df[domestic_true_08_to_12_df[\"Primary Type\"] == \"OFFENSE INVOLVING CHILDREN\"]"
   ]
  },
  {
   "cell_type": "code",
   "execution_count": 915,
   "metadata": {},
   "outputs": [
    {
     "data": {
      "text/plain": [
       "Primary Type\n",
       "OFFENSE INVOLVING CHILDREN    10921\n",
       "Name: count, dtype: int64"
      ]
     },
     "execution_count": 915,
     "metadata": {},
     "output_type": "execute_result"
    }
   ],
   "source": [
    "domestic_children_crimes= domestic_children_08_to_12_df[\"Primary Type\"].value_counts()\n",
    "domestic_children_crimes"
   ]
  },
  {
   "cell_type": "code",
   "execution_count": 899,
   "metadata": {},
   "outputs": [
    {
     "name": "stdout",
     "output_type": "stream",
     "text": [
      "There are 10921 recorded crimes with Primary type: OFFENSE INVOLVING CHILDREN \n"
     ]
    }
   ],
   "source": [
    "print(f\"There are {domestic_children_crimes.sum()} recorded crimes with Primary type: {domestic_children_crimes.index[0]} \")"
   ]
  },
  {
   "cell_type": "markdown",
   "metadata": {},
   "source": [
    "**5.3** How much more likely is it that an offense involving children is domestic?"
   ]
  },
  {
   "cell_type": "code",
   "execution_count": 904,
   "metadata": {},
   "outputs": [],
   "source": [
    "chance_domestic_children=round((domestic_children_crimes.sum() / domestic_true_08_to_12_df[\"Primary Type\"].value_counts().sum()) * 100,1)"
   ]
  },
  {
   "cell_type": "code",
   "execution_count": 908,
   "metadata": {},
   "outputs": [
    {
     "name": "stdout",
     "output_type": "stream",
     "text": [
      " It is 3.5% more likely offense involves children\n"
     ]
    }
   ],
   "source": [
    "print(f\" It is {chance_domestic_children}% more likely offense involves children\")"
   ]
  },
  {
   "cell_type": "markdown",
   "metadata": {},
   "source": [
    "**5.4** What's the worst weekday in terms of number of domestic offenses involving children? How does it compare to the other weekdays?"
   ]
  },
  {
   "cell_type": "code",
   "execution_count": 2059,
   "metadata": {},
   "outputs": [],
   "source": [
    "domestic_children_08_to_12_df_serie = pd.DatetimeIndex(domestic_children_08_to_12_df[\"Date\"]).day_name().value_counts()\n"
   ]
  },
  {
   "cell_type": "code",
   "execution_count": 2060,
   "metadata": {},
   "outputs": [],
   "source": [
    "domestic_children_08_to_12_comparing_df= pd.DataFrame(domestic_children_08_to_12_df_serie).reset_index().rename(columns={\"Date\":\"weekDay\",\"count\":\"crimes\"})"
   ]
  },
  {
   "cell_type": "code",
   "execution_count": 2063,
   "metadata": {},
   "outputs": [
    {
     "name": "stdout",
     "output_type": "stream",
     "text": [
      "Friday is the worst weekday with 168 crimes \n",
      " Look down here at table:\n"
     ]
    },
    {
     "data": {
      "text/html": [
       "<div>\n",
       "<style scoped>\n",
       "    .dataframe tbody tr th:only-of-type {\n",
       "        vertical-align: middle;\n",
       "    }\n",
       "\n",
       "    .dataframe tbody tr th {\n",
       "        vertical-align: top;\n",
       "    }\n",
       "\n",
       "    .dataframe thead th {\n",
       "        text-align: right;\n",
       "    }\n",
       "</style>\n",
       "<table border=\"1\" class=\"dataframe\">\n",
       "  <thead>\n",
       "    <tr style=\"text-align: right;\">\n",
       "      <th></th>\n",
       "      <th>weekDay</th>\n",
       "      <th>crimes</th>\n",
       "    </tr>\n",
       "  </thead>\n",
       "  <tbody>\n",
       "    <tr>\n",
       "      <th>0</th>\n",
       "      <td>Friday</td>\n",
       "      <td>168</td>\n",
       "    </tr>\n",
       "    <tr>\n",
       "      <th>1</th>\n",
       "      <td>Saturday</td>\n",
       "      <td>165</td>\n",
       "    </tr>\n",
       "    <tr>\n",
       "      <th>2</th>\n",
       "      <td>Tuesday</td>\n",
       "      <td>140</td>\n",
       "    </tr>\n",
       "    <tr>\n",
       "      <th>3</th>\n",
       "      <td>Thursday</td>\n",
       "      <td>136</td>\n",
       "    </tr>\n",
       "    <tr>\n",
       "      <th>4</th>\n",
       "      <td>Monday</td>\n",
       "      <td>134</td>\n",
       "    </tr>\n",
       "    <tr>\n",
       "      <th>5</th>\n",
       "      <td>Sunday</td>\n",
       "      <td>129</td>\n",
       "    </tr>\n",
       "    <tr>\n",
       "      <th>6</th>\n",
       "      <td>Wednesday</td>\n",
       "      <td>126</td>\n",
       "    </tr>\n",
       "  </tbody>\n",
       "</table>\n",
       "</div>"
      ],
      "text/plain": [
       "     weekDay  crimes\n",
       "0     Friday     168\n",
       "1   Saturday     165\n",
       "2    Tuesday     140\n",
       "3   Thursday     136\n",
       "4     Monday     134\n",
       "5     Sunday     129\n",
       "6  Wednesday     126"
      ]
     },
     "execution_count": 2063,
     "metadata": {},
     "output_type": "execute_result"
    }
   ],
   "source": [
    "print(f\"{domestic_children_08_to_12_df_serie.index[0]} is the worst weekday with {domestic_children_08_to_12_df_serie.iloc[0]} crimes \\n Look down here at table:\")\n",
    "domestic_children_08_to_12_comparing_df\n"
   ]
  },
  {
   "cell_type": "markdown",
   "metadata": {},
   "source": [
    "**5.5** What's the distribution, in terms of recorded crimes, for domestic *and* sexual offenses involving children? What's the arrest percentage for each? "
   ]
  },
  {
   "cell_type": "code",
   "execution_count": 2473,
   "metadata": {},
   "outputs": [],
   "source": [
    "child_sex_crimes_08_12_df = domestic_true_08_to_12_df[domestic_true_08_to_12_df[\"Primary Type\"] == \"OFFENSE INVOLVING CHILDREN\"].reset_index()\n",
    "child_sex_crimes_08_12_df =child_sex_crimes_08_12_df[child_sex_crimes_08_12_df[\"Description\"].str.contains(\"SEX\")]\n",
    "total_crimes_child_08_12 = child_sex_crimes_08_12_df[\"Description\"].value_counts()\n"
   ]
  },
  {
   "cell_type": "code",
   "execution_count": 2279,
   "metadata": {},
   "outputs": [],
   "source": [
    "arrest_false_df= child_sex_crimes_08_12_df[child_sex_crimes_08_12_df[\"Arrest\"] == False]\n",
    "arrest_false_serie = arrest_false_df[\"Description\"].value_counts()\n",
    "\n",
    "child_arrests_crime_08_12_df = child_sex_crimes_08_12_df[child_sex_crimes_08_12_df[\"Arrest\"] == True]\n",
    "child_arrests_crime_08_12_serie = child_arrests_crime_08_12_df[\"Description\"].value_counts()"
   ]
  },
  {
   "cell_type": "code",
   "execution_count": 2378,
   "metadata": {},
   "outputs": [
    {
     "data": {
      "text/plain": [
       "Description\n",
       "AGG CRIM SEX ABUSE FAM MEMBER                          29.61\n",
       "AGG SEX ASSLT OF CHILD FAM MBR                         27.84\n",
       "CRIM SEX ABUSE BY FAM MEMBER                           12.75\n",
       "SEX ASSLT OF CHILD BY FAM MBR                          12.35\n",
       "AGGRAVATED SEXUAL ASSAULT OF CHILD BY FAMILY MEMBER     9.61\n",
       "AGGRAVATED CRIMINAL SEXUAL ABUSE BY FAMILY MEMBER       5.10\n",
       "SEXUAL ASSAULT OF CHILD BY FAMILY MEMBER                2.16\n",
       "CRIMINAL SEXUAL ABUSE BY FAMILY MEMBER                  0.59\n",
       "Name: count, dtype: float64"
      ]
     },
     "execution_count": 2378,
     "metadata": {},
     "output_type": "execute_result"
    }
   ],
   "source": [
    "arrest_true = child_arrests_crime_08_12_df.shape[0]\n",
    "\n",
    "arrest_false = arrest_false_serie.sum()\n",
    "arrest_percentage = round(child_sex_crimes_08_12_df.groupby('Description')['Arrest'].mean() * 100,2)\n",
    "\n",
    "true_arrest_percentage = round((child_arrests_crime_08_12_serie / child_arrests_crime_08_12_serie.sum()) *100,2)\n",
    "true_arrest_percentage\n"
   ]
  },
  {
   "cell_type": "code",
   "execution_count": 2468,
   "metadata": {},
   "outputs": [
    {
     "data": {
      "text/html": [
       "<div>\n",
       "<style scoped>\n",
       "    .dataframe tbody tr th:only-of-type {\n",
       "        vertical-align: middle;\n",
       "    }\n",
       "\n",
       "    .dataframe tbody tr th {\n",
       "        vertical-align: top;\n",
       "    }\n",
       "\n",
       "    .dataframe thead th {\n",
       "        text-align: right;\n",
       "    }\n",
       "</style>\n",
       "<table border=\"1\" class=\"dataframe\">\n",
       "  <thead>\n",
       "    <tr style=\"text-align: right;\">\n",
       "      <th></th>\n",
       "      <th>Description</th>\n",
       "      <th>Total_Crimes</th>\n",
       "      <th>Non_Arrests</th>\n",
       "      <th>Arrests</th>\n",
       "      <th>Arrest Percentage %</th>\n",
       "      <th>All_attacks(100%)</th>\n",
       "    </tr>\n",
       "  </thead>\n",
       "  <tbody>\n",
       "    <tr>\n",
       "      <th>0</th>\n",
       "      <td>AGG CRIM SEX ABUSE FAM MEMBER</td>\n",
       "      <td>670</td>\n",
       "      <td>519</td>\n",
       "      <td>151</td>\n",
       "      <td>22.54</td>\n",
       "      <td>29.61</td>\n",
       "    </tr>\n",
       "    <tr>\n",
       "      <th>1</th>\n",
       "      <td>AGG SEX ASSLT OF CHILD FAM MBR</td>\n",
       "      <td>507</td>\n",
       "      <td>365</td>\n",
       "      <td>142</td>\n",
       "      <td>28.01</td>\n",
       "      <td>27.84</td>\n",
       "    </tr>\n",
       "    <tr>\n",
       "      <th>2</th>\n",
       "      <td>AGGRAVATED CRIMINAL SEXUAL ABUSE BY FAMILY MEMBER</td>\n",
       "      <td>114</td>\n",
       "      <td>88</td>\n",
       "      <td>26</td>\n",
       "      <td>22.81</td>\n",
       "      <td>5.10</td>\n",
       "    </tr>\n",
       "    <tr>\n",
       "      <th>3</th>\n",
       "      <td>AGGRAVATED SEXUAL ASSAULT OF CHILD BY FAMILY M...</td>\n",
       "      <td>143</td>\n",
       "      <td>94</td>\n",
       "      <td>49</td>\n",
       "      <td>34.27</td>\n",
       "      <td>9.61</td>\n",
       "    </tr>\n",
       "    <tr>\n",
       "      <th>4</th>\n",
       "      <td>CRIM SEX ABUSE BY FAM MEMBER</td>\n",
       "      <td>463</td>\n",
       "      <td>398</td>\n",
       "      <td>65</td>\n",
       "      <td>14.04</td>\n",
       "      <td>12.75</td>\n",
       "    </tr>\n",
       "    <tr>\n",
       "      <th>5</th>\n",
       "      <td>CRIMINAL SEXUAL ABUSE BY FAMILY MEMBER</td>\n",
       "      <td>23</td>\n",
       "      <td>20</td>\n",
       "      <td>3</td>\n",
       "      <td>13.04</td>\n",
       "      <td>0.59</td>\n",
       "    </tr>\n",
       "    <tr>\n",
       "      <th>6</th>\n",
       "      <td>SEX ASSLT OF CHILD BY FAM MBR</td>\n",
       "      <td>295</td>\n",
       "      <td>232</td>\n",
       "      <td>63</td>\n",
       "      <td>21.36</td>\n",
       "      <td>12.35</td>\n",
       "    </tr>\n",
       "    <tr>\n",
       "      <th>7</th>\n",
       "      <td>SEXUAL ASSAULT OF CHILD BY FAMILY MEMBER</td>\n",
       "      <td>47</td>\n",
       "      <td>36</td>\n",
       "      <td>11</td>\n",
       "      <td>23.40</td>\n",
       "      <td>2.16</td>\n",
       "    </tr>\n",
       "  </tbody>\n",
       "</table>\n",
       "</div>"
      ],
      "text/plain": [
       "                                         Description  Total_Crimes  \\\n",
       "0                      AGG CRIM SEX ABUSE FAM MEMBER           670   \n",
       "1                     AGG SEX ASSLT OF CHILD FAM MBR           507   \n",
       "2  AGGRAVATED CRIMINAL SEXUAL ABUSE BY FAMILY MEMBER           114   \n",
       "3  AGGRAVATED SEXUAL ASSAULT OF CHILD BY FAMILY M...           143   \n",
       "4                       CRIM SEX ABUSE BY FAM MEMBER           463   \n",
       "5             CRIMINAL SEXUAL ABUSE BY FAMILY MEMBER            23   \n",
       "6                      SEX ASSLT OF CHILD BY FAM MBR           295   \n",
       "7           SEXUAL ASSAULT OF CHILD BY FAMILY MEMBER            47   \n",
       "\n",
       "   Non_Arrests  Arrests  Arrest Percentage %  All_attacks(100%)  \n",
       "0          519      151                22.54              29.61  \n",
       "1          365      142                28.01              27.84  \n",
       "2           88       26                22.81               5.10  \n",
       "3           94       49                34.27               9.61  \n",
       "4          398       65                14.04              12.75  \n",
       "5           20        3                13.04               0.59  \n",
       "6          232       63                21.36              12.35  \n",
       "7           36       11                23.40               2.16  "
      ]
     },
     "execution_count": 2468,
     "metadata": {},
     "output_type": "execute_result"
    }
   ],
   "source": [
    "\n",
    "\n",
    "summary_df = pd.DataFrame({\n",
    "    'Total_Crimes': total_crimes_child_08_12,\n",
    "    'Non_Arrests':arrest_false_serie,\n",
    "    'Arrests':child_arrests_crime_08_12_serie,\n",
    "    'Arrest Percentage %': arrest_percentage,\n",
    "    \"All_attacks(100%)\": true_arrest_percentage\n",
    "}).reset_index()\n",
    "summary_df"
   ]
  },
  {
   "cell_type": "code",
   "execution_count": 2624,
   "metadata": {},
   "outputs": [
    {
     "data": {
      "image/png": "[encoded data removed]",
      "text/plain": [
       "<Figure size 2000x1000 with 2 Axes>"
      ]
     },
     "metadata": {},
     "output_type": "display_data"
    }
   ],
   "source": [
    "\n",
    "\n",
    "\n",
    "\n",
    "colors = ['#ffb3e6', '#c2c2f0','#ffcc99', '#b3e6ff']\n",
    "explode = (0.1, 0) \n",
    "font_size = 16  \n",
    "title_font_size = 20\n",
    "fig, ax = plt.subplots(1, 2, figsize=(20, 10))  \n",
    "\n",
    "ax[0].pie([summary_df['Non_Arrests'].sum(), summary_df['Arrests'].sum()],\n",
    "          explode=explode,\n",
    "          labels=['Non-Arrests', 'Arrests'],\n",
    "          autopct='%1.1f%%',\n",
    "          startangle=140,\n",
    "          shadow=True,\n",
    "          colors=colors,\n",
    "        textprops={'fontsize': font_size})\n",
    "\n",
    "ax[0].set_title('Arrests vs Non-Arrests', pad=20,fontsize=title_font_size)\n",
    "arrests_labels = summary_df['Description'].tolist()  \n",
    "arrests_sizes = summary_df['Arrest Percentage %'].tolist()  \n",
    "\n",
    "ax[1].pie(arrests_sizes,\n",
    "          labels=arrests_labels,\n",
    "          autopct='%1.1f%%',\n",
    "          startangle=140,\n",
    "          shadow=True,\n",
    "          colors=colors,\n",
    "          textprops={'fontsize': 12})\n",
    "\n",
    "ax[1].set_title('Arrest(100%) ', pad=20, fontsize=title_font_size)\n",
    "\n",
    "ax[0].legend(loc=\"upper right\", bbox_to_anchor=(1.1, 1.05), fontsize=title_font_size)\n",
    "# ax[1].legend(loc=\"upper \", bbox_to_anchor=(1.1, 1.05), fontsize=title_font_size)\n",
    "\n",
    "\n",
    "plt.tight_layout()\n",
    "\n",
    "plt.show()"
   ]
  },
  {
   "cell_type": "markdown",
   "metadata": {},
   "source": [
    "**5.6*** What period of the day does the specific kind of (domestic) offense against children, with the most recorded arrests, tend do occur? \n",
    "\n",
    "How does it look for all weekdays individually?\n",
    "        Can you find certain periods of the week that are especially bad? "
   ]
  },
  {
   "cell_type": "code",
   "execution_count": 2441,
   "metadata": {},
   "outputs": [],
   "source": [
    "most_recorde_arrests_children = summary_df.head(1).values[0][0]\n",
    "most_recorded_arrests_description_children_df = child_arrests_crime_08_12_df[child_arrests_crime_08_12_df[\"Description\"] == most_recorde_arrests_children]"
   ]
  },
  {
   "cell_type": "code",
   "execution_count": 2461,
   "metadata": {},
   "outputs": [
    {
     "data": {
      "text/plain": [
       "Date\n",
       "0     244\n",
       "22     21\n",
       "18     21\n",
       "8      18\n",
       "20     17\n",
       "9      16\n",
       "15     16\n",
       "1      15\n",
       "12     15\n",
       "21     12\n",
       "7      12\n",
       "23     12\n",
       "16     10\n",
       "14     10\n",
       "17     10\n",
       "2       9\n",
       "19      9\n",
       "13      9\n",
       "3       8\n",
       "11      7\n",
       "10      6\n",
       "6       5\n",
       "5       5\n",
       "4       3\n",
       "Name: count, dtype: int64"
      ]
     },
     "execution_count": 2461,
     "metadata": {},
     "output_type": "execute_result"
    }
   ],
   "source": [
    "child_arrests_crime_days_08_12_df = pd.DatetimeIndex(most_recorded_arrests_description_children_df[\"Date\"]).day_name().value_counts()\n",
    "child_arrests_crime_hours_08_12_df= pd.DatetimeIndex(child_arrests_crime_08_12_df[\"Date\"]).hour.value_counts()\n",
    "child_arrests_crime_days_08_12_df\n",
    "child_arrests_crime_hours_08_12_df\n"
   ]
  },
  {
   "cell_type": "code",
   "execution_count": null,
   "metadata": {},
   "outputs": [],
   "source": [
    "# plot both hours and the days"
   ]
  },
  {
   "cell_type": "markdown",
   "metadata": {},
   "source": [
    "HAr data för tiden och dagarna plotta och fram till analys"
   ]
  },
  {
   "cell_type": "markdown",
   "metadata": {},
   "source": [
    "**5.7*** Looking at any given year as a whole, what's the worst period in terms of domestic number of offenses involving children? Can you find any trends? Does the trend seem to be consistent for every other year? "
   ]
  },
  {
   "cell_type": "code",
   "execution_count": 2750,
   "metadata": {},
   "outputs": [],
   "source": [
    "def look_at_years(year):\n",
    "    filter_year = child_sex_crimes_08_12_df[child_sex_crimes_08_12_df[\"Year\"] == year]\n",
    "    return pd.DataFrame(pd.DatetimeIndex(filter_year[\"Date\"]).month_name().value_counts()).reset_index().rename(columns={\"count\": f\"Crimes_{year}\"})\n"
   ]
  },
  {
   "cell_type": "code",
   "execution_count": 2808,
   "metadata": {},
   "outputs": [],
   "source": [
    "child_sex_crimes_08_df =look_at_years(2008)\n",
    "child_sex_crimes_09_df =look_at_years(2009)\n",
    "child_sex_crimes_10_df =look_at_years(2010)\n",
    "child_sex_crimes_11_df =look_at_years(2011)\n",
    "child_sex_crimes_12_df =look_at_years(2012)\n",
    "total_crimes_years = pd.DataFrame(pd.DatetimeIndex(child_sex_crimes_08_12_df[\"Date\"]).month_name().value_counts()).reset_index().rename(columns={\"count\": f\"Total_crimes\"})"
   ]
  },
  {
   "cell_type": "code",
   "execution_count": 2821,
   "metadata": {},
   "outputs": [
    {
     "data": {
      "text/html": [
       "<div>\n",
       "<style scoped>\n",
       "    .dataframe tbody tr th:only-of-type {\n",
       "        vertical-align: middle;\n",
       "    }\n",
       "\n",
       "    .dataframe tbody tr th {\n",
       "        vertical-align: top;\n",
       "    }\n",
       "\n",
       "    .dataframe thead th {\n",
       "        text-align: right;\n",
       "    }\n",
       "</style>\n",
       "<table border=\"1\" class=\"dataframe\">\n",
       "  <thead>\n",
       "    <tr style=\"text-align: right;\">\n",
       "      <th></th>\n",
       "      <th>Date</th>\n",
       "      <th>Crimes_2008</th>\n",
       "      <th>Crimes_2009</th>\n",
       "      <th>Crimes_2010</th>\n",
       "      <th>Crimes_2011</th>\n",
       "      <th>Crimes_2012</th>\n",
       "      <th>Total_crimes</th>\n",
       "    </tr>\n",
       "  </thead>\n",
       "  <tbody>\n",
       "    <tr>\n",
       "      <th>0</th>\n",
       "      <td>January</td>\n",
       "      <td>78</td>\n",
       "      <td>101</td>\n",
       "      <td>116</td>\n",
       "      <td>80</td>\n",
       "      <td>92</td>\n",
       "      <td>467</td>\n",
       "    </tr>\n",
       "    <tr>\n",
       "      <th>1</th>\n",
       "      <td>June</td>\n",
       "      <td>41</td>\n",
       "      <td>51</td>\n",
       "      <td>42</td>\n",
       "      <td>31</td>\n",
       "      <td>33</td>\n",
       "      <td>198</td>\n",
       "    </tr>\n",
       "    <tr>\n",
       "      <th>2</th>\n",
       "      <td>August</td>\n",
       "      <td>40</td>\n",
       "      <td>35</td>\n",
       "      <td>49</td>\n",
       "      <td>25</td>\n",
       "      <td>39</td>\n",
       "      <td>188</td>\n",
       "    </tr>\n",
       "    <tr>\n",
       "      <th>3</th>\n",
       "      <td>December</td>\n",
       "      <td>31</td>\n",
       "      <td>31</td>\n",
       "      <td>50</td>\n",
       "      <td>31</td>\n",
       "      <td>32</td>\n",
       "      <td>175</td>\n",
       "    </tr>\n",
       "    <tr>\n",
       "      <th>4</th>\n",
       "      <td>September</td>\n",
       "      <td>43</td>\n",
       "      <td>30</td>\n",
       "      <td>37</td>\n",
       "      <td>31</td>\n",
       "      <td>30</td>\n",
       "      <td>171</td>\n",
       "    </tr>\n",
       "    <tr>\n",
       "      <th>5</th>\n",
       "      <td>May</td>\n",
       "      <td>38</td>\n",
       "      <td>41</td>\n",
       "      <td>31</td>\n",
       "      <td>27</td>\n",
       "      <td>29</td>\n",
       "      <td>166</td>\n",
       "    </tr>\n",
       "    <tr>\n",
       "      <th>6</th>\n",
       "      <td>October</td>\n",
       "      <td>26</td>\n",
       "      <td>32</td>\n",
       "      <td>34</td>\n",
       "      <td>35</td>\n",
       "      <td>37</td>\n",
       "      <td>164</td>\n",
       "    </tr>\n",
       "    <tr>\n",
       "      <th>7</th>\n",
       "      <td>April</td>\n",
       "      <td>34</td>\n",
       "      <td>40</td>\n",
       "      <td>23</td>\n",
       "      <td>36</td>\n",
       "      <td>18</td>\n",
       "      <td>151</td>\n",
       "    </tr>\n",
       "    <tr>\n",
       "      <th>8</th>\n",
       "      <td>November</td>\n",
       "      <td>27</td>\n",
       "      <td>30</td>\n",
       "      <td>29</td>\n",
       "      <td>41</td>\n",
       "      <td>24</td>\n",
       "      <td>151</td>\n",
       "    </tr>\n",
       "    <tr>\n",
       "      <th>9</th>\n",
       "      <td>July</td>\n",
       "      <td>23</td>\n",
       "      <td>19</td>\n",
       "      <td>35</td>\n",
       "      <td>39</td>\n",
       "      <td>33</td>\n",
       "      <td>149</td>\n",
       "    </tr>\n",
       "    <tr>\n",
       "      <th>10</th>\n",
       "      <td>March</td>\n",
       "      <td>38</td>\n",
       "      <td>22</td>\n",
       "      <td>22</td>\n",
       "      <td>32</td>\n",
       "      <td>32</td>\n",
       "      <td>146</td>\n",
       "    </tr>\n",
       "    <tr>\n",
       "      <th>11</th>\n",
       "      <td>February</td>\n",
       "      <td>29</td>\n",
       "      <td>30</td>\n",
       "      <td>34</td>\n",
       "      <td>23</td>\n",
       "      <td>20</td>\n",
       "      <td>136</td>\n",
       "    </tr>\n",
       "  </tbody>\n",
       "</table>\n",
       "</div>"
      ],
      "text/plain": [
       "         Date  Crimes_2008  Crimes_2009  Crimes_2010  Crimes_2011  \\\n",
       "0     January           78          101          116           80   \n",
       "1        June           41           51           42           31   \n",
       "2      August           40           35           49           25   \n",
       "3    December           31           31           50           31   \n",
       "4   September           43           30           37           31   \n",
       "5         May           38           41           31           27   \n",
       "6     October           26           32           34           35   \n",
       "7       April           34           40           23           36   \n",
       "8    November           27           30           29           41   \n",
       "9        July           23           19           35           39   \n",
       "10      March           38           22           22           32   \n",
       "11   February           29           30           34           23   \n",
       "\n",
       "    Crimes_2012  Total_crimes  \n",
       "0            92           467  \n",
       "1            33           198  \n",
       "2            39           188  \n",
       "3            32           175  \n",
       "4            30           171  \n",
       "5            29           166  \n",
       "6            37           164  \n",
       "7            18           151  \n",
       "8            24           151  \n",
       "9            33           149  \n",
       "10           32           146  \n",
       "11           20           136  "
      ]
     },
     "execution_count": 2821,
     "metadata": {},
     "output_type": "execute_result"
    }
   ],
   "source": [
    "merged_08_09 = pd.merge(child_sex_crimes_08_df,child_sex_crimes_09_df, on=\"Date\")\n",
    "merged_10_11 = pd.merge(child_sex_crimes_10_df,child_sex_crimes_11_df, on=\"Date\")\n",
    "merged_08_09_10_11 = pd.merge(merged_08_09,merged_10_11, on=\"Date\")\n",
    "merged_08_09_10_11_12 = merged_08_09_10_11.merge(child_sex_crimes_12_df, on=\"Date\")\n",
    "merged_08_09_10_11_12.merge(total_crimes_years, on=\"Date\").sort_values(by=\"Total_crimes\",ascending=False).set_index(\"Date\").reset_index()"
   ]
  },
  {
   "cell_type": "markdown",
   "metadata": {},
   "source": [
    "janurary worst month every year / february calmest funny it is after januari. Summer the crims rise also "
   ]
  },
  {
   "cell_type": "markdown",
   "metadata": {},
   "source": [
    "# 6 - Bad Boys Bad Boys whatcha gonna do"
   ]
  },
  {
   "cell_type": "markdown",
   "metadata": {},
   "source": [
    "**6.1** In general, what weekday is a crime most likely to occur? Which day is the safest?"
   ]
  },
  {
   "cell_type": "code",
   "execution_count": 2519,
   "metadata": {},
   "outputs": [],
   "source": [
    "general_weekday_crime_08_12_serie= pd.DatetimeIndex(chicago_crime_2008_to_2012_df[\"Date\"]).day_name().value_counts()"
   ]
  },
  {
   "cell_type": "code",
   "execution_count": 2517,
   "metadata": {},
   "outputs": [
    {
     "name": "stdout",
     "output_type": "stream",
     "text": [
      "As you can se here in the barplot the day it happensd a lot is frieday \n",
      " sunday is the lugnaste prob becasue its churchday\n"
     ]
    },
    {
     "data": {
      "text/plain": [
       "<Axes: >"
      ]
     },
     "execution_count": 2517,
     "metadata": {},
     "output_type": "execute_result"
    },
    {
     "data": {
      "image/png": "[encoded data removed]",
      "text/plain": [
       "<Figure size 640x480 with 1 Axes>"
      ]
     },
     "metadata": {},
     "output_type": "display_data"
    }
   ],
   "source": [
    "print(\"As you can se here in the barplot the day it happensd a lot is frieday \\n sunday is the lugnaste prob becasue its churchday\")\n",
    "sns.barplot(x=general_weekday_crime_08_12_serie.index.to_list(), y=general_weekday_crime_08_12_serie.values)"
   ]
  },
  {
   "cell_type": "markdown",
   "metadata": {},
   "source": [
    "**6.2** Which is the most unsafe weekday for you if you'd like to avoid the following:\n",
    "\n",
    "a) getting your phone stolen by sneaky pickpockets (THEFT) \n",
    "\n",
    "b) having your handbag forcibly pulled away (ROBBERY) \n",
    "\n",
    "c) getting jumped in an alley (ASSAULT)\n",
    "\n",
    "For each of the above crimes, also answer at what locations you should be extra careful around."
   ]
  },
  {
   "cell_type": "code",
   "execution_count": 2548,
   "metadata": {},
   "outputs": [],
   "source": [
    "chicago_crime_theft_pickpocket_2008_to_2012_df = chicago_crime_2008_to_2012_df[((chicago_crime_2008_to_2012_df[\"Primary Type\"] == \"THEFT\") &(chicago_crime_2008_to_2012_df[\"Description\"].str.contains(\"POCKET-PICKING\")))]\n",
    "chicago_crime_theft_pickpocket_unsafe_2008_to_2012= pd.DatetimeIndex(chicago_crime_theft_pickpocket_2008_to_2012_df[\"Date\"]).day_name().value_counts()\n",
    "\n",
    "unsafe_theft_day = chicago_crime_theft_pickpocket_unsafe_2008_to_2012.head(1).index[0]\n",
    "unsafe_theft_day_count = chicago_crime_theft_pickpocket_unsafe_2008_to_2012.head(1).values[0]"
   ]
  },
  {
   "cell_type": "code",
   "execution_count": 2549,
   "metadata": {},
   "outputs": [
    {
     "name": "stdout",
     "output_type": "stream",
     "text": [
      "Saturday happends most THEFT in pickppockets with count of 1785\n"
     ]
    }
   ],
   "source": [
    "chicago_crime_theft_pickpocket_unsafe_2008_to_2012 \n",
    "# Plot\n",
    "print(f\"{unsafe_theft_day} happends most THEFT in pickppockets with count of {unsafe_theft_day_count}\")"
   ]
  },
  {
   "cell_type": "code",
   "execution_count": 2550,
   "metadata": {},
   "outputs": [
    {
     "data": {
      "text/plain": [
       "Date\n",
       "Friday       10975\n",
       "Monday       10781\n",
       "Wednesday    10632\n",
       "Saturday     10622\n",
       "Sunday       10564\n",
       "Tuesday      10548\n",
       "Thursday     10305\n",
       "Name: count, dtype: int64"
      ]
     },
     "execution_count": 2550,
     "metadata": {},
     "output_type": "execute_result"
    }
   ],
   "source": [
    "chicago_crime_robbery_2008_to_2012_df = chicago_crime_2008_to_2012_df[chicago_crime_2008_to_2012_df[\"Primary Type\"] == \"ROBBERY\"]\n",
    "chicago_crime_robbery_unsafe_2008_to_2012= pd.DatetimeIndex(chicago_crime_robbery_2008_to_2012_df[\"Date\"]).day_name().value_counts()\n",
    "chicago_crime_robbery_unsafe_2008_to_2012"
   ]
  },
  {
   "cell_type": "code",
   "execution_count": 2554,
   "metadata": {},
   "outputs": [],
   "source": [
    "chicago_crime_assault_alley_2008_to_2012_df = chicago_crime_2008_to_2012_df[((chicago_crime_2008_to_2012_df[\"Primary Type\"] == \"ASSAULT\") &(chicago_crime_2008_to_2012_df[\"Location Description\"].str.contains(\"ALLEY\")))]\n",
    "chicago_crime_assault_alley_unsafe_2008_to_2012_df= pd.DatetimeIndex(chicago_crime_assault_alley_2008_to_2012_df[\"Date\"]).day_name().value_counts()\n",
    "\n",
    "unsafe_assault_alley_day = chicago_crime_assault_alley_unsafe_2008_to_2012_df.head(1).index[0]\n",
    "unsafe_assault_alley_count = chicago_crime_assault_alley_unsafe_2008_to_2012_df.head(1).values[0]"
   ]
  },
  {
   "cell_type": "code",
   "execution_count": 2556,
   "metadata": {},
   "outputs": [
    {
     "name": "stdout",
     "output_type": "stream",
     "text": [
      "To nod get jumped in alley dont be there on a Saturday, estimated 399 crimes there \n"
     ]
    }
   ],
   "source": [
    "print(f\"To nod get jumped in alley dont be there on a {unsafe_assault_alley_day}, estimated {unsafe_assault_alley_count} crimes there \")"
   ]
  },
  {
   "cell_type": "markdown",
   "metadata": {},
   "source": [
    "**6.3** Which are the worst 10 dates (most recorded crimes) of 2008? Does this trend hold for the other years?"
   ]
  },
  {
   "cell_type": "code",
   "execution_count": 2839,
   "metadata": {},
   "outputs": [],
   "source": [
    "def ten_worst_dates(year):\n",
    "    filter_year = child_sex_crimes_08_12_df[child_sex_crimes_08_12_df[\"Year\"] == year]\n",
    "    return pd.DataFrame(filter_year[\"Date\"].dt.date.value_counts().head(10)).reset_index()"
   ]
  },
  {
   "cell_type": "code",
   "execution_count": 2840,
   "metadata": {},
   "outputs": [],
   "source": [
    "ten_worst_date_2008_df = ten_worst_dates(2008)\n",
    "ten_worst_date_2009_df = ten_worst_dates(2009)\n",
    "ten_worst_date_2010_df = ten_worst_dates(2010)\n",
    "ten_worst_date_2011_df = ten_worst_dates(2011)\n",
    "ten_worst_date_2012_df = ten_worst_dates(2012)"
   ]
  },
  {
   "cell_type": "code",
   "execution_count": 2849,
   "metadata": {},
   "outputs": [
    {
     "data": {
      "text/plain": [
       "<Axes: xlabel='Date', ylabel='count'>"
      ]
     },
     "execution_count": 2849,
     "metadata": {},
     "output_type": "execute_result"
    },
    {
     "data": {
      "image/png": "[encoded data removed]",
      "text/plain": [
       "<Figure size 640x480 with 1 Axes>"
      ]
     },
     "metadata": {},
     "output_type": "display_data"
    }
   ],
   "source": [
    "ten_worst_date_2008_df\n",
    "sns.barplot(ten_worst_date_2008_df ,x=\"Date\", y=\"count\")\n"
   ]
  },
  {
   "cell_type": "markdown",
   "metadata": {},
   "source": [
    "make loop thru all the years we have 8 need to 12"
   ]
  },
  {
   "cell_type": "markdown",
   "metadata": {},
   "source": [
    "**6.4** From the perspective of total number of crime records, which are the Top 10 primary crime types? Which are the Bottom 10? \n",
    "\n",
    "Consider this question for the years 2008-2012 as a whole. "
   ]
  },
  {
   "cell_type": "code",
   "execution_count": 2606,
   "metadata": {},
   "outputs": [],
   "source": [
    "ranked_crimes_recorded_08_to_12 = chicago_crime_2008_to_2012_df[\"Primary Type\"].value_counts()\n",
    "ranked_crimes_top_10_recorded_08_to_12= ranked_crimes_recorded_08_to_12.head(10)\n",
    "ranked_crimes_bottom_10_recorded_08_to_12= ranked_crimes_recorded_08_to_12.tail(10)\n"
   ]
  },
  {
   "cell_type": "markdown",
   "metadata": {},
   "source": [
    "Highest and bottom done jsut need plot"
   ]
  },
  {
   "cell_type": "code",
   "execution_count": 2607,
   "metadata": {},
   "outputs": [
    {
     "name": "stdout",
     "output_type": "stream",
     "text": [
      "Primary Type\n",
      "THEFT                  396788\n",
      "BATTERY                329384\n",
      "CRIMINAL DAMAGE        214408\n",
      "NARCOTICS              207540\n",
      "BURGLARY               128872\n",
      "OTHER OFFENSE          111875\n",
      "ASSAULT                110157\n",
      "MOTOR VEHICLE THEFT     89272\n",
      "ROBBERY                 74427\n",
      "DECEPTIVE PRACTICE      67885\n",
      "Name: count, dtype: int64 Primary Type\n",
      "KIDNAPPING                          1467\n",
      "INTIMIDATION                        1017\n",
      "STALKING                             935\n",
      "CRIMINAL SEXUAL ASSAULT              267\n",
      "OBSCENITY                            134\n",
      "PUBLIC INDECENCY                      51\n",
      "OTHER NARCOTIC VIOLATION              36\n",
      "NON-CRIMINAL                           8\n",
      "NON-CRIMINAL (SUBJECT SPECIFIED)       2\n",
      "HUMAN TRAFFICKING                      1\n",
      "Name: count, dtype: int64\n"
     ]
    }
   ],
   "source": [
    "print(ranked_crimes_top_10_recorded_08_to_12,ranked_crimes_bottom_10_recorded_08_to_12)"
   ]
  },
  {
   "cell_type": "markdown",
   "metadata": {},
   "source": [
    "**6.5** For all those crime categories you identified in 6.4, how does their distribution instead look per year - rather than the full 2008-2012 period as a whole?"
   ]
  },
  {
   "cell_type": "code",
   "execution_count": 2984,
   "metadata": {},
   "outputs": [],
   "source": [
    "def merge_five_df(df1,df2,df3,df4,df5):\n",
    "    merge_2 = pd.merge(df1,df2, on=\"Primary Type\")\n",
    "    merge_3 = merge_2.merge(df3, on=\"Primary Type\")\n",
    "    merge_4 = merge_3.merge(df4, on=\"Primary Type\")\n",
    "    merge_5 = merge_4.merge(df5, on=\"Primary Type\")\n",
    "    \n",
    "    return merge_5"
   ]
  },
  {
   "cell_type": "code",
   "execution_count": 2985,
   "metadata": {},
   "outputs": [],
   "source": [
    "def top_ten_crimes(year,crimes):\n",
    "    filtered_df = chicago_crime_2008_to_2012_df[(chicago_crime_2008_to_2012_df[\"Year\"] == year) & (chicago_crime_2008_to_2012_df[\"Primary Type\"].isin(crimes))]\n",
    "    return pd.DataFrame(filtered_df[\"Primary Type\"].value_counts()).reset_index().rename(columns={\"count\": f\"crimes_{year}\"})"
   ]
  },
  {
   "cell_type": "code",
   "execution_count": 2992,
   "metadata": {},
   "outputs": [],
   "source": [
    "top_crimes_10=ranked_crimes_top_10_recorded_08_to_12.index.to_list()\n",
    "bottom_crimes_10 = ranked_crimes_bottom_10_recorded_08_to_12.index.to_list()\n",
    "all_years_low_10= merge_five_df(top_ten_crimes(2008,top_crimes_10),top_ten_crimes(2009,top_crimes_10),top_ten_crimes(2010,top_crimes_10),top_ten_crimes(2011,top_crimes_10),top_ten_crimes(2012,top_crimes_10))\n",
    "all_years_bottom_10= merge_five_df(top_ten_crimes(2008,bottom_crimes_10),top_ten_crimes(2009,bottom_crimes_10),top_ten_crimes(2010,bottom_crimes_10),top_ten_crimes(2011,bottom_crimes_10),top_ten_crimes(2012,bottom_crimes_10))"
   ]
  },
  {
   "cell_type": "code",
   "execution_count": 3000,
   "metadata": {},
   "outputs": [
    {
     "data": {
      "text/html": [
       "<div>\n",
       "<style scoped>\n",
       "    .dataframe tbody tr th:only-of-type {\n",
       "        vertical-align: middle;\n",
       "    }\n",
       "\n",
       "    .dataframe tbody tr th {\n",
       "        vertical-align: top;\n",
       "    }\n",
       "\n",
       "    .dataframe thead th {\n",
       "        text-align: right;\n",
       "    }\n",
       "</style>\n",
       "<table border=\"1\" class=\"dataframe\">\n",
       "  <thead>\n",
       "    <tr style=\"text-align: right;\">\n",
       "      <th></th>\n",
       "      <th>Primary Type</th>\n",
       "      <th>crimes_2008</th>\n",
       "      <th>crimes_2009</th>\n",
       "      <th>crimes_2010</th>\n",
       "      <th>crimes_2011</th>\n",
       "      <th>crimes_2012</th>\n",
       "    </tr>\n",
       "  </thead>\n",
       "  <tbody>\n",
       "    <tr>\n",
       "      <th>0</th>\n",
       "      <td>THEFT</td>\n",
       "      <td>88437</td>\n",
       "      <td>80976</td>\n",
       "      <td>76757</td>\n",
       "      <td>75153</td>\n",
       "      <td>75465</td>\n",
       "    </tr>\n",
       "    <tr>\n",
       "      <th>1</th>\n",
       "      <td>BATTERY</td>\n",
       "      <td>75930</td>\n",
       "      <td>68460</td>\n",
       "      <td>65401</td>\n",
       "      <td>60459</td>\n",
       "      <td>59134</td>\n",
       "    </tr>\n",
       "    <tr>\n",
       "      <th>2</th>\n",
       "      <td>CRIMINAL DAMAGE</td>\n",
       "      <td>52843</td>\n",
       "      <td>47725</td>\n",
       "      <td>40654</td>\n",
       "      <td>37331</td>\n",
       "      <td>35855</td>\n",
       "    </tr>\n",
       "    <tr>\n",
       "      <th>3</th>\n",
       "      <td>NARCOTICS</td>\n",
       "      <td>46506</td>\n",
       "      <td>43542</td>\n",
       "      <td>43398</td>\n",
       "      <td>38605</td>\n",
       "      <td>35489</td>\n",
       "    </tr>\n",
       "    <tr>\n",
       "      <th>4</th>\n",
       "      <td>OTHER OFFENSE</td>\n",
       "      <td>26532</td>\n",
       "      <td>25601</td>\n",
       "      <td>22012</td>\n",
       "      <td>20206</td>\n",
       "      <td>17524</td>\n",
       "    </tr>\n",
       "    <tr>\n",
       "      <th>5</th>\n",
       "      <td>BURGLARY</td>\n",
       "      <td>26218</td>\n",
       "      <td>26767</td>\n",
       "      <td>26422</td>\n",
       "      <td>26620</td>\n",
       "      <td>22845</td>\n",
       "    </tr>\n",
       "    <tr>\n",
       "      <th>6</th>\n",
       "      <td>ASSAULT</td>\n",
       "      <td>25448</td>\n",
       "      <td>22861</td>\n",
       "      <td>21537</td>\n",
       "      <td>20411</td>\n",
       "      <td>19900</td>\n",
       "    </tr>\n",
       "    <tr>\n",
       "      <th>7</th>\n",
       "      <td>MOTOR VEHICLE THEFT</td>\n",
       "      <td>18881</td>\n",
       "      <td>15482</td>\n",
       "      <td>19029</td>\n",
       "      <td>19388</td>\n",
       "      <td>16492</td>\n",
       "    </tr>\n",
       "    <tr>\n",
       "      <th>8</th>\n",
       "      <td>ROBBERY</td>\n",
       "      <td>16703</td>\n",
       "      <td>15981</td>\n",
       "      <td>14275</td>\n",
       "      <td>13983</td>\n",
       "      <td>13485</td>\n",
       "    </tr>\n",
       "    <tr>\n",
       "      <th>9</th>\n",
       "      <td>DECEPTIVE PRACTICE</td>\n",
       "      <td>14933</td>\n",
       "      <td>13878</td>\n",
       "      <td>12578</td>\n",
       "      <td>12730</td>\n",
       "      <td>13766</td>\n",
       "    </tr>\n",
       "  </tbody>\n",
       "</table>\n",
       "</div>"
      ],
      "text/plain": [
       "          Primary Type  crimes_2008  crimes_2009  crimes_2010  crimes_2011  \\\n",
       "0                THEFT        88437        80976        76757        75153   \n",
       "1              BATTERY        75930        68460        65401        60459   \n",
       "2      CRIMINAL DAMAGE        52843        47725        40654        37331   \n",
       "3            NARCOTICS        46506        43542        43398        38605   \n",
       "4        OTHER OFFENSE        26532        25601        22012        20206   \n",
       "5             BURGLARY        26218        26767        26422        26620   \n",
       "6              ASSAULT        25448        22861        21537        20411   \n",
       "7  MOTOR VEHICLE THEFT        18881        15482        19029        19388   \n",
       "8              ROBBERY        16703        15981        14275        13983   \n",
       "9   DECEPTIVE PRACTICE        14933        13878        12578        12730   \n",
       "\n",
       "   crimes_2012  \n",
       "0        75465  \n",
       "1        59134  \n",
       "2        35855  \n",
       "3        35489  \n",
       "4        17524  \n",
       "5        22845  \n",
       "6        19900  \n",
       "7        16492  \n",
       "8        13485  \n",
       "9        13766  "
      ]
     },
     "execution_count": 3000,
     "metadata": {},
     "output_type": "execute_result"
    }
   ],
   "source": [
    "all_years_low_10\n",
    "# all_years_bottom_10"
   ]
  },
  {
   "cell_type": "code",
   "execution_count": 2901,
   "metadata": {},
   "outputs": [],
   "source": [
    "\n"
   ]
  },
  {
   "cell_type": "code",
   "execution_count": 2858,
   "metadata": {},
   "outputs": [],
   "source": []
  },
  {
   "cell_type": "markdown",
   "metadata": {},
   "source": [
    "**6.6*** Which primary crime types does the city of Chicago seem to get better at preventing? For which ones is it the opposite, i.e, the situation is getting worse? "
   ]
  },
  {
   "cell_type": "code",
   "execution_count": null,
   "metadata": {},
   "outputs": [],
   "source": []
  },
  {
   "cell_type": "markdown",
   "metadata": {},
   "source": [
    "# 7 - Night Stalker"
   ]
  },
  {
   "cell_type": "markdown",
   "metadata": {},
   "source": [
    "**7.1** Are there more or less crimes reported during daytime, compared with nighttime? Daytime is considered as all hours between 06:00-18:00, nighttime is the rest of the day."
   ]
  },
  {
   "cell_type": "code",
   "execution_count": null,
   "metadata": {},
   "outputs": [],
   "source": []
  },
  {
   "cell_type": "markdown",
   "metadata": {},
   "source": [
    "**7.2** In general, for each weekday, how many crimes are recorded during daytime and how many during nighttime? What are the trends? Are there any weekdays that stands out somehow?"
   ]
  },
  {
   "cell_type": "code",
   "execution_count": null,
   "metadata": {},
   "outputs": [],
   "source": []
  },
  {
   "cell_type": "markdown",
   "metadata": {},
   "source": [
    "**7.3** Does the trends you've found in 7.3 also hold if you look at each year individually?"
   ]
  },
  {
   "cell_type": "code",
   "execution_count": null,
   "metadata": {},
   "outputs": [],
   "source": []
  },
  {
   "cell_type": "markdown",
   "metadata": {},
   "source": [
    "**7.4** Are there any weekdays in which Stalking occurs more often during nighttime?"
   ]
  },
  {
   "cell_type": "code",
   "execution_count": null,
   "metadata": {},
   "outputs": [],
   "source": []
  },
  {
   "cell_type": "markdown",
   "metadata": {},
   "source": [
    "**7.5*** Are there any specific primary crime types that most often occur during nights? If so, which ones are they? Where do they occur? Are certain days of the week notable here somehow?"
   ]
  },
  {
   "cell_type": "code",
   "execution_count": null,
   "metadata": {},
   "outputs": [],
   "source": []
  },
  {
   "cell_type": "markdown",
   "metadata": {},
   "source": [
    "# 8 - Grand Theft Auto"
   ]
  },
  {
   "cell_type": "markdown",
   "metadata": {},
   "source": [
    "**8.1** You just bought a new car. What weekday should you be most wary of as it has the highest risk for a Grand Theft Auto-style robbery (MOTOR VEHICLE THEFT)?"
   ]
  },
  {
   "cell_type": "code",
   "execution_count": null,
   "metadata": {},
   "outputs": [],
   "source": []
  },
  {
   "cell_type": "markdown",
   "metadata": {},
   "source": [
    "**8.2** For that day, where (at what location) should you absolutely avoid leave your car carelessly? Where is it seemingly safest to do so?"
   ]
  },
  {
   "cell_type": "code",
   "execution_count": null,
   "metadata": {},
   "outputs": [],
   "source": []
  },
  {
   "cell_type": "markdown",
   "metadata": {},
   "source": [
    "**8.3*** Are there certain periods of the year/month/day/time of day where GTA is more frequent?"
   ]
  },
  {
   "cell_type": "code",
   "execution_count": null,
   "metadata": {},
   "outputs": [],
   "source": []
  },
  {
   "cell_type": "markdown",
   "metadata": {},
   "source": [
    "# 9. Just send me like location"
   ]
  },
  {
   "cell_type": "markdown",
   "metadata": {},
   "source": [
    "https://www.youtube.com/watch?v=k7yBJ5Ffkdo"
   ]
  },
  {
   "cell_type": "markdown",
   "metadata": {},
   "source": [
    "**9.1** Are there any (geographical) areas hit particularly hard by prostitution on friday nights?"
   ]
  },
  {
   "cell_type": "code",
   "execution_count": null,
   "metadata": {},
   "outputs": [],
   "source": []
  },
  {
   "cell_type": "markdown",
   "metadata": {},
   "source": [
    "**9.2*** Can you vizualise the locations from 9.1 on a map of Chicago? Is there a concentration somewhere? "
   ]
  },
  {
   "cell_type": "code",
   "execution_count": null,
   "metadata": {},
   "outputs": [],
   "source": []
  },
  {
   "cell_type": "markdown",
   "metadata": {},
   "source": [
    "**9.3*** Can you find any geographical concentration of other crime categories? Perhaps even by weekday and or day/nighttime or certain dates of the year? Plot these on a map of Chicago. "
   ]
  },
  {
   "cell_type": "code",
   "execution_count": null,
   "metadata": {},
   "outputs": [],
   "source": []
  },
  {
   "cell_type": "markdown",
   "metadata": {},
   "source": [
    "# 10 - The $ factor"
   ]
  },
  {
   "cell_type": "markdown",
   "metadata": {},
   "source": [
    "**10.1** Merge the crime and census datasets together in a suitable way."
   ]
  },
  {
   "cell_type": "code",
   "execution_count": null,
   "metadata": {},
   "outputs": [],
   "source": []
  },
  {
   "cell_type": "markdown",
   "metadata": {},
   "source": [
    "**10.2*** Are there certain kinds of socoeconomic area that are more prone to certain kinds of crimes? Do a deep dive in the direction you fancy yourself here."
   ]
  },
  {
   "cell_type": "code",
   "execution_count": null,
   "metadata": {},
   "outputs": [],
   "source": []
  },
  {
   "cell_type": "markdown",
   "metadata": {},
   "source": [
    "# 11 - Spotligt on you, Maestro!"
   ]
  },
  {
   "cell_type": "markdown",
   "metadata": {},
   "source": [
    "There are obviously so much more to gain by analysing these datasets. This is now your opportunity to dwelve deeper into what you yourself like. Recall that the census data contributed with **alot** of dimensions.\n",
    "\n",
    "    Instructions: think of one or several questions (as we've done above). Then, proceed with your own deep dive analysis and provide your answers."
   ]
  },
  {
   "cell_type": "markdown",
   "metadata": {},
   "source": [
    "# 12 - A moment of reflection"
   ]
  },
  {
   "cell_type": "markdown",
   "metadata": {},
   "source": [
    "**12.1** Looking back at the analysis that you've done, what do you think about it? Specifically, how reliable are your conclusions? Is there anything that could be done to improve the factuality of the analysis? If so, what?"
   ]
  }
 ],
 "metadata": {
  "kernelspec": {
   "display_name": "databehandling",
   "language": "python",
   "name": "python3"
  },
  "language_info": {
   "codemirror_mode": {
    "name": "ipython",
    "version": 3
   },
   "file_extension": ".py",
   "mimetype": "text/x-python",
   "name": "python",
   "nbconvert_exporter": "python",
   "pygments_lexer": "ipython3",
   "version": "3.11.4"
  }
 },
 "nbformat": 4,
 "nbformat_minor": 2
}
